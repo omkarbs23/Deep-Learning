{
  "cells": [
    {
      "cell_type": "markdown",
      "source": [
        "Importing Libraries"
      ],
      "metadata": {
        "id": "VJO2Fn_SvjoM"
      },
      "id": "VJO2Fn_SvjoM"
    },
    {
      "cell_type": "code",
      "execution_count": null,
      "id": "06f98772",
      "metadata": {
        "id": "06f98772"
      },
      "outputs": [],
      "source": [
        "import pandas as pd\n",
        "import numpy as np\n",
        "import seaborn as sns\n",
        "import warnings\n",
        "warnings.filterwarnings(\"ignore\")"
      ]
    },
    {
      "cell_type": "code",
      "execution_count": null,
      "id": "594648d1",
      "metadata": {
        "id": "594648d1"
      },
      "outputs": [],
      "source": [
        "import tensorflow as tf"
      ]
    },
    {
      "cell_type": "markdown",
      "source": [
        "Loading Data"
      ],
      "metadata": {
        "id": "ycWwz2mdvmek"
      },
      "id": "ycWwz2mdvmek"
    },
    {
      "cell_type": "code",
      "execution_count": null,
      "id": "41665645",
      "metadata": {
        "id": "41665645"
      },
      "outputs": [],
      "source": [
        "df=pd.read_csv(\"diabetes.csv\")"
      ]
    },
    {
      "cell_type": "code",
      "execution_count": null,
      "id": "99166dc5",
      "metadata": {
        "colab": {
          "base_uri": "https://localhost:8080/",
          "height": 206
        },
        "id": "99166dc5",
        "outputId": "ef07c83f-6e0f-45a7-e1c7-242cbca3e5cf"
      },
      "outputs": [
        {
          "output_type": "execute_result",
          "data": {
            "text/plain": [
              "   Pregnancies  Glucose  BloodPressure  SkinThickness  Insulin   BMI  \\\n",
              "0            6      148             72             35        0  33.6   \n",
              "1            1       85             66             29        0  26.6   \n",
              "2            8      183             64              0        0  23.3   \n",
              "3            1       89             66             23       94  28.1   \n",
              "4            0      137             40             35      168  43.1   \n",
              "\n",
              "   DiabetesPedigreeFunction  Age  Outcome  \n",
              "0                     0.627   50        1  \n",
              "1                     0.351   31        0  \n",
              "2                     0.672   32        1  \n",
              "3                     0.167   21        0  \n",
              "4                     2.288   33        1  "
            ],
            "text/html": [
              "\n",
              "  <div id=\"df-cf74e18a-5ede-4703-a6e6-480e283d2a24\">\n",
              "    <div class=\"colab-df-container\">\n",
              "      <div>\n",
              "<style scoped>\n",
              "    .dataframe tbody tr th:only-of-type {\n",
              "        vertical-align: middle;\n",
              "    }\n",
              "\n",
              "    .dataframe tbody tr th {\n",
              "        vertical-align: top;\n",
              "    }\n",
              "\n",
              "    .dataframe thead th {\n",
              "        text-align: right;\n",
              "    }\n",
              "</style>\n",
              "<table border=\"1\" class=\"dataframe\">\n",
              "  <thead>\n",
              "    <tr style=\"text-align: right;\">\n",
              "      <th></th>\n",
              "      <th>Pregnancies</th>\n",
              "      <th>Glucose</th>\n",
              "      <th>BloodPressure</th>\n",
              "      <th>SkinThickness</th>\n",
              "      <th>Insulin</th>\n",
              "      <th>BMI</th>\n",
              "      <th>DiabetesPedigreeFunction</th>\n",
              "      <th>Age</th>\n",
              "      <th>Outcome</th>\n",
              "    </tr>\n",
              "  </thead>\n",
              "  <tbody>\n",
              "    <tr>\n",
              "      <th>0</th>\n",
              "      <td>6</td>\n",
              "      <td>148</td>\n",
              "      <td>72</td>\n",
              "      <td>35</td>\n",
              "      <td>0</td>\n",
              "      <td>33.6</td>\n",
              "      <td>0.627</td>\n",
              "      <td>50</td>\n",
              "      <td>1</td>\n",
              "    </tr>\n",
              "    <tr>\n",
              "      <th>1</th>\n",
              "      <td>1</td>\n",
              "      <td>85</td>\n",
              "      <td>66</td>\n",
              "      <td>29</td>\n",
              "      <td>0</td>\n",
              "      <td>26.6</td>\n",
              "      <td>0.351</td>\n",
              "      <td>31</td>\n",
              "      <td>0</td>\n",
              "    </tr>\n",
              "    <tr>\n",
              "      <th>2</th>\n",
              "      <td>8</td>\n",
              "      <td>183</td>\n",
              "      <td>64</td>\n",
              "      <td>0</td>\n",
              "      <td>0</td>\n",
              "      <td>23.3</td>\n",
              "      <td>0.672</td>\n",
              "      <td>32</td>\n",
              "      <td>1</td>\n",
              "    </tr>\n",
              "    <tr>\n",
              "      <th>3</th>\n",
              "      <td>1</td>\n",
              "      <td>89</td>\n",
              "      <td>66</td>\n",
              "      <td>23</td>\n",
              "      <td>94</td>\n",
              "      <td>28.1</td>\n",
              "      <td>0.167</td>\n",
              "      <td>21</td>\n",
              "      <td>0</td>\n",
              "    </tr>\n",
              "    <tr>\n",
              "      <th>4</th>\n",
              "      <td>0</td>\n",
              "      <td>137</td>\n",
              "      <td>40</td>\n",
              "      <td>35</td>\n",
              "      <td>168</td>\n",
              "      <td>43.1</td>\n",
              "      <td>2.288</td>\n",
              "      <td>33</td>\n",
              "      <td>1</td>\n",
              "    </tr>\n",
              "  </tbody>\n",
              "</table>\n",
              "</div>\n",
              "      <button class=\"colab-df-convert\" onclick=\"convertToInteractive('df-cf74e18a-5ede-4703-a6e6-480e283d2a24')\"\n",
              "              title=\"Convert this dataframe to an interactive table.\"\n",
              "              style=\"display:none;\">\n",
              "        \n",
              "  <svg xmlns=\"http://www.w3.org/2000/svg\" height=\"24px\"viewBox=\"0 0 24 24\"\n",
              "       width=\"24px\">\n",
              "    <path d=\"M0 0h24v24H0V0z\" fill=\"none\"/>\n",
              "    <path d=\"M18.56 5.44l.94 2.06.94-2.06 2.06-.94-2.06-.94-.94-2.06-.94 2.06-2.06.94zm-11 1L8.5 8.5l.94-2.06 2.06-.94-2.06-.94L8.5 2.5l-.94 2.06-2.06.94zm10 10l.94 2.06.94-2.06 2.06-.94-2.06-.94-.94-2.06-.94 2.06-2.06.94z\"/><path d=\"M17.41 7.96l-1.37-1.37c-.4-.4-.92-.59-1.43-.59-.52 0-1.04.2-1.43.59L10.3 9.45l-7.72 7.72c-.78.78-.78 2.05 0 2.83L4 21.41c.39.39.9.59 1.41.59.51 0 1.02-.2 1.41-.59l7.78-7.78 2.81-2.81c.8-.78.8-2.07 0-2.86zM5.41 20L4 18.59l7.72-7.72 1.47 1.35L5.41 20z\"/>\n",
              "  </svg>\n",
              "      </button>\n",
              "      \n",
              "  <style>\n",
              "    .colab-df-container {\n",
              "      display:flex;\n",
              "      flex-wrap:wrap;\n",
              "      gap: 12px;\n",
              "    }\n",
              "\n",
              "    .colab-df-convert {\n",
              "      background-color: #E8F0FE;\n",
              "      border: none;\n",
              "      border-radius: 50%;\n",
              "      cursor: pointer;\n",
              "      display: none;\n",
              "      fill: #1967D2;\n",
              "      height: 32px;\n",
              "      padding: 0 0 0 0;\n",
              "      width: 32px;\n",
              "    }\n",
              "\n",
              "    .colab-df-convert:hover {\n",
              "      background-color: #E2EBFA;\n",
              "      box-shadow: 0px 1px 2px rgba(60, 64, 67, 0.3), 0px 1px 3px 1px rgba(60, 64, 67, 0.15);\n",
              "      fill: #174EA6;\n",
              "    }\n",
              "\n",
              "    [theme=dark] .colab-df-convert {\n",
              "      background-color: #3B4455;\n",
              "      fill: #D2E3FC;\n",
              "    }\n",
              "\n",
              "    [theme=dark] .colab-df-convert:hover {\n",
              "      background-color: #434B5C;\n",
              "      box-shadow: 0px 1px 3px 1px rgba(0, 0, 0, 0.15);\n",
              "      filter: drop-shadow(0px 1px 2px rgba(0, 0, 0, 0.3));\n",
              "      fill: #FFFFFF;\n",
              "    }\n",
              "  </style>\n",
              "\n",
              "      <script>\n",
              "        const buttonEl =\n",
              "          document.querySelector('#df-cf74e18a-5ede-4703-a6e6-480e283d2a24 button.colab-df-convert');\n",
              "        buttonEl.style.display =\n",
              "          google.colab.kernel.accessAllowed ? 'block' : 'none';\n",
              "\n",
              "        async function convertToInteractive(key) {\n",
              "          const element = document.querySelector('#df-cf74e18a-5ede-4703-a6e6-480e283d2a24');\n",
              "          const dataTable =\n",
              "            await google.colab.kernel.invokeFunction('convertToInteractive',\n",
              "                                                     [key], {});\n",
              "          if (!dataTable) return;\n",
              "\n",
              "          const docLinkHtml = 'Like what you see? Visit the ' +\n",
              "            '<a target=\"_blank\" href=https://colab.research.google.com/notebooks/data_table.ipynb>data table notebook</a>'\n",
              "            + ' to learn more about interactive tables.';\n",
              "          element.innerHTML = '';\n",
              "          dataTable['output_type'] = 'display_data';\n",
              "          await google.colab.output.renderOutput(dataTable, element);\n",
              "          const docLink = document.createElement('div');\n",
              "          docLink.innerHTML = docLinkHtml;\n",
              "          element.appendChild(docLink);\n",
              "        }\n",
              "      </script>\n",
              "    </div>\n",
              "  </div>\n",
              "  "
            ]
          },
          "metadata": {},
          "execution_count": 4
        }
      ],
      "source": [
        "df.head()"
      ]
    },
    {
      "cell_type": "code",
      "execution_count": null,
      "id": "49892f2b",
      "metadata": {
        "colab": {
          "base_uri": "https://localhost:8080/"
        },
        "id": "49892f2b",
        "outputId": "ae9911dd-e1af-42b6-c634-af63a6636947"
      },
      "outputs": [
        {
          "output_type": "stream",
          "name": "stdout",
          "text": [
            "<class 'pandas.core.frame.DataFrame'>\n",
            "RangeIndex: 768 entries, 0 to 767\n",
            "Data columns (total 9 columns):\n",
            " #   Column                    Non-Null Count  Dtype  \n",
            "---  ------                    --------------  -----  \n",
            " 0   Pregnancies               768 non-null    int64  \n",
            " 1   Glucose                   768 non-null    int64  \n",
            " 2   BloodPressure             768 non-null    int64  \n",
            " 3   SkinThickness             768 non-null    int64  \n",
            " 4   Insulin                   768 non-null    int64  \n",
            " 5   BMI                       768 non-null    float64\n",
            " 6   DiabetesPedigreeFunction  768 non-null    float64\n",
            " 7   Age                       768 non-null    int64  \n",
            " 8   Outcome                   768 non-null    int64  \n",
            "dtypes: float64(2), int64(7)\n",
            "memory usage: 54.1 KB\n"
          ]
        }
      ],
      "source": [
        "df.info()"
      ]
    },
    {
      "cell_type": "markdown",
      "source": [
        "Standardization"
      ],
      "metadata": {
        "id": "INCeiqjbvore"
      },
      "id": "INCeiqjbvore"
    },
    {
      "cell_type": "code",
      "execution_count": null,
      "id": "d7b73e09",
      "metadata": {
        "colab": {
          "base_uri": "https://localhost:8080/"
        },
        "id": "d7b73e09",
        "outputId": "ca07ec8a-c6ab-41e5-9782-48c9d1ceada3"
      },
      "outputs": [
        {
          "output_type": "execute_result",
          "data": {
            "text/plain": [
              "array([[ 0.63994726,  0.84832379,  0.14964075, ...,  0.20401277,\n",
              "         0.46849198,  1.4259954 ],\n",
              "       [-0.84488505, -1.12339636, -0.16054575, ..., -0.68442195,\n",
              "        -0.36506078, -0.19067191],\n",
              "       [ 1.23388019,  1.94372388, -0.26394125, ..., -1.10325546,\n",
              "         0.60439732, -0.10558415],\n",
              "       ...,\n",
              "       [ 0.3429808 ,  0.00330087,  0.14964075, ..., -0.73518964,\n",
              "        -0.68519336, -0.27575966],\n",
              "       [-0.84488505,  0.1597866 , -0.47073225, ..., -0.24020459,\n",
              "        -0.37110101,  1.17073215],\n",
              "       [-0.84488505, -0.8730192 ,  0.04624525, ..., -0.20212881,\n",
              "        -0.47378505, -0.87137393]])"
            ]
          },
          "metadata": {},
          "execution_count": 6
        }
      ],
      "source": [
        "from sklearn.preprocessing import StandardScaler\n",
        "SS = StandardScaler()\n",
        "X=df.iloc[:,0:-1]\n",
        "X = SS.fit_transform(X)\n",
        "X"
      ]
    },
    {
      "cell_type": "code",
      "execution_count": null,
      "id": "d1293e00",
      "metadata": {
        "colab": {
          "base_uri": "https://localhost:8080/"
        },
        "id": "d1293e00",
        "outputId": "89b3596d-2a33-474d-92c7-2fffeb58943d"
      },
      "outputs": [
        {
          "output_type": "execute_result",
          "data": {
            "text/plain": [
              "array([1, 0, 1, 0, 1, 0, 1, 0, 1, 1, 0, 1, 0, 1, 1, 1, 1, 1, 0, 1, 0, 0,\n",
              "       1, 1, 1, 1, 1, 0, 0, 0, 0, 1, 0, 0, 0, 0, 0, 1, 1, 1, 0, 0, 0, 1,\n",
              "       0, 1, 0, 0, 1, 0, 0, 0, 0, 1, 0, 0, 1, 0, 0, 0, 0, 1, 0, 0, 1, 0,\n",
              "       1, 0, 0, 0, 1, 0, 1, 0, 0, 0, 0, 0, 1, 0, 0, 0, 0, 0, 1, 0, 0, 0,\n",
              "       1, 0, 0, 0, 0, 1, 0, 0, 0, 0, 0, 1, 1, 0, 0, 0, 0, 0, 0, 0, 0, 1,\n",
              "       1, 1, 0, 0, 1, 1, 1, 0, 0, 0, 1, 0, 0, 0, 1, 1, 0, 0, 1, 1, 1, 1,\n",
              "       1, 0, 0, 0, 0, 0, 0, 0, 0, 0, 0, 1, 0, 0, 0, 0, 0, 0, 0, 0, 1, 0,\n",
              "       1, 1, 0, 0, 0, 1, 0, 0, 0, 0, 1, 1, 0, 0, 0, 0, 1, 1, 0, 0, 0, 1,\n",
              "       0, 1, 0, 1, 0, 0, 0, 0, 0, 1, 1, 1, 1, 1, 0, 0, 1, 1, 0, 1, 0, 1,\n",
              "       1, 1, 0, 0, 0, 0, 0, 0, 1, 1, 0, 1, 0, 0, 0, 1, 1, 1, 1, 0, 1, 1,\n",
              "       1, 1, 0, 0, 0, 0, 0, 1, 0, 0, 1, 1, 0, 0, 0, 1, 1, 1, 1, 0, 0, 0,\n",
              "       1, 1, 0, 1, 0, 0, 0, 0, 0, 0, 0, 0, 1, 1, 0, 0, 0, 1, 0, 1, 0, 0,\n",
              "       1, 0, 1, 0, 0, 1, 1, 0, 0, 0, 0, 0, 1, 0, 0, 0, 1, 0, 0, 1, 1, 0,\n",
              "       0, 1, 0, 0, 0, 1, 1, 1, 0, 0, 1, 0, 1, 0, 1, 1, 0, 1, 0, 0, 1, 0,\n",
              "       1, 1, 0, 0, 1, 0, 1, 0, 0, 1, 0, 1, 0, 1, 1, 1, 0, 0, 1, 0, 1, 0,\n",
              "       0, 0, 1, 0, 0, 0, 0, 1, 1, 1, 0, 0, 0, 0, 0, 0, 0, 0, 0, 1, 0, 0,\n",
              "       0, 0, 0, 1, 1, 1, 0, 1, 1, 0, 0, 1, 0, 0, 1, 0, 0, 1, 1, 0, 0, 0,\n",
              "       0, 1, 0, 0, 1, 0, 0, 0, 0, 0, 0, 0, 1, 1, 1, 0, 0, 1, 0, 0, 1, 0,\n",
              "       0, 1, 0, 1, 1, 0, 1, 0, 1, 0, 1, 0, 1, 1, 0, 0, 0, 0, 1, 1, 0, 1,\n",
              "       0, 1, 0, 0, 0, 0, 1, 1, 0, 1, 0, 1, 0, 0, 0, 0, 0, 1, 0, 0, 0, 0,\n",
              "       1, 0, 0, 1, 1, 1, 0, 0, 1, 0, 0, 1, 0, 0, 0, 1, 0, 0, 1, 0, 0, 0,\n",
              "       0, 0, 0, 0, 0, 0, 1, 0, 0, 0, 0, 0, 0, 0, 1, 0, 0, 0, 1, 0, 0, 0,\n",
              "       1, 1, 0, 0, 0, 0, 0, 0, 0, 1, 0, 0, 0, 0, 1, 0, 0, 0, 1, 0, 0, 0,\n",
              "       1, 0, 0, 0, 1, 0, 0, 0, 0, 1, 1, 0, 0, 0, 0, 0, 0, 1, 0, 0, 0, 0,\n",
              "       0, 0, 0, 0, 0, 0, 0, 1, 0, 0, 0, 1, 1, 1, 1, 0, 0, 1, 1, 0, 0, 0,\n",
              "       0, 0, 0, 0, 0, 0, 0, 0, 0, 0, 1, 1, 0, 0, 0, 0, 0, 0, 0, 1, 0, 0,\n",
              "       0, 0, 0, 0, 0, 1, 0, 1, 1, 0, 0, 0, 1, 0, 1, 0, 1, 0, 1, 0, 1, 0,\n",
              "       0, 1, 0, 0, 1, 0, 0, 0, 0, 1, 1, 0, 1, 0, 0, 0, 0, 1, 1, 0, 1, 0,\n",
              "       0, 0, 1, 1, 0, 0, 0, 0, 0, 0, 0, 0, 0, 0, 1, 0, 0, 0, 0, 1, 0, 0,\n",
              "       1, 0, 0, 0, 1, 0, 0, 0, 1, 1, 1, 0, 0, 0, 0, 0, 0, 1, 0, 0, 0, 1,\n",
              "       0, 1, 1, 1, 1, 0, 1, 1, 0, 0, 0, 0, 0, 0, 0, 1, 1, 0, 1, 0, 0, 1,\n",
              "       0, 1, 0, 0, 0, 0, 0, 1, 0, 1, 0, 1, 0, 1, 1, 0, 0, 0, 0, 1, 1, 0,\n",
              "       0, 0, 1, 0, 1, 1, 0, 0, 1, 0, 0, 1, 1, 0, 0, 1, 0, 0, 1, 0, 0, 0,\n",
              "       0, 0, 0, 0, 1, 1, 1, 0, 0, 0, 0, 0, 0, 1, 1, 0, 0, 1, 0, 0, 1, 0,\n",
              "       1, 1, 1, 0, 0, 1, 1, 1, 0, 1, 0, 1, 0, 1, 0, 0, 0, 0, 1, 0])"
            ]
          },
          "metadata": {},
          "execution_count": 7
        }
      ],
      "source": [
        "Y=df[\"Outcome\"].values\n",
        "Y"
      ]
    },
    {
      "cell_type": "markdown",
      "source": [
        "Splitting the Data"
      ],
      "metadata": {
        "id": "Hp3uR0mkvw2W"
      },
      "id": "Hp3uR0mkvw2W"
    },
    {
      "cell_type": "code",
      "source": [
        "from sklearn.model_selection import train_test_split \n",
        "X_train,X_test,Y_train,Y_test = train_test_split(X,Y,test_size=0.2)"
      ],
      "metadata": {
        "id": "z-uZ0aiNVWnd"
      },
      "id": "z-uZ0aiNVWnd",
      "execution_count": null,
      "outputs": []
    },
    {
      "cell_type": "code",
      "execution_count": null,
      "id": "4d81f41f",
      "metadata": {
        "id": "4d81f41f"
      },
      "outputs": [],
      "source": [
        "from tensorflow.keras import Sequential\n",
        "from tensorflow.keras.layers import Dense\n",
        "from sklearn.metrics import classification_report\n",
        "from tensorflow.keras.callbacks import EarlyStopping\n"
      ]
    },
    {
      "cell_type": "code",
      "source": [
        "import pathlib\n",
        "ES = EarlyStopping(monitor=\"val_loss\",mode=\"min\",verbose=1,patience=25)"
      ],
      "metadata": {
        "id": "JVgg_iOxDSGo"
      },
      "id": "JVgg_iOxDSGo",
      "execution_count": null,
      "outputs": []
    },
    {
      "cell_type": "markdown",
      "source": [
        "Modelling"
      ],
      "metadata": {
        "id": "42aP3gXpviBG"
      },
      "id": "42aP3gXpviBG"
    },
    {
      "cell_type": "code",
      "source": [
        "# step1 :- initialize the Model\n",
        "ann = Sequential()\n",
        "\n",
        "# step2 :- Add Layers into model\n",
        "ann.add( Dense(units = 10, activation = \"relu\") )\n",
        "ann.add( Dense(units = 10, activation = \"relu\") )\n",
        "ann.add( Dense(units = 1, activation = \"sigmoid\") )\n",
        "\n",
        "# step3 :- Establihing connection \n",
        "ann.compile(optimizer='adam', loss = 'binary_crossentropy', metrics=[\"accuracy\"])\n",
        "\n",
        "# step4 :- Fit the model\n",
        "ann.fit(X_train, Y_train, batch_size = 25, epochs = 800,validation_data=(X_test,Y_test),callbacks=ES)\n"
      ],
      "metadata": {
        "colab": {
          "base_uri": "https://localhost:8080/"
        },
        "id": "2ug854L9Yo5B",
        "outputId": "cf0d86e3-0094-4f85-c346-1ba980b36562"
      },
      "id": "2ug854L9Yo5B",
      "execution_count": null,
      "outputs": [
        {
          "output_type": "stream",
          "name": "stdout",
          "text": [
            "Epoch 1/800\n",
            "25/25 [==============================] - 1s 13ms/step - loss: 0.6390 - accuracy: 0.6678 - val_loss: 0.6476 - val_accuracy: 0.6753\n",
            "Epoch 2/800\n",
            "25/25 [==============================] - 0s 3ms/step - loss: 0.5928 - accuracy: 0.6906 - val_loss: 0.6052 - val_accuracy: 0.6948\n",
            "Epoch 3/800\n",
            "25/25 [==============================] - 0s 4ms/step - loss: 0.5647 - accuracy: 0.7052 - val_loss: 0.5749 - val_accuracy: 0.6948\n",
            "Epoch 4/800\n",
            "25/25 [==============================] - 0s 4ms/step - loss: 0.5439 - accuracy: 0.7215 - val_loss: 0.5531 - val_accuracy: 0.7013\n",
            "Epoch 5/800\n",
            "25/25 [==============================] - 0s 4ms/step - loss: 0.5292 - accuracy: 0.7378 - val_loss: 0.5365 - val_accuracy: 0.7078\n",
            "Epoch 6/800\n",
            "25/25 [==============================] - 0s 4ms/step - loss: 0.5174 - accuracy: 0.7459 - val_loss: 0.5258 - val_accuracy: 0.7143\n",
            "Epoch 7/800\n",
            "25/25 [==============================] - 0s 4ms/step - loss: 0.5095 - accuracy: 0.7557 - val_loss: 0.5148 - val_accuracy: 0.7338\n",
            "Epoch 8/800\n",
            "25/25 [==============================] - 0s 5ms/step - loss: 0.5028 - accuracy: 0.7638 - val_loss: 0.5121 - val_accuracy: 0.7273\n",
            "Epoch 9/800\n",
            "25/25 [==============================] - 0s 4ms/step - loss: 0.4966 - accuracy: 0.7671 - val_loss: 0.5050 - val_accuracy: 0.7338\n",
            "Epoch 10/800\n",
            "25/25 [==============================] - 0s 4ms/step - loss: 0.4924 - accuracy: 0.7671 - val_loss: 0.5001 - val_accuracy: 0.7338\n",
            "Epoch 11/800\n",
            "25/25 [==============================] - 0s 4ms/step - loss: 0.4885 - accuracy: 0.7736 - val_loss: 0.4959 - val_accuracy: 0.7338\n",
            "Epoch 12/800\n",
            "25/25 [==============================] - 0s 4ms/step - loss: 0.4853 - accuracy: 0.7769 - val_loss: 0.4906 - val_accuracy: 0.7338\n",
            "Epoch 13/800\n",
            "25/25 [==============================] - 0s 4ms/step - loss: 0.4821 - accuracy: 0.7752 - val_loss: 0.4879 - val_accuracy: 0.7403\n",
            "Epoch 14/800\n",
            "25/25 [==============================] - 0s 5ms/step - loss: 0.4793 - accuracy: 0.7785 - val_loss: 0.4848 - val_accuracy: 0.7403\n",
            "Epoch 15/800\n",
            "25/25 [==============================] - 0s 4ms/step - loss: 0.4769 - accuracy: 0.7818 - val_loss: 0.4820 - val_accuracy: 0.7403\n",
            "Epoch 16/800\n",
            "25/25 [==============================] - 0s 4ms/step - loss: 0.4748 - accuracy: 0.7769 - val_loss: 0.4803 - val_accuracy: 0.7403\n",
            "Epoch 17/800\n",
            "25/25 [==============================] - 0s 4ms/step - loss: 0.4727 - accuracy: 0.7785 - val_loss: 0.4779 - val_accuracy: 0.7468\n",
            "Epoch 18/800\n",
            "25/25 [==============================] - 0s 4ms/step - loss: 0.4702 - accuracy: 0.7769 - val_loss: 0.4783 - val_accuracy: 0.7468\n",
            "Epoch 19/800\n",
            "25/25 [==============================] - 0s 3ms/step - loss: 0.4685 - accuracy: 0.7769 - val_loss: 0.4753 - val_accuracy: 0.7468\n",
            "Epoch 20/800\n",
            "25/25 [==============================] - 0s 3ms/step - loss: 0.4669 - accuracy: 0.7785 - val_loss: 0.4705 - val_accuracy: 0.7597\n",
            "Epoch 21/800\n",
            "25/25 [==============================] - 0s 4ms/step - loss: 0.4655 - accuracy: 0.7769 - val_loss: 0.4712 - val_accuracy: 0.7662\n",
            "Epoch 22/800\n",
            "25/25 [==============================] - 0s 4ms/step - loss: 0.4630 - accuracy: 0.7720 - val_loss: 0.4700 - val_accuracy: 0.7662\n",
            "Epoch 23/800\n",
            "25/25 [==============================] - 0s 4ms/step - loss: 0.4614 - accuracy: 0.7769 - val_loss: 0.4688 - val_accuracy: 0.7727\n",
            "Epoch 24/800\n",
            "25/25 [==============================] - 0s 3ms/step - loss: 0.4598 - accuracy: 0.7769 - val_loss: 0.4643 - val_accuracy: 0.7597\n",
            "Epoch 25/800\n",
            "25/25 [==============================] - 0s 4ms/step - loss: 0.4579 - accuracy: 0.7769 - val_loss: 0.4651 - val_accuracy: 0.7792\n",
            "Epoch 26/800\n",
            "25/25 [==============================] - 0s 3ms/step - loss: 0.4561 - accuracy: 0.7736 - val_loss: 0.4635 - val_accuracy: 0.7727\n",
            "Epoch 27/800\n",
            "25/25 [==============================] - 0s 5ms/step - loss: 0.4544 - accuracy: 0.7785 - val_loss: 0.4637 - val_accuracy: 0.7727\n",
            "Epoch 28/800\n",
            "25/25 [==============================] - 0s 9ms/step - loss: 0.4526 - accuracy: 0.7785 - val_loss: 0.4631 - val_accuracy: 0.7792\n",
            "Epoch 29/800\n",
            "25/25 [==============================] - 0s 7ms/step - loss: 0.4506 - accuracy: 0.7785 - val_loss: 0.4616 - val_accuracy: 0.7792\n",
            "Epoch 30/800\n",
            "25/25 [==============================] - 0s 10ms/step - loss: 0.4497 - accuracy: 0.7801 - val_loss: 0.4607 - val_accuracy: 0.7662\n",
            "Epoch 31/800\n",
            "25/25 [==============================] - 0s 12ms/step - loss: 0.4485 - accuracy: 0.7801 - val_loss: 0.4607 - val_accuracy: 0.7727\n",
            "Epoch 32/800\n",
            "25/25 [==============================] - 0s 12ms/step - loss: 0.4468 - accuracy: 0.7801 - val_loss: 0.4590 - val_accuracy: 0.7727\n",
            "Epoch 33/800\n",
            "25/25 [==============================] - 0s 13ms/step - loss: 0.4453 - accuracy: 0.7801 - val_loss: 0.4596 - val_accuracy: 0.7662\n",
            "Epoch 34/800\n",
            "25/25 [==============================] - 0s 11ms/step - loss: 0.4446 - accuracy: 0.7834 - val_loss: 0.4597 - val_accuracy: 0.7727\n",
            "Epoch 35/800\n",
            "25/25 [==============================] - 0s 15ms/step - loss: 0.4421 - accuracy: 0.7850 - val_loss: 0.4571 - val_accuracy: 0.7727\n",
            "Epoch 36/800\n",
            "25/25 [==============================] - 0s 12ms/step - loss: 0.4414 - accuracy: 0.7899 - val_loss: 0.4564 - val_accuracy: 0.7662\n",
            "Epoch 37/800\n",
            "25/25 [==============================] - 0s 18ms/step - loss: 0.4398 - accuracy: 0.7883 - val_loss: 0.4579 - val_accuracy: 0.7597\n",
            "Epoch 38/800\n",
            "25/25 [==============================] - 0s 13ms/step - loss: 0.4387 - accuracy: 0.7899 - val_loss: 0.4574 - val_accuracy: 0.7727\n",
            "Epoch 39/800\n",
            "25/25 [==============================] - 0s 12ms/step - loss: 0.4380 - accuracy: 0.7834 - val_loss: 0.4572 - val_accuracy: 0.7727\n",
            "Epoch 40/800\n",
            "25/25 [==============================] - 0s 8ms/step - loss: 0.4366 - accuracy: 0.7883 - val_loss: 0.4560 - val_accuracy: 0.7792\n",
            "Epoch 41/800\n",
            "25/25 [==============================] - 0s 10ms/step - loss: 0.4356 - accuracy: 0.7899 - val_loss: 0.4554 - val_accuracy: 0.7792\n",
            "Epoch 42/800\n",
            "25/25 [==============================] - 0s 12ms/step - loss: 0.4346 - accuracy: 0.7948 - val_loss: 0.4567 - val_accuracy: 0.7727\n",
            "Epoch 43/800\n",
            "25/25 [==============================] - 0s 6ms/step - loss: 0.4335 - accuracy: 0.7899 - val_loss: 0.4554 - val_accuracy: 0.7792\n",
            "Epoch 44/800\n",
            "25/25 [==============================] - 0s 8ms/step - loss: 0.4327 - accuracy: 0.7915 - val_loss: 0.4564 - val_accuracy: 0.7857\n",
            "Epoch 45/800\n",
            "25/25 [==============================] - 0s 10ms/step - loss: 0.4327 - accuracy: 0.7866 - val_loss: 0.4584 - val_accuracy: 0.7727\n",
            "Epoch 46/800\n",
            "25/25 [==============================] - 0s 6ms/step - loss: 0.4306 - accuracy: 0.7883 - val_loss: 0.4561 - val_accuracy: 0.7857\n",
            "Epoch 47/800\n",
            "25/25 [==============================] - 0s 7ms/step - loss: 0.4311 - accuracy: 0.7915 - val_loss: 0.4550 - val_accuracy: 0.7857\n",
            "Epoch 48/800\n",
            "25/25 [==============================] - 0s 6ms/step - loss: 0.4289 - accuracy: 0.7932 - val_loss: 0.4569 - val_accuracy: 0.7857\n",
            "Epoch 49/800\n",
            "25/25 [==============================] - 0s 8ms/step - loss: 0.4290 - accuracy: 0.7899 - val_loss: 0.4584 - val_accuracy: 0.7857\n",
            "Epoch 50/800\n",
            "25/25 [==============================] - 0s 12ms/step - loss: 0.4269 - accuracy: 0.7932 - val_loss: 0.4557 - val_accuracy: 0.7857\n",
            "Epoch 51/800\n",
            "25/25 [==============================] - 0s 8ms/step - loss: 0.4265 - accuracy: 0.7948 - val_loss: 0.4576 - val_accuracy: 0.7857\n",
            "Epoch 52/800\n",
            "25/25 [==============================] - 0s 7ms/step - loss: 0.4270 - accuracy: 0.7964 - val_loss: 0.4578 - val_accuracy: 0.7857\n",
            "Epoch 53/800\n",
            "25/25 [==============================] - 0s 7ms/step - loss: 0.4262 - accuracy: 0.7997 - val_loss: 0.4572 - val_accuracy: 0.7792\n",
            "Epoch 54/800\n",
            "25/25 [==============================] - 0s 7ms/step - loss: 0.4248 - accuracy: 0.7964 - val_loss: 0.4578 - val_accuracy: 0.7857\n",
            "Epoch 55/800\n",
            "25/25 [==============================] - 0s 6ms/step - loss: 0.4242 - accuracy: 0.7980 - val_loss: 0.4580 - val_accuracy: 0.7857\n",
            "Epoch 56/800\n",
            "25/25 [==============================] - 0s 7ms/step - loss: 0.4228 - accuracy: 0.7964 - val_loss: 0.4574 - val_accuracy: 0.7857\n",
            "Epoch 57/800\n",
            "25/25 [==============================] - 0s 8ms/step - loss: 0.4223 - accuracy: 0.7997 - val_loss: 0.4583 - val_accuracy: 0.7857\n",
            "Epoch 58/800\n",
            "25/25 [==============================] - 0s 8ms/step - loss: 0.4217 - accuracy: 0.7997 - val_loss: 0.4587 - val_accuracy: 0.7857\n",
            "Epoch 59/800\n",
            "25/25 [==============================] - 0s 7ms/step - loss: 0.4212 - accuracy: 0.8046 - val_loss: 0.4550 - val_accuracy: 0.7857\n",
            "Epoch 60/800\n",
            "25/25 [==============================] - 0s 8ms/step - loss: 0.4204 - accuracy: 0.7997 - val_loss: 0.4575 - val_accuracy: 0.7857\n",
            "Epoch 61/800\n",
            "25/25 [==============================] - 0s 11ms/step - loss: 0.4202 - accuracy: 0.7997 - val_loss: 0.4589 - val_accuracy: 0.7922\n",
            "Epoch 62/800\n",
            "25/25 [==============================] - 0s 9ms/step - loss: 0.4193 - accuracy: 0.8029 - val_loss: 0.4575 - val_accuracy: 0.7792\n",
            "Epoch 63/800\n",
            "25/25 [==============================] - 0s 7ms/step - loss: 0.4183 - accuracy: 0.8029 - val_loss: 0.4584 - val_accuracy: 0.7857\n",
            "Epoch 64/800\n",
            "25/25 [==============================] - 0s 14ms/step - loss: 0.4177 - accuracy: 0.8046 - val_loss: 0.4586 - val_accuracy: 0.7792\n",
            "Epoch 65/800\n",
            "25/25 [==============================] - 0s 7ms/step - loss: 0.4173 - accuracy: 0.8029 - val_loss: 0.4589 - val_accuracy: 0.7792\n",
            "Epoch 66/800\n",
            "25/25 [==============================] - 0s 6ms/step - loss: 0.4166 - accuracy: 0.8013 - val_loss: 0.4596 - val_accuracy: 0.7922\n",
            "Epoch 67/800\n",
            "25/25 [==============================] - 0s 9ms/step - loss: 0.4160 - accuracy: 0.8046 - val_loss: 0.4580 - val_accuracy: 0.7792\n",
            "Epoch 68/800\n",
            "25/25 [==============================] - 0s 10ms/step - loss: 0.4159 - accuracy: 0.8046 - val_loss: 0.4593 - val_accuracy: 0.7857\n",
            "Epoch 69/800\n",
            "25/25 [==============================] - 0s 10ms/step - loss: 0.4150 - accuracy: 0.8013 - val_loss: 0.4579 - val_accuracy: 0.7792\n",
            "Epoch 70/800\n",
            "25/25 [==============================] - 0s 8ms/step - loss: 0.4148 - accuracy: 0.8046 - val_loss: 0.4615 - val_accuracy: 0.7857\n",
            "Epoch 71/800\n",
            "25/25 [==============================] - 0s 11ms/step - loss: 0.4148 - accuracy: 0.8062 - val_loss: 0.4594 - val_accuracy: 0.7792\n",
            "Epoch 72/800\n",
            "25/25 [==============================] - 0s 8ms/step - loss: 0.4140 - accuracy: 0.8029 - val_loss: 0.4615 - val_accuracy: 0.7857\n",
            "Epoch 72: early stopping\n"
          ]
        },
        {
          "output_type": "execute_result",
          "data": {
            "text/plain": [
              "<keras.callbacks.History at 0x7fc0c956cfd0>"
            ]
          },
          "metadata": {},
          "execution_count": 11
        }
      ]
    },
    {
      "cell_type": "markdown",
      "source": [
        "Visualizing the loss"
      ],
      "metadata": {
        "id": "ZTEs6fWhv2I3"
      },
      "id": "ZTEs6fWhv2I3"
    },
    {
      "cell_type": "code",
      "source": [
        "df_loss = pd.DataFrame(ann.history.history)\n",
        "df_loss.plot()"
      ],
      "metadata": {
        "colab": {
          "base_uri": "https://localhost:8080/",
          "height": 283
        },
        "id": "jNLCUyB2EHEV",
        "outputId": "3beeb006-5f65-4694-9ec2-a6b8d5c940fc"
      },
      "id": "jNLCUyB2EHEV",
      "execution_count": null,
      "outputs": [
        {
          "output_type": "execute_result",
          "data": {
            "text/plain": [
              "<AxesSubplot:>"
            ]
          },
          "metadata": {},
          "execution_count": 12
        },
        {
          "output_type": "display_data",
          "data": {
            "text/plain": [
              "<Figure size 432x288 with 1 Axes>"
            ],
            "image/png": "[encoded data removed]"
          },
          "metadata": {
            "needs_background": "light"
          }
        }
      ]
    },
    {
      "cell_type": "code",
      "execution_count": null,
      "id": "67bab909",
      "metadata": {
        "colab": {
          "base_uri": "https://localhost:8080/"
        },
        "id": "67bab909",
        "outputId": "1bc4d832-b4ca-44c8-be98-be35627f387b"
      },
      "outputs": [
        {
          "output_type": "stream",
          "name": "stdout",
          "text": [
            "5/5 [==============================] - 0s 2ms/step\n",
            "[[0.44791394]\n",
            " [0.33336285]\n",
            " [0.05675611]\n",
            " [0.09849434]\n",
            " [0.43723553]\n",
            " [0.03322027]\n",
            " [0.59051615]\n",
            " [0.18432082]\n",
            " [0.08313704]\n",
            " [0.09185836]\n",
            " [0.34691617]\n",
            " [0.03107084]\n",
            " [0.24330495]\n",
            " [0.44879937]\n",
            " [0.7619486 ]\n",
            " [0.889505  ]\n",
            " [0.37091732]\n",
            " [0.3476711 ]\n",
            " [0.43844026]\n",
            " [0.63843226]\n",
            " [0.7037314 ]\n",
            " [0.7843759 ]\n",
            " [0.4695239 ]\n",
            " [0.8041411 ]\n",
            " [0.09721679]\n",
            " [0.15521257]\n",
            " [0.14016543]\n",
            " [0.07249966]\n",
            " [0.0025458 ]\n",
            " [0.17566541]\n",
            " [0.65436816]\n",
            " [0.2529949 ]\n",
            " [0.95721036]\n",
            " [0.31916124]\n",
            " [0.11767697]\n",
            " [0.9898374 ]\n",
            " [0.58391845]\n",
            " [0.09375665]\n",
            " [0.02257607]\n",
            " [0.8933801 ]\n",
            " [0.20339385]\n",
            " [0.19122636]\n",
            " [0.12013125]\n",
            " [0.13790558]\n",
            " [0.5760366 ]\n",
            " [0.1313626 ]\n",
            " [0.02665937]\n",
            " [0.8306785 ]\n",
            " [0.30190012]\n",
            " [0.02339083]\n",
            " [0.3362081 ]\n",
            " [0.1636068 ]\n",
            " [0.20417097]\n",
            " [0.1428239 ]\n",
            " [0.2386839 ]\n",
            " [0.3040196 ]\n",
            " [0.20355996]\n",
            " [0.10634326]\n",
            " [0.29519227]\n",
            " [0.15634264]\n",
            " [0.90338373]\n",
            " [0.14013016]\n",
            " [0.23316717]\n",
            " [0.94334793]\n",
            " [0.19662482]\n",
            " [0.03184367]\n",
            " [0.21414195]\n",
            " [0.6733451 ]\n",
            " [0.07555664]\n",
            " [0.22658955]\n",
            " [0.21210337]\n",
            " [0.01936937]\n",
            " [0.10219047]\n",
            " [0.0352831 ]\n",
            " [0.04031673]\n",
            " [0.26005736]\n",
            " [0.14569832]\n",
            " [0.08456123]\n",
            " [0.37114906]\n",
            " [0.01407492]\n",
            " [0.04678628]\n",
            " [0.8631283 ]\n",
            " [0.24772768]\n",
            " [0.28828147]\n",
            " [0.28228846]\n",
            " [0.0623354 ]\n",
            " [0.40970114]\n",
            " [0.11848541]\n",
            " [0.7002528 ]\n",
            " [0.04528143]\n",
            " [0.19082409]\n",
            " [0.06220322]\n",
            " [0.3739925 ]\n",
            " [0.5897799 ]\n",
            " [0.8684005 ]\n",
            " [0.8249235 ]\n",
            " [0.1972618 ]\n",
            " [0.26855543]\n",
            " [0.64063543]\n",
            " [0.32287443]\n",
            " [0.0916473 ]\n",
            " [0.01931768]\n",
            " [0.24709333]\n",
            " [0.06059989]\n",
            " [0.5898797 ]\n",
            " [0.93323404]\n",
            " [0.17257272]\n",
            " [0.06709265]\n",
            " [0.3208612 ]\n",
            " [0.13053028]\n",
            " [0.83101374]\n",
            " [0.04395093]\n",
            " [0.36151832]\n",
            " [0.5021347 ]\n",
            " [0.2323809 ]\n",
            " [0.44234034]\n",
            " [0.29592076]\n",
            " [0.57001895]\n",
            " [0.8329908 ]\n",
            " [0.36766198]\n",
            " [0.07357748]\n",
            " [0.05937072]\n",
            " [0.34031963]\n",
            " [0.23398493]\n",
            " [0.36067688]\n",
            " [0.03141146]\n",
            " [0.04715916]\n",
            " [0.3192776 ]\n",
            " [0.11887605]\n",
            " [0.66268176]\n",
            " [0.41501305]\n",
            " [0.5836838 ]\n",
            " [0.05013222]\n",
            " [0.14037022]\n",
            " [0.9129216 ]\n",
            " [0.17780566]\n",
            " [0.14710547]\n",
            " [0.27867275]\n",
            " [0.7915911 ]\n",
            " [0.03340699]\n",
            " [0.24117239]\n",
            " [0.34339124]\n",
            " [0.12007734]\n",
            " [0.22498174]\n",
            " [0.055947  ]\n",
            " [0.03591388]\n",
            " [0.47584707]\n",
            " [0.943164  ]\n",
            " [0.9062208 ]\n",
            " [0.01757122]\n",
            " [0.03590105]\n",
            " [0.08281112]\n",
            " [0.84418625]\n",
            " [0.46636075]]\n"
          ]
        }
      ],
      "source": [
        "# step5 :- Predict the model\n",
        "Y_pred = ann.predict(X_test)\n",
        "print(Y_pred)"
      ]
    },
    {
      "cell_type": "code",
      "source": [
        "Y_pred = np.where(Y_pred>0.5,1,0)\n",
        "Y_pred"
      ],
      "metadata": {
        "colab": {
          "base_uri": "https://localhost:8080/"
        },
        "id": "gPg7Dl31XHP6",
        "outputId": "58ff2573-9d68-4382-c42f-b2d76cdbf518"
      },
      "id": "gPg7Dl31XHP6",
      "execution_count": null,
      "outputs": [
        {
          "output_type": "execute_result",
          "data": {
            "text/plain": [
              "array([[0],\n",
              "       [0],\n",
              "       [0],\n",
              "       [0],\n",
              "       [0],\n",
              "       [0],\n",
              "       [1],\n",
              "       [0],\n",
              "       [0],\n",
              "       [0],\n",
              "       [0],\n",
              "       [0],\n",
              "       [0],\n",
              "       [0],\n",
              "       [1],\n",
              "       [1],\n",
              "       [0],\n",
              "       [0],\n",
              "       [0],\n",
              "       [1],\n",
              "       [1],\n",
              "       [1],\n",
              "       [0],\n",
              "       [1],\n",
              "       [0],\n",
              "       [0],\n",
              "       [0],\n",
              "       [0],\n",
              "       [0],\n",
              "       [0],\n",
              "       [1],\n",
              "       [0],\n",
              "       [1],\n",
              "       [0],\n",
              "       [0],\n",
              "       [1],\n",
              "       [1],\n",
              "       [0],\n",
              "       [0],\n",
              "       [1],\n",
              "       [0],\n",
              "       [0],\n",
              "       [0],\n",
              "       [0],\n",
              "       [1],\n",
              "       [0],\n",
              "       [0],\n",
              "       [1],\n",
              "       [0],\n",
              "       [0],\n",
              "       [0],\n",
              "       [0],\n",
              "       [0],\n",
              "       [0],\n",
              "       [0],\n",
              "       [0],\n",
              "       [0],\n",
              "       [0],\n",
              "       [0],\n",
              "       [0],\n",
              "       [1],\n",
              "       [0],\n",
              "       [0],\n",
              "       [1],\n",
              "       [0],\n",
              "       [0],\n",
              "       [0],\n",
              "       [1],\n",
              "       [0],\n",
              "       [0],\n",
              "       [0],\n",
              "       [0],\n",
              "       [0],\n",
              "       [0],\n",
              "       [0],\n",
              "       [0],\n",
              "       [0],\n",
              "       [0],\n",
              "       [0],\n",
              "       [0],\n",
              "       [0],\n",
              "       [1],\n",
              "       [0],\n",
              "       [0],\n",
              "       [0],\n",
              "       [0],\n",
              "       [0],\n",
              "       [0],\n",
              "       [1],\n",
              "       [0],\n",
              "       [0],\n",
              "       [0],\n",
              "       [0],\n",
              "       [1],\n",
              "       [1],\n",
              "       [1],\n",
              "       [0],\n",
              "       [0],\n",
              "       [1],\n",
              "       [0],\n",
              "       [0],\n",
              "       [0],\n",
              "       [0],\n",
              "       [0],\n",
              "       [1],\n",
              "       [1],\n",
              "       [0],\n",
              "       [0],\n",
              "       [0],\n",
              "       [0],\n",
              "       [1],\n",
              "       [0],\n",
              "       [0],\n",
              "       [1],\n",
              "       [0],\n",
              "       [0],\n",
              "       [0],\n",
              "       [1],\n",
              "       [1],\n",
              "       [0],\n",
              "       [0],\n",
              "       [0],\n",
              "       [0],\n",
              "       [0],\n",
              "       [0],\n",
              "       [0],\n",
              "       [0],\n",
              "       [0],\n",
              "       [0],\n",
              "       [1],\n",
              "       [0],\n",
              "       [1],\n",
              "       [0],\n",
              "       [0],\n",
              "       [1],\n",
              "       [0],\n",
              "       [0],\n",
              "       [0],\n",
              "       [1],\n",
              "       [0],\n",
              "       [0],\n",
              "       [0],\n",
              "       [0],\n",
              "       [0],\n",
              "       [0],\n",
              "       [0],\n",
              "       [0],\n",
              "       [1],\n",
              "       [1],\n",
              "       [0],\n",
              "       [0],\n",
              "       [0],\n",
              "       [1],\n",
              "       [0]])"
            ]
          },
          "metadata": {},
          "execution_count": 14
        }
      ]
    },
    {
      "cell_type": "code",
      "execution_count": null,
      "id": "7640be39",
      "metadata": {
        "colab": {
          "base_uri": "https://localhost:8080/"
        },
        "id": "7640be39",
        "outputId": "3afe4487-33f9-40f6-8112-06fbc31ac06c"
      },
      "outputs": [
        {
          "output_type": "stream",
          "name": "stdout",
          "text": [
            "              precision    recall  f1-score   support\n",
            "\n",
            "           0       0.83      0.88      0.86       111\n",
            "           1       0.64      0.53      0.58        43\n",
            "\n",
            "    accuracy                           0.79       154\n",
            "   macro avg       0.73      0.71      0.72       154\n",
            "weighted avg       0.78      0.79      0.78       154\n",
            "\n"
          ]
        }
      ],
      "source": [
        "# evaluation\n",
        "from sklearn.metrics import classification_report\n",
        "print( classification_report(Y_test,Y_pred) )"
      ]
    },
    {
      "cell_type": "code",
      "source": [],
      "metadata": {
        "id": "2dxJLCt1X2mb"
      },
      "id": "2dxJLCt1X2mb",
      "execution_count": null,
      "outputs": []
    }
  ],
  "metadata": {
    "kernelspec": {
      "display_name": "Python 3 (ipykernel)",
      "language": "python",
      "name": "python3"
    },
    "language_info": {
      "codemirror_mode": {
        "name": "ipython",
        "version": 3
      },
      "file_extension": ".py",
      "mimetype": "text/x-python",
      "name": "python",
      "nbconvert_exporter": "python",
      "pygments_lexer": "ipython3",
      "version": "3.9.12"
    },
    "colab": {
      "provenance": []
    }
  },
  "nbformat": 4,
  "nbformat_minor": 5
}
