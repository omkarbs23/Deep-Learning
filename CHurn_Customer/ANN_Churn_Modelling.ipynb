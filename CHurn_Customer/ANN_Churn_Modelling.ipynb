{
  "nbformat": 4,
  "nbformat_minor": 0,
  "metadata": {
    "colab": {
      "provenance": []
    },
    "kernelspec": {
      "name": "python3",
      "display_name": "Python 3"
    },
    "language_info": {
      "name": "python"
    }
  },
  "cells": [
    {
      "cell_type": "markdown",
      "source": [
        "Importing Libraries"
      ],
      "metadata": {
        "id": "uOQquwcreZ0o"
      }
    },
    {
      "cell_type": "code",
      "execution_count": null,
      "metadata": {
        "id": "o23oWn3XalXJ"
      },
      "outputs": [],
      "source": [
        "import pandas as pd\n",
        "import numpy as np\n",
        "import seaborn as sns\n",
        "import matplotlib.pyplot as plt"
      ]
    },
    {
      "cell_type": "markdown",
      "source": [
        "Loading Data"
      ],
      "metadata": {
        "id": "Sif7uRCQeiil"
      }
    },
    {
      "cell_type": "code",
      "source": [
        "df = pd.read_excel(\"/content/Churn_Modelling.xlsx\")\n",
        "df.head()"
      ],
      "metadata": {
        "colab": {
          "base_uri": "https://localhost:8080/",
          "height": 206
        },
        "id": "OjxnQu6Fa4Pt",
        "outputId": "69097302-58fe-4866-d9f5-daa34ccc6818"
      },
      "execution_count": null,
      "outputs": [
        {
          "output_type": "execute_result",
          "data": {
            "text/plain": [
              "   RowNumber  CustomerId   Surname  CreditScore Geography  Gender   Age  \\\n",
              "0        1.0  15634602.0  Hargrave        619.0    France  Female  42.0   \n",
              "1        2.0  15647311.0      Hill        608.0     Spain  Female  41.0   \n",
              "2        3.0  15619304.0      Onio        502.0    France  Female  42.0   \n",
              "3        4.0  15701354.0      Boni        699.0    France  Female  39.0   \n",
              "4        5.0  15737888.0  Mitchell        850.0     Spain  Female  43.0   \n",
              "\n",
              "   Tenure    Balance  NumOfProducts  HasCrCard  IsActiveMember  \\\n",
              "0     2.0       0.00            1.0        1.0             1.0   \n",
              "1     1.0   83807.86            1.0        0.0             1.0   \n",
              "2     8.0  159660.80            3.0        1.0             0.0   \n",
              "3     1.0       0.00            2.0        0.0             0.0   \n",
              "4     2.0  125510.82            1.0        1.0             1.0   \n",
              "\n",
              "   EstimatedSalary  Exited  \n",
              "0        101348.88     1.0  \n",
              "1        112542.58     0.0  \n",
              "2        113931.57     1.0  \n",
              "3         93826.63     0.0  \n",
              "4         79084.10     0.0  "
            ],
            "text/html": [
              "\n",
              "  <div id=\"df-4b0cf7c1-3e01-40f7-8c0c-224df08e76a6\">\n",
              "    <div class=\"colab-df-container\">\n",
              "      <div>\n",
              "<style scoped>\n",
              "    .dataframe tbody tr th:only-of-type {\n",
              "        vertical-align: middle;\n",
              "    }\n",
              "\n",
              "    .dataframe tbody tr th {\n",
              "        vertical-align: top;\n",
              "    }\n",
              "\n",
              "    .dataframe thead th {\n",
              "        text-align: right;\n",
              "    }\n",
              "</style>\n",
              "<table border=\"1\" class=\"dataframe\">\n",
              "  <thead>\n",
              "    <tr style=\"text-align: right;\">\n",
              "      <th></th>\n",
              "      <th>RowNumber</th>\n",
              "      <th>CustomerId</th>\n",
              "      <th>Surname</th>\n",
              "      <th>CreditScore</th>\n",
              "      <th>Geography</th>\n",
              "      <th>Gender</th>\n",
              "      <th>Age</th>\n",
              "      <th>Tenure</th>\n",
              "      <th>Balance</th>\n",
              "      <th>NumOfProducts</th>\n",
              "      <th>HasCrCard</th>\n",
              "      <th>IsActiveMember</th>\n",
              "      <th>EstimatedSalary</th>\n",
              "      <th>Exited</th>\n",
              "    </tr>\n",
              "  </thead>\n",
              "  <tbody>\n",
              "    <tr>\n",
              "      <th>0</th>\n",
              "      <td>1.0</td>\n",
              "      <td>15634602.0</td>\n",
              "      <td>Hargrave</td>\n",
              "      <td>619.0</td>\n",
              "      <td>France</td>\n",
              "      <td>Female</td>\n",
              "      <td>42.0</td>\n",
              "      <td>2.0</td>\n",
              "      <td>0.00</td>\n",
              "      <td>1.0</td>\n",
              "      <td>1.0</td>\n",
              "      <td>1.0</td>\n",
              "      <td>101348.88</td>\n",
              "      <td>1.0</td>\n",
              "    </tr>\n",
              "    <tr>\n",
              "      <th>1</th>\n",
              "      <td>2.0</td>\n",
              "      <td>15647311.0</td>\n",
              "      <td>Hill</td>\n",
              "      <td>608.0</td>\n",
              "      <td>Spain</td>\n",
              "      <td>Female</td>\n",
              "      <td>41.0</td>\n",
              "      <td>1.0</td>\n",
              "      <td>83807.86</td>\n",
              "      <td>1.0</td>\n",
              "      <td>0.0</td>\n",
              "      <td>1.0</td>\n",
              "      <td>112542.58</td>\n",
              "      <td>0.0</td>\n",
              "    </tr>\n",
              "    <tr>\n",
              "      <th>2</th>\n",
              "      <td>3.0</td>\n",
              "      <td>15619304.0</td>\n",
              "      <td>Onio</td>\n",
              "      <td>502.0</td>\n",
              "      <td>France</td>\n",
              "      <td>Female</td>\n",
              "      <td>42.0</td>\n",
              "      <td>8.0</td>\n",
              "      <td>159660.80</td>\n",
              "      <td>3.0</td>\n",
              "      <td>1.0</td>\n",
              "      <td>0.0</td>\n",
              "      <td>113931.57</td>\n",
              "      <td>1.0</td>\n",
              "    </tr>\n",
              "    <tr>\n",
              "      <th>3</th>\n",
              "      <td>4.0</td>\n",
              "      <td>15701354.0</td>\n",
              "      <td>Boni</td>\n",
              "      <td>699.0</td>\n",
              "      <td>France</td>\n",
              "      <td>Female</td>\n",
              "      <td>39.0</td>\n",
              "      <td>1.0</td>\n",
              "      <td>0.00</td>\n",
              "      <td>2.0</td>\n",
              "      <td>0.0</td>\n",
              "      <td>0.0</td>\n",
              "      <td>93826.63</td>\n",
              "      <td>0.0</td>\n",
              "    </tr>\n",
              "    <tr>\n",
              "      <th>4</th>\n",
              "      <td>5.0</td>\n",
              "      <td>15737888.0</td>\n",
              "      <td>Mitchell</td>\n",
              "      <td>850.0</td>\n",
              "      <td>Spain</td>\n",
              "      <td>Female</td>\n",
              "      <td>43.0</td>\n",
              "      <td>2.0</td>\n",
              "      <td>125510.82</td>\n",
              "      <td>1.0</td>\n",
              "      <td>1.0</td>\n",
              "      <td>1.0</td>\n",
              "      <td>79084.10</td>\n",
              "      <td>0.0</td>\n",
              "    </tr>\n",
              "  </tbody>\n",
              "</table>\n",
              "</div>\n",
              "      <button class=\"colab-df-convert\" onclick=\"convertToInteractive('df-4b0cf7c1-3e01-40f7-8c0c-224df08e76a6')\"\n",
              "              title=\"Convert this dataframe to an interactive table.\"\n",
              "              style=\"display:none;\">\n",
              "        \n",
              "  <svg xmlns=\"http://www.w3.org/2000/svg\" height=\"24px\"viewBox=\"0 0 24 24\"\n",
              "       width=\"24px\">\n",
              "    <path d=\"M0 0h24v24H0V0z\" fill=\"none\"/>\n",
              "    <path d=\"M18.56 5.44l.94 2.06.94-2.06 2.06-.94-2.06-.94-.94-2.06-.94 2.06-2.06.94zm-11 1L8.5 8.5l.94-2.06 2.06-.94-2.06-.94L8.5 2.5l-.94 2.06-2.06.94zm10 10l.94 2.06.94-2.06 2.06-.94-2.06-.94-.94-2.06-.94 2.06-2.06.94z\"/><path d=\"M17.41 7.96l-1.37-1.37c-.4-.4-.92-.59-1.43-.59-.52 0-1.04.2-1.43.59L10.3 9.45l-7.72 7.72c-.78.78-.78 2.05 0 2.83L4 21.41c.39.39.9.59 1.41.59.51 0 1.02-.2 1.41-.59l7.78-7.78 2.81-2.81c.8-.78.8-2.07 0-2.86zM5.41 20L4 18.59l7.72-7.72 1.47 1.35L5.41 20z\"/>\n",
              "  </svg>\n",
              "      </button>\n",
              "      \n",
              "  <style>\n",
              "    .colab-df-container {\n",
              "      display:flex;\n",
              "      flex-wrap:wrap;\n",
              "      gap: 12px;\n",
              "    }\n",
              "\n",
              "    .colab-df-convert {\n",
              "      background-color: #E8F0FE;\n",
              "      border: none;\n",
              "      border-radius: 50%;\n",
              "      cursor: pointer;\n",
              "      display: none;\n",
              "      fill: #1967D2;\n",
              "      height: 32px;\n",
              "      padding: 0 0 0 0;\n",
              "      width: 32px;\n",
              "    }\n",
              "\n",
              "    .colab-df-convert:hover {\n",
              "      background-color: #E2EBFA;\n",
              "      box-shadow: 0px 1px 2px rgba(60, 64, 67, 0.3), 0px 1px 3px 1px rgba(60, 64, 67, 0.15);\n",
              "      fill: #174EA6;\n",
              "    }\n",
              "\n",
              "    [theme=dark] .colab-df-convert {\n",
              "      background-color: #3B4455;\n",
              "      fill: #D2E3FC;\n",
              "    }\n",
              "\n",
              "    [theme=dark] .colab-df-convert:hover {\n",
              "      background-color: #434B5C;\n",
              "      box-shadow: 0px 1px 3px 1px rgba(0, 0, 0, 0.15);\n",
              "      filter: drop-shadow(0px 1px 2px rgba(0, 0, 0, 0.3));\n",
              "      fill: #FFFFFF;\n",
              "    }\n",
              "  </style>\n",
              "\n",
              "      <script>\n",
              "        const buttonEl =\n",
              "          document.querySelector('#df-4b0cf7c1-3e01-40f7-8c0c-224df08e76a6 button.colab-df-convert');\n",
              "        buttonEl.style.display =\n",
              "          google.colab.kernel.accessAllowed ? 'block' : 'none';\n",
              "\n",
              "        async function convertToInteractive(key) {\n",
              "          const element = document.querySelector('#df-4b0cf7c1-3e01-40f7-8c0c-224df08e76a6');\n",
              "          const dataTable =\n",
              "            await google.colab.kernel.invokeFunction('convertToInteractive',\n",
              "                                                     [key], {});\n",
              "          if (!dataTable) return;\n",
              "\n",
              "          const docLinkHtml = 'Like what you see? Visit the ' +\n",
              "            '<a target=\"_blank\" href=https://colab.research.google.com/notebooks/data_table.ipynb>data table notebook</a>'\n",
              "            + ' to learn more about interactive tables.';\n",
              "          element.innerHTML = '';\n",
              "          dataTable['output_type'] = 'display_data';\n",
              "          await google.colab.output.renderOutput(dataTable, element);\n",
              "          const docLink = document.createElement('div');\n",
              "          docLink.innerHTML = docLinkHtml;\n",
              "          element.appendChild(docLink);\n",
              "        }\n",
              "      </script>\n",
              "    </div>\n",
              "  </div>\n",
              "  "
            ]
          },
          "metadata": {},
          "execution_count": 2
        }
      ]
    },
    {
      "cell_type": "code",
      "source": [
        "df.Exited = df.Exited.astype(int)\n",
        "df.head()"
      ],
      "metadata": {
        "colab": {
          "base_uri": "https://localhost:8080/",
          "height": 206
        },
        "id": "RAouSS4xbDD7",
        "outputId": "761c2e03-7ad4-4c64-eeb2-6827fcc2b37b"
      },
      "execution_count": null,
      "outputs": [
        {
          "output_type": "execute_result",
          "data": {
            "text/plain": [
              "   RowNumber  CustomerId   Surname  CreditScore Geography  Gender   Age  \\\n",
              "0        1.0  15634602.0  Hargrave        619.0    France  Female  42.0   \n",
              "1        2.0  15647311.0      Hill        608.0     Spain  Female  41.0   \n",
              "2        3.0  15619304.0      Onio        502.0    France  Female  42.0   \n",
              "3        4.0  15701354.0      Boni        699.0    France  Female  39.0   \n",
              "4        5.0  15737888.0  Mitchell        850.0     Spain  Female  43.0   \n",
              "\n",
              "   Tenure    Balance  NumOfProducts  HasCrCard  IsActiveMember  \\\n",
              "0     2.0       0.00            1.0        1.0             1.0   \n",
              "1     1.0   83807.86            1.0        0.0             1.0   \n",
              "2     8.0  159660.80            3.0        1.0             0.0   \n",
              "3     1.0       0.00            2.0        0.0             0.0   \n",
              "4     2.0  125510.82            1.0        1.0             1.0   \n",
              "\n",
              "   EstimatedSalary  Exited  \n",
              "0        101348.88       1  \n",
              "1        112542.58       0  \n",
              "2        113931.57       1  \n",
              "3         93826.63       0  \n",
              "4         79084.10       0  "
            ],
            "text/html": [
              "\n",
              "  <div id=\"df-f42972fc-cc30-449c-bc6f-247edeef08f2\">\n",
              "    <div class=\"colab-df-container\">\n",
              "      <div>\n",
              "<style scoped>\n",
              "    .dataframe tbody tr th:only-of-type {\n",
              "        vertical-align: middle;\n",
              "    }\n",
              "\n",
              "    .dataframe tbody tr th {\n",
              "        vertical-align: top;\n",
              "    }\n",
              "\n",
              "    .dataframe thead th {\n",
              "        text-align: right;\n",
              "    }\n",
              "</style>\n",
              "<table border=\"1\" class=\"dataframe\">\n",
              "  <thead>\n",
              "    <tr style=\"text-align: right;\">\n",
              "      <th></th>\n",
              "      <th>RowNumber</th>\n",
              "      <th>CustomerId</th>\n",
              "      <th>Surname</th>\n",
              "      <th>CreditScore</th>\n",
              "      <th>Geography</th>\n",
              "      <th>Gender</th>\n",
              "      <th>Age</th>\n",
              "      <th>Tenure</th>\n",
              "      <th>Balance</th>\n",
              "      <th>NumOfProducts</th>\n",
              "      <th>HasCrCard</th>\n",
              "      <th>IsActiveMember</th>\n",
              "      <th>EstimatedSalary</th>\n",
              "      <th>Exited</th>\n",
              "    </tr>\n",
              "  </thead>\n",
              "  <tbody>\n",
              "    <tr>\n",
              "      <th>0</th>\n",
              "      <td>1.0</td>\n",
              "      <td>15634602.0</td>\n",
              "      <td>Hargrave</td>\n",
              "      <td>619.0</td>\n",
              "      <td>France</td>\n",
              "      <td>Female</td>\n",
              "      <td>42.0</td>\n",
              "      <td>2.0</td>\n",
              "      <td>0.00</td>\n",
              "      <td>1.0</td>\n",
              "      <td>1.0</td>\n",
              "      <td>1.0</td>\n",
              "      <td>101348.88</td>\n",
              "      <td>1</td>\n",
              "    </tr>\n",
              "    <tr>\n",
              "      <th>1</th>\n",
              "      <td>2.0</td>\n",
              "      <td>15647311.0</td>\n",
              "      <td>Hill</td>\n",
              "      <td>608.0</td>\n",
              "      <td>Spain</td>\n",
              "      <td>Female</td>\n",
              "      <td>41.0</td>\n",
              "      <td>1.0</td>\n",
              "      <td>83807.86</td>\n",
              "      <td>1.0</td>\n",
              "      <td>0.0</td>\n",
              "      <td>1.0</td>\n",
              "      <td>112542.58</td>\n",
              "      <td>0</td>\n",
              "    </tr>\n",
              "    <tr>\n",
              "      <th>2</th>\n",
              "      <td>3.0</td>\n",
              "      <td>15619304.0</td>\n",
              "      <td>Onio</td>\n",
              "      <td>502.0</td>\n",
              "      <td>France</td>\n",
              "      <td>Female</td>\n",
              "      <td>42.0</td>\n",
              "      <td>8.0</td>\n",
              "      <td>159660.80</td>\n",
              "      <td>3.0</td>\n",
              "      <td>1.0</td>\n",
              "      <td>0.0</td>\n",
              "      <td>113931.57</td>\n",
              "      <td>1</td>\n",
              "    </tr>\n",
              "    <tr>\n",
              "      <th>3</th>\n",
              "      <td>4.0</td>\n",
              "      <td>15701354.0</td>\n",
              "      <td>Boni</td>\n",
              "      <td>699.0</td>\n",
              "      <td>France</td>\n",
              "      <td>Female</td>\n",
              "      <td>39.0</td>\n",
              "      <td>1.0</td>\n",
              "      <td>0.00</td>\n",
              "      <td>2.0</td>\n",
              "      <td>0.0</td>\n",
              "      <td>0.0</td>\n",
              "      <td>93826.63</td>\n",
              "      <td>0</td>\n",
              "    </tr>\n",
              "    <tr>\n",
              "      <th>4</th>\n",
              "      <td>5.0</td>\n",
              "      <td>15737888.0</td>\n",
              "      <td>Mitchell</td>\n",
              "      <td>850.0</td>\n",
              "      <td>Spain</td>\n",
              "      <td>Female</td>\n",
              "      <td>43.0</td>\n",
              "      <td>2.0</td>\n",
              "      <td>125510.82</td>\n",
              "      <td>1.0</td>\n",
              "      <td>1.0</td>\n",
              "      <td>1.0</td>\n",
              "      <td>79084.10</td>\n",
              "      <td>0</td>\n",
              "    </tr>\n",
              "  </tbody>\n",
              "</table>\n",
              "</div>\n",
              "      <button class=\"colab-df-convert\" onclick=\"convertToInteractive('df-f42972fc-cc30-449c-bc6f-247edeef08f2')\"\n",
              "              title=\"Convert this dataframe to an interactive table.\"\n",
              "              style=\"display:none;\">\n",
              "        \n",
              "  <svg xmlns=\"http://www.w3.org/2000/svg\" height=\"24px\"viewBox=\"0 0 24 24\"\n",
              "       width=\"24px\">\n",
              "    <path d=\"M0 0h24v24H0V0z\" fill=\"none\"/>\n",
              "    <path d=\"M18.56 5.44l.94 2.06.94-2.06 2.06-.94-2.06-.94-.94-2.06-.94 2.06-2.06.94zm-11 1L8.5 8.5l.94-2.06 2.06-.94-2.06-.94L8.5 2.5l-.94 2.06-2.06.94zm10 10l.94 2.06.94-2.06 2.06-.94-2.06-.94-.94-2.06-.94 2.06-2.06.94z\"/><path d=\"M17.41 7.96l-1.37-1.37c-.4-.4-.92-.59-1.43-.59-.52 0-1.04.2-1.43.59L10.3 9.45l-7.72 7.72c-.78.78-.78 2.05 0 2.83L4 21.41c.39.39.9.59 1.41.59.51 0 1.02-.2 1.41-.59l7.78-7.78 2.81-2.81c.8-.78.8-2.07 0-2.86zM5.41 20L4 18.59l7.72-7.72 1.47 1.35L5.41 20z\"/>\n",
              "  </svg>\n",
              "      </button>\n",
              "      \n",
              "  <style>\n",
              "    .colab-df-container {\n",
              "      display:flex;\n",
              "      flex-wrap:wrap;\n",
              "      gap: 12px;\n",
              "    }\n",
              "\n",
              "    .colab-df-convert {\n",
              "      background-color: #E8F0FE;\n",
              "      border: none;\n",
              "      border-radius: 50%;\n",
              "      cursor: pointer;\n",
              "      display: none;\n",
              "      fill: #1967D2;\n",
              "      height: 32px;\n",
              "      padding: 0 0 0 0;\n",
              "      width: 32px;\n",
              "    }\n",
              "\n",
              "    .colab-df-convert:hover {\n",
              "      background-color: #E2EBFA;\n",
              "      box-shadow: 0px 1px 2px rgba(60, 64, 67, 0.3), 0px 1px 3px 1px rgba(60, 64, 67, 0.15);\n",
              "      fill: #174EA6;\n",
              "    }\n",
              "\n",
              "    [theme=dark] .colab-df-convert {\n",
              "      background-color: #3B4455;\n",
              "      fill: #D2E3FC;\n",
              "    }\n",
              "\n",
              "    [theme=dark] .colab-df-convert:hover {\n",
              "      background-color: #434B5C;\n",
              "      box-shadow: 0px 1px 3px 1px rgba(0, 0, 0, 0.15);\n",
              "      filter: drop-shadow(0px 1px 2px rgba(0, 0, 0, 0.3));\n",
              "      fill: #FFFFFF;\n",
              "    }\n",
              "  </style>\n",
              "\n",
              "      <script>\n",
              "        const buttonEl =\n",
              "          document.querySelector('#df-f42972fc-cc30-449c-bc6f-247edeef08f2 button.colab-df-convert');\n",
              "        buttonEl.style.display =\n",
              "          google.colab.kernel.accessAllowed ? 'block' : 'none';\n",
              "\n",
              "        async function convertToInteractive(key) {\n",
              "          const element = document.querySelector('#df-f42972fc-cc30-449c-bc6f-247edeef08f2');\n",
              "          const dataTable =\n",
              "            await google.colab.kernel.invokeFunction('convertToInteractive',\n",
              "                                                     [key], {});\n",
              "          if (!dataTable) return;\n",
              "\n",
              "          const docLinkHtml = 'Like what you see? Visit the ' +\n",
              "            '<a target=\"_blank\" href=https://colab.research.google.com/notebooks/data_table.ipynb>data table notebook</a>'\n",
              "            + ' to learn more about interactive tables.';\n",
              "          element.innerHTML = '';\n",
              "          dataTable['output_type'] = 'display_data';\n",
              "          await google.colab.output.renderOutput(dataTable, element);\n",
              "          const docLink = document.createElement('div');\n",
              "          docLink.innerHTML = docLinkHtml;\n",
              "          element.appendChild(docLink);\n",
              "        }\n",
              "      </script>\n",
              "    </div>\n",
              "  </div>\n",
              "  "
            ]
          },
          "metadata": {},
          "execution_count": 3
        }
      ]
    },
    {
      "cell_type": "markdown",
      "source": [
        "Segregating X & Y"
      ],
      "metadata": {
        "id": "Jqgb-_h0ehSA"
      }
    },
    {
      "cell_type": "code",
      "source": [
        "X = df.iloc[:,3:-1].values\n",
        "X"
      ],
      "metadata": {
        "colab": {
          "base_uri": "https://localhost:8080/"
        },
        "id": "0JzR7YAvbN0L",
        "outputId": "5e5c2664-8b48-4199-f397-be4113cee2d9"
      },
      "execution_count": null,
      "outputs": [
        {
          "output_type": "execute_result",
          "data": {
            "text/plain": [
              "array([[619.0, 'France', 'Female', ..., 1.0, 1.0, 101348.88],\n",
              "       [608.0, 'Spain', 'Female', ..., 0.0, 1.0, 112542.58],\n",
              "       [502.0, 'France', 'Female', ..., 1.0, 0.0, 113931.57],\n",
              "       ...,\n",
              "       [709.0, 'France', 'Female', ..., 0.0, 1.0, 42085.58],\n",
              "       [772.0, 'Germany', 'Male', ..., 1.0, 0.0, 92888.52],\n",
              "       [792.0, 'France', 'Female', ..., 1.0, 0.0, 38190.78]], dtype=object)"
            ]
          },
          "metadata": {},
          "execution_count": 4
        }
      ]
    },
    {
      "cell_type": "code",
      "source": [
        "Y = df.Exited.values\n",
        "Y"
      ],
      "metadata": {
        "colab": {
          "base_uri": "https://localhost:8080/"
        },
        "id": "73IMpXiYbXVb",
        "outputId": "2fd59e2b-0685-4999-bf5f-3af5f76563ae"
      },
      "execution_count": null,
      "outputs": [
        {
          "output_type": "execute_result",
          "data": {
            "text/plain": [
              "array([1, 0, 1, ..., 1, 1, 0])"
            ]
          },
          "metadata": {},
          "execution_count": 5
        }
      ]
    },
    {
      "cell_type": "markdown",
      "source": [
        "Encoding"
      ],
      "metadata": {
        "id": "wmISyVyYedyB"
      }
    },
    {
      "cell_type": "code",
      "source": [
        "from sklearn.preprocessing import LabelEncoder\n",
        "LE1 = LabelEncoder()\n",
        "X[:,1] = LE1.fit_transform(X[:,1])"
      ],
      "metadata": {
        "id": "iqo4p7Fpbmha"
      },
      "execution_count": null,
      "outputs": []
    },
    {
      "cell_type": "code",
      "source": [
        "LE2 = LabelEncoder()\n",
        "X[:,2] = LE2.fit_transform(X[:,2])"
      ],
      "metadata": {
        "id": "uWjiZgAXcEGq"
      },
      "execution_count": null,
      "outputs": []
    },
    {
      "cell_type": "code",
      "source": [
        "X"
      ],
      "metadata": {
        "colab": {
          "base_uri": "https://localhost:8080/"
        },
        "id": "EaldjXc2ckSJ",
        "outputId": "17bc6485-d046-43be-be4f-889e583d0883"
      },
      "execution_count": null,
      "outputs": [
        {
          "output_type": "execute_result",
          "data": {
            "text/plain": [
              "array([[619.0, 0, 0, ..., 1.0, 1.0, 101348.88],\n",
              "       [608.0, 2, 0, ..., 0.0, 1.0, 112542.58],\n",
              "       [502.0, 0, 0, ..., 1.0, 0.0, 113931.57],\n",
              "       ...,\n",
              "       [709.0, 0, 0, ..., 0.0, 1.0, 42085.58],\n",
              "       [772.0, 1, 1, ..., 1.0, 0.0, 92888.52],\n",
              "       [792.0, 0, 0, ..., 1.0, 0.0, 38190.78]], dtype=object)"
            ]
          },
          "metadata": {},
          "execution_count": 8
        }
      ]
    },
    {
      "cell_type": "markdown",
      "source": [
        "Standadization"
      ],
      "metadata": {
        "id": "uiPF8iW2eUfR"
      }
    },
    {
      "cell_type": "code",
      "source": [
        "from sklearn.preprocessing import StandardScaler\n",
        "SS = StandardScaler()\n",
        "X = SS.fit_transform(X)\n",
        "X"
      ],
      "metadata": {
        "colab": {
          "base_uri": "https://localhost:8080/"
        },
        "id": "MNFNryeoclA5",
        "outputId": "038a70ad-a36d-4751-e3ad-ed1a72e06948"
      },
      "execution_count": null,
      "outputs": [
        {
          "output_type": "execute_result",
          "data": {
            "text/plain": [
              "array([[-0.32622142, -0.90188624, -1.09598752, ...,  0.64609167,\n",
              "         0.97024255,  0.02188649],\n",
              "       [-0.44003595,  1.51506738, -1.09598752, ..., -1.54776799,\n",
              "         0.97024255,  0.21653375],\n",
              "       [-1.53679418, -0.90188624, -1.09598752, ...,  0.64609167,\n",
              "        -1.03067011,  0.2406869 ],\n",
              "       ...,\n",
              "       [ 0.60498839, -0.90188624, -1.09598752, ..., -1.54776799,\n",
              "         0.97024255, -1.00864308],\n",
              "       [ 1.25683526,  0.30659057,  0.91241915, ...,  0.64609167,\n",
              "        -1.03067011, -0.12523071],\n",
              "       [ 1.46377078, -0.90188624, -1.09598752, ...,  0.64609167,\n",
              "        -1.03067011, -1.07636976]])"
            ]
          },
          "metadata": {},
          "execution_count": 9
        }
      ]
    },
    {
      "cell_type": "markdown",
      "source": [
        "Splitting"
      ],
      "metadata": {
        "id": "hR__-eM-eGo4"
      }
    },
    {
      "cell_type": "code",
      "source": [
        "from sklearn.model_selection import train_test_split\n",
        "X_train,X_test,Y_train,Y_test = train_test_split(X,Y,test_size=0.3,random_state=1)"
      ],
      "metadata": {
        "id": "Zi8Olyn7cy_J"
      },
      "execution_count": null,
      "outputs": []
    },
    {
      "cell_type": "code",
      "source": [
        "import tensorflow as tf\n",
        "from tensorflow.keras import Sequential\n",
        "from tensorflow.keras.layers import Dense"
      ],
      "metadata": {
        "id": "O6pZtwGtc8Ip"
      },
      "execution_count": null,
      "outputs": []
    },
    {
      "cell_type": "markdown",
      "source": [
        "ANN Modelling"
      ],
      "metadata": {
        "id": "t6sPXoTai0g8"
      }
    },
    {
      "cell_type": "code",
      "source": [
        "# step1 :- initialize the Model\n",
        "ann = Sequential()\n",
        "\n",
        "# step2 :- Add Layers into model\n",
        "ann.add( Dense(units = 6, activation = \"relu\") )\n",
        "ann.add( Dense(units = 1, activation = \"sigmoid\") )\n",
        "\n",
        "# step3 :- Establihing connection \n",
        "ann.compile(optimizer='adam', loss = 'binary_crossentropy', metrics=[\"accuracy\"])\n",
        "\n",
        "# step4 :- Fit the model\n",
        "ann.fit(X_train, Y_train, batch_size = 30, epochs = 100)\n",
        "\n",
        "# step5 :- Predict the model\n",
        "Y_pred = ann.predict(X_test)"
      ],
      "metadata": {
        "colab": {
          "base_uri": "https://localhost:8080/"
        },
        "id": "l6HBb8PhdW15",
        "outputId": "45bda8e8-70c3-4514-a3a5-8556e510179c"
      },
      "execution_count": null,
      "outputs": [
        {
          "output_type": "stream",
          "name": "stdout",
          "text": [
            "Epoch 1/100\n",
            "234/234 [==============================] - 3s 4ms/step - loss: 0.6279 - accuracy: 0.6667\n",
            "Epoch 2/100\n",
            "234/234 [==============================] - 1s 3ms/step - loss: 0.4739 - accuracy: 0.7931\n",
            "Epoch 3/100\n",
            "234/234 [==============================] - 1s 4ms/step - loss: 0.4471 - accuracy: 0.8003\n",
            "Epoch 4/100\n",
            "234/234 [==============================] - 1s 4ms/step - loss: 0.4359 - accuracy: 0.8037\n",
            "Epoch 5/100\n",
            "234/234 [==============================] - 1s 4ms/step - loss: 0.4290 - accuracy: 0.8096\n",
            "Epoch 6/100\n",
            "234/234 [==============================] - 1s 4ms/step - loss: 0.4239 - accuracy: 0.8100\n",
            "Epoch 7/100\n",
            "234/234 [==============================] - 1s 4ms/step - loss: 0.4197 - accuracy: 0.8146\n",
            "Epoch 8/100\n",
            "234/234 [==============================] - 1s 4ms/step - loss: 0.4157 - accuracy: 0.8160\n",
            "Epoch 9/100\n",
            "234/234 [==============================] - 1s 3ms/step - loss: 0.4122 - accuracy: 0.8187\n",
            "Epoch 10/100\n",
            "234/234 [==============================] - 1s 4ms/step - loss: 0.4091 - accuracy: 0.8211\n",
            "Epoch 11/100\n",
            "234/234 [==============================] - 1s 3ms/step - loss: 0.4064 - accuracy: 0.8223\n",
            "Epoch 12/100\n",
            "234/234 [==============================] - 1s 6ms/step - loss: 0.4036 - accuracy: 0.8227\n",
            "Epoch 13/100\n",
            "234/234 [==============================] - 2s 7ms/step - loss: 0.4012 - accuracy: 0.8229\n",
            "Epoch 14/100\n",
            "234/234 [==============================] - 1s 5ms/step - loss: 0.3988 - accuracy: 0.8243\n",
            "Epoch 15/100\n",
            "234/234 [==============================] - 1s 6ms/step - loss: 0.3969 - accuracy: 0.8239\n",
            "Epoch 16/100\n",
            "234/234 [==============================] - 1s 4ms/step - loss: 0.3949 - accuracy: 0.8246\n",
            "Epoch 17/100\n",
            "234/234 [==============================] - 0s 2ms/step - loss: 0.3929 - accuracy: 0.8263\n",
            "Epoch 18/100\n",
            "234/234 [==============================] - 0s 2ms/step - loss: 0.3911 - accuracy: 0.8277\n",
            "Epoch 19/100\n",
            "234/234 [==============================] - 0s 2ms/step - loss: 0.3894 - accuracy: 0.8273\n",
            "Epoch 20/100\n",
            "234/234 [==============================] - 0s 2ms/step - loss: 0.3879 - accuracy: 0.8276\n",
            "Epoch 21/100\n",
            "234/234 [==============================] - 0s 2ms/step - loss: 0.3865 - accuracy: 0.8277\n",
            "Epoch 22/100\n",
            "234/234 [==============================] - 0s 2ms/step - loss: 0.3850 - accuracy: 0.8280\n",
            "Epoch 23/100\n",
            "234/234 [==============================] - 0s 2ms/step - loss: 0.3837 - accuracy: 0.8277\n",
            "Epoch 24/100\n",
            "234/234 [==============================] - 0s 2ms/step - loss: 0.3826 - accuracy: 0.8284\n",
            "Epoch 25/100\n",
            "234/234 [==============================] - 0s 2ms/step - loss: 0.3816 - accuracy: 0.8291\n",
            "Epoch 26/100\n",
            "234/234 [==============================] - 0s 2ms/step - loss: 0.3805 - accuracy: 0.8326\n",
            "Epoch 27/100\n",
            "234/234 [==============================] - 0s 2ms/step - loss: 0.3796 - accuracy: 0.8411\n",
            "Epoch 28/100\n",
            "234/234 [==============================] - 0s 2ms/step - loss: 0.3787 - accuracy: 0.8410\n",
            "Epoch 29/100\n",
            "234/234 [==============================] - 0s 2ms/step - loss: 0.3779 - accuracy: 0.8429\n",
            "Epoch 30/100\n",
            "234/234 [==============================] - 0s 2ms/step - loss: 0.3772 - accuracy: 0.8429\n",
            "Epoch 31/100\n",
            "234/234 [==============================] - 0s 2ms/step - loss: 0.3764 - accuracy: 0.8437\n",
            "Epoch 32/100\n",
            "234/234 [==============================] - 0s 2ms/step - loss: 0.3757 - accuracy: 0.8433\n",
            "Epoch 33/100\n",
            "234/234 [==============================] - 0s 2ms/step - loss: 0.3750 - accuracy: 0.8449\n",
            "Epoch 34/100\n",
            "234/234 [==============================] - 1s 2ms/step - loss: 0.3745 - accuracy: 0.8436\n",
            "Epoch 35/100\n",
            "234/234 [==============================] - 1s 3ms/step - loss: 0.3738 - accuracy: 0.8457\n",
            "Epoch 36/100\n",
            "234/234 [==============================] - 1s 2ms/step - loss: 0.3731 - accuracy: 0.8449\n",
            "Epoch 37/100\n",
            "234/234 [==============================] - 1s 2ms/step - loss: 0.3724 - accuracy: 0.8466\n",
            "Epoch 38/100\n",
            "234/234 [==============================] - 1s 2ms/step - loss: 0.3721 - accuracy: 0.8470\n",
            "Epoch 39/100\n",
            "234/234 [==============================] - 0s 2ms/step - loss: 0.3710 - accuracy: 0.8484\n",
            "Epoch 40/100\n",
            "234/234 [==============================] - 0s 2ms/step - loss: 0.3709 - accuracy: 0.8484\n",
            "Epoch 41/100\n",
            "234/234 [==============================] - 1s 2ms/step - loss: 0.3703 - accuracy: 0.8510\n",
            "Epoch 42/100\n",
            "234/234 [==============================] - 1s 4ms/step - loss: 0.3698 - accuracy: 0.8487\n",
            "Epoch 43/100\n",
            "234/234 [==============================] - 1s 4ms/step - loss: 0.3697 - accuracy: 0.8491\n",
            "Epoch 44/100\n",
            "234/234 [==============================] - 1s 3ms/step - loss: 0.3688 - accuracy: 0.8511\n",
            "Epoch 45/100\n",
            "234/234 [==============================] - 1s 4ms/step - loss: 0.3685 - accuracy: 0.8507\n",
            "Epoch 46/100\n",
            "234/234 [==============================] - 1s 3ms/step - loss: 0.3681 - accuracy: 0.8517\n",
            "Epoch 47/100\n",
            "234/234 [==============================] - 1s 3ms/step - loss: 0.3676 - accuracy: 0.8500\n",
            "Epoch 48/100\n",
            "234/234 [==============================] - 1s 3ms/step - loss: 0.3672 - accuracy: 0.8521\n",
            "Epoch 49/100\n",
            "234/234 [==============================] - 1s 4ms/step - loss: 0.3668 - accuracy: 0.8526\n",
            "Epoch 50/100\n",
            "234/234 [==============================] - 1s 3ms/step - loss: 0.3663 - accuracy: 0.8511\n",
            "Epoch 51/100\n",
            "234/234 [==============================] - 1s 3ms/step - loss: 0.3661 - accuracy: 0.8519\n",
            "Epoch 52/100\n",
            "234/234 [==============================] - 1s 3ms/step - loss: 0.3659 - accuracy: 0.8526\n",
            "Epoch 53/100\n",
            "234/234 [==============================] - 1s 2ms/step - loss: 0.3649 - accuracy: 0.8534\n",
            "Epoch 54/100\n",
            "234/234 [==============================] - 1s 6ms/step - loss: 0.3651 - accuracy: 0.8520\n",
            "Epoch 55/100\n",
            "234/234 [==============================] - 2s 7ms/step - loss: 0.3646 - accuracy: 0.8537\n",
            "Epoch 56/100\n",
            "234/234 [==============================] - 1s 6ms/step - loss: 0.3642 - accuracy: 0.8537\n",
            "Epoch 57/100\n",
            "234/234 [==============================] - 1s 5ms/step - loss: 0.3643 - accuracy: 0.8537\n",
            "Epoch 58/100\n",
            "234/234 [==============================] - 1s 2ms/step - loss: 0.3639 - accuracy: 0.8531\n",
            "Epoch 59/100\n",
            "234/234 [==============================] - 0s 2ms/step - loss: 0.3634 - accuracy: 0.8521\n",
            "Epoch 60/100\n",
            "234/234 [==============================] - 0s 2ms/step - loss: 0.3629 - accuracy: 0.8526\n",
            "Epoch 61/100\n",
            "234/234 [==============================] - 0s 2ms/step - loss: 0.3633 - accuracy: 0.8524\n",
            "Epoch 62/100\n",
            "234/234 [==============================] - 0s 2ms/step - loss: 0.3625 - accuracy: 0.8526\n",
            "Epoch 63/100\n",
            "234/234 [==============================] - 0s 2ms/step - loss: 0.3622 - accuracy: 0.8539\n",
            "Epoch 64/100\n",
            "234/234 [==============================] - 0s 2ms/step - loss: 0.3625 - accuracy: 0.8521\n",
            "Epoch 65/100\n",
            "234/234 [==============================] - 0s 2ms/step - loss: 0.3615 - accuracy: 0.8536\n",
            "Epoch 66/100\n",
            "234/234 [==============================] - 0s 2ms/step - loss: 0.3616 - accuracy: 0.8521\n",
            "Epoch 67/100\n",
            "234/234 [==============================] - 0s 2ms/step - loss: 0.3615 - accuracy: 0.8544\n",
            "Epoch 68/100\n",
            "234/234 [==============================] - 0s 2ms/step - loss: 0.3613 - accuracy: 0.8550\n",
            "Epoch 69/100\n",
            "234/234 [==============================] - 0s 2ms/step - loss: 0.3607 - accuracy: 0.8550\n",
            "Epoch 70/100\n",
            "234/234 [==============================] - 0s 2ms/step - loss: 0.3608 - accuracy: 0.8517\n",
            "Epoch 71/100\n",
            "234/234 [==============================] - 0s 2ms/step - loss: 0.3603 - accuracy: 0.8554\n",
            "Epoch 72/100\n",
            "234/234 [==============================] - 0s 2ms/step - loss: 0.3605 - accuracy: 0.8550\n",
            "Epoch 73/100\n",
            "234/234 [==============================] - 0s 2ms/step - loss: 0.3600 - accuracy: 0.8544\n",
            "Epoch 74/100\n",
            "234/234 [==============================] - 1s 2ms/step - loss: 0.3600 - accuracy: 0.8551\n",
            "Epoch 75/100\n",
            "234/234 [==============================] - 1s 3ms/step - loss: 0.3594 - accuracy: 0.8547\n",
            "Epoch 76/100\n",
            "234/234 [==============================] - 1s 3ms/step - loss: 0.3597 - accuracy: 0.8540\n",
            "Epoch 77/100\n",
            "234/234 [==============================] - 1s 2ms/step - loss: 0.3589 - accuracy: 0.8554\n",
            "Epoch 78/100\n",
            "234/234 [==============================] - 1s 2ms/step - loss: 0.3590 - accuracy: 0.8527\n",
            "Epoch 79/100\n",
            "234/234 [==============================] - 0s 2ms/step - loss: 0.3590 - accuracy: 0.8551\n",
            "Epoch 80/100\n",
            "234/234 [==============================] - 0s 2ms/step - loss: 0.3585 - accuracy: 0.8531\n",
            "Epoch 81/100\n",
            "234/234 [==============================] - 0s 2ms/step - loss: 0.3584 - accuracy: 0.8546\n",
            "Epoch 82/100\n",
            "234/234 [==============================] - 0s 2ms/step - loss: 0.3585 - accuracy: 0.8546\n",
            "Epoch 83/100\n",
            "234/234 [==============================] - 0s 2ms/step - loss: 0.3584 - accuracy: 0.8541\n",
            "Epoch 84/100\n",
            "234/234 [==============================] - 0s 2ms/step - loss: 0.3583 - accuracy: 0.8524\n",
            "Epoch 85/100\n",
            "234/234 [==============================] - 0s 2ms/step - loss: 0.3580 - accuracy: 0.8540\n",
            "Epoch 86/100\n",
            "234/234 [==============================] - 0s 2ms/step - loss: 0.3581 - accuracy: 0.8544\n",
            "Epoch 87/100\n",
            "234/234 [==============================] - 0s 2ms/step - loss: 0.3577 - accuracy: 0.8540\n",
            "Epoch 88/100\n",
            "234/234 [==============================] - 0s 2ms/step - loss: 0.3576 - accuracy: 0.8550\n",
            "Epoch 89/100\n",
            "234/234 [==============================] - 0s 2ms/step - loss: 0.3578 - accuracy: 0.8533\n",
            "Epoch 90/100\n",
            "234/234 [==============================] - 0s 2ms/step - loss: 0.3575 - accuracy: 0.8540\n",
            "Epoch 91/100\n",
            "234/234 [==============================] - 0s 2ms/step - loss: 0.3572 - accuracy: 0.8549\n",
            "Epoch 92/100\n",
            "234/234 [==============================] - 0s 2ms/step - loss: 0.3569 - accuracy: 0.8553\n",
            "Epoch 93/100\n",
            "234/234 [==============================] - 0s 2ms/step - loss: 0.3570 - accuracy: 0.8557\n",
            "Epoch 94/100\n",
            "234/234 [==============================] - 0s 2ms/step - loss: 0.3568 - accuracy: 0.8559\n",
            "Epoch 95/100\n",
            "234/234 [==============================] - 0s 2ms/step - loss: 0.3566 - accuracy: 0.8564\n",
            "Epoch 96/100\n",
            "234/234 [==============================] - 0s 2ms/step - loss: 0.3568 - accuracy: 0.8540\n",
            "Epoch 97/100\n",
            "234/234 [==============================] - 0s 2ms/step - loss: 0.3562 - accuracy: 0.8554\n",
            "Epoch 98/100\n",
            "234/234 [==============================] - 0s 2ms/step - loss: 0.3565 - accuracy: 0.8534\n",
            "Epoch 99/100\n",
            "234/234 [==============================] - 0s 2ms/step - loss: 0.3564 - accuracy: 0.8551\n",
            "Epoch 100/100\n",
            "234/234 [==============================] - 0s 2ms/step - loss: 0.3561 - accuracy: 0.8543\n",
            "94/94 [==============================] - 0s 1ms/step\n"
          ]
        }
      ]
    },
    {
      "cell_type": "code",
      "source": [
        "# step6 :- Set Threshold\n",
        "Y_pred = np.where(Y_pred>0.5,1,0)"
      ],
      "metadata": {
        "id": "RHXHcIkYkKNB"
      },
      "execution_count": null,
      "outputs": []
    },
    {
      "cell_type": "code",
      "source": [
        "Y_pred"
      ],
      "metadata": {
        "colab": {
          "base_uri": "https://localhost:8080/"
        },
        "id": "sVdxESVLkoDq",
        "outputId": "5f1ce7a8-c1b5-4015-9c33-216857cab672"
      },
      "execution_count": null,
      "outputs": [
        {
          "output_type": "execute_result",
          "data": {
            "text/plain": [
              "array([[0],\n",
              "       [0],\n",
              "       [0],\n",
              "       ...,\n",
              "       [0],\n",
              "       [0],\n",
              "       [0]])"
            ]
          },
          "metadata": {},
          "execution_count": 14
        }
      ]
    },
    {
      "cell_type": "code",
      "source": [
        "# evaluation\n",
        "from sklearn.metrics import classification_report\n",
        "print( classification_report(Y_test,Y_pred) )"
      ],
      "metadata": {
        "colab": {
          "base_uri": "https://localhost:8080/"
        },
        "id": "iYa_ksRUkp1Q",
        "outputId": "3182a4d5-d4e1-4a9d-a5f0-dbf8159c131b"
      },
      "execution_count": null,
      "outputs": [
        {
          "output_type": "stream",
          "name": "stdout",
          "text": [
            "              precision    recall  f1-score   support\n",
            "\n",
            "           0       0.86      0.96      0.91      2373\n",
            "           1       0.74      0.42      0.54       627\n",
            "\n",
            "    accuracy                           0.85      3000\n",
            "   macro avg       0.80      0.69      0.72      3000\n",
            "weighted avg       0.84      0.85      0.83      3000\n",
            "\n"
          ]
        }
      ]
    }
  ]
}
