{
  "nbformat": 4,
  "nbformat_minor": 0,
  "metadata": {
    "colab": {
      "provenance": []
    },
    "kernelspec": {
      "name": "python3",
      "display_name": "Python 3"
    },
    "language_info": {
      "name": "python"
    }
  },
  "cells": [
    {
      "cell_type": "markdown",
      "source": [
        "Importing Libraries"
      ],
      "metadata": {
        "id": "XLY4dkuW1a28"
      }
    },
    {
      "cell_type": "code",
      "execution_count": null,
      "metadata": {
        "id": "ggK_8v48xPZ7"
      },
      "outputs": [],
      "source": [
        "from tensorflow import keras\n",
        "from tensorflow.keras import Sequential\n",
        "from tensorflow.keras.layers import Dense,Flatten\n",
        "from tensorflow.keras.callbacks import EarlyStopping"
      ]
    },
    {
      "cell_type": "markdown",
      "source": [
        "Loading Dataset directly into Train & Test parameters"
      ],
      "metadata": {
        "id": "b25Dxv5d1a-k"
      }
    },
    {
      "cell_type": "code",
      "source": [
        "(X_train,Y_train),(X_test,Y_test) = keras.datasets.fashion_mnist.load_data()"
      ],
      "metadata": {
        "id": "JkPe9mj0xfCE"
      },
      "execution_count": null,
      "outputs": []
    },
    {
      "cell_type": "markdown",
      "source": [
        "Getting to know the data\n"
      ],
      "metadata": {
        "id": "vJs9tqWj1lQL"
      }
    },
    {
      "cell_type": "code",
      "source": [
        "X_train.shape"
      ],
      "metadata": {
        "colab": {
          "base_uri": "https://localhost:8080/"
        },
        "id": "GpISKCrax_pR",
        "outputId": "42dd593b-65eb-4544-f49d-f5ad9e408b68"
      },
      "execution_count": null,
      "outputs": [
        {
          "output_type": "execute_result",
          "data": {
            "text/plain": [
              "(60000, 28, 28)"
            ]
          },
          "metadata": {},
          "execution_count": 3
        }
      ]
    },
    {
      "cell_type": "code",
      "source": [
        "# Plotting the image of the 1st row to see how it looks and what class it is (9 - Ankle Boot)\n",
        "import matplotlib.pyplot as plt\n",
        "plt.imshow(X_train[0])"
      ],
      "metadata": {
        "colab": {
          "base_uri": "https://localhost:8080/",
          "height": 283
        },
        "id": "0qrLyLeHyEp8",
        "outputId": "79d480f1-68e3-4f2c-986d-99b63133ba61"
      },
      "execution_count": null,
      "outputs": [
        {
          "output_type": "execute_result",
          "data": {
            "text/plain": [
              "<matplotlib.image.AxesImage at 0x7f45f45c71c0>"
            ]
          },
          "metadata": {},
          "execution_count": 4
        },
        {
          "output_type": "display_data",
          "data": {
            "text/plain": [
              "<Figure size 432x288 with 1 Axes>"
            ],
            "image/png": "[encoded data removed]"
          },
          "metadata": {
            "needs_background": "light"
          }
        }
      ]
    },
    {
      "cell_type": "code",
      "source": [
        "Y_train[0]"
      ],
      "metadata": {
        "colab": {
          "base_uri": "https://localhost:8080/"
        },
        "id": "yLqy7HPIyP7H",
        "outputId": "e7190660-2f38-416c-bfdc-cad32ab9e619"
      },
      "execution_count": null,
      "outputs": [
        {
          "output_type": "execute_result",
          "data": {
            "text/plain": [
              "9"
            ]
          },
          "metadata": {},
          "execution_count": 5
        }
      ]
    },
    {
      "cell_type": "markdown",
      "source": [
        "The values are divided by 255 to standardize them since colors have a range of 0 to 255."
      ],
      "metadata": {
        "id": "Dt29TKxW2v2l"
      }
    },
    {
      "cell_type": "code",
      "source": [
        "X_train = X_train/255\n",
        "X_test = X_test/255"
      ],
      "metadata": {
        "id": "zYtdSM7G1D3u"
      },
      "execution_count": null,
      "outputs": []
    },
    {
      "cell_type": "code",
      "source": [
        "len(X_train[0])"
      ],
      "metadata": {
        "colab": {
          "base_uri": "https://localhost:8080/"
        },
        "id": "bBukoLDC4-gY",
        "outputId": "8dd79591-49bc-4997-af3f-67cd5d445bc5"
      },
      "execution_count": null,
      "outputs": [
        {
          "output_type": "execute_result",
          "data": {
            "text/plain": [
              "28"
            ]
          },
          "metadata": {},
          "execution_count": 7
        }
      ]
    },
    {
      "cell_type": "code",
      "source": [
        "len(set(Y_test))"
      ],
      "metadata": {
        "colab": {
          "base_uri": "https://localhost:8080/"
        },
        "id": "Zg6y6iVa43d7",
        "outputId": "ff0a1192-b517-4082-d377-396639c95f91"
      },
      "execution_count": null,
      "outputs": [
        {
          "output_type": "execute_result",
          "data": {
            "text/plain": [
              "10"
            ]
          },
          "metadata": {},
          "execution_count": 8
        }
      ]
    },
    {
      "cell_type": "code",
      "source": [
        "# Obj\n",
        "ann = Sequential()\n",
        "\n",
        "# Hidden layers\n",
        "ann.add(Flatten(input_shape=(28,28)))   # Here the image is of (28 x 28) pixels i.e. 28D so using flattening layer to convert it into 1D array \n",
        "ann.add(Dense(128,activation=\"relu\"))\n",
        "ann.add(Dense(64,activation=\"relu\"))\n",
        "ann.add(Dense(32,activation=\"relu\"))\n",
        "\n",
        "\n",
        "# Output layers\n",
        "ann.add(Dense(10,activation=\"softmax\"))   # As in total possibilities are [0,1,2...8,9] so total neurons are 10 , Softmax is used for multiclass classififcation\n",
        "\n",
        "# diagram\n",
        "ann.summary()"
      ],
      "metadata": {
        "colab": {
          "base_uri": "https://localhost:8080/"
        },
        "id": "yJDy3WAIyTlr",
        "outputId": "b2e771cf-9345-4ae4-e141-f45c741e91df"
      },
      "execution_count": null,
      "outputs": [
        {
          "output_type": "stream",
          "name": "stdout",
          "text": [
            "Model: \"sequential\"\n",
            "_________________________________________________________________\n",
            " Layer (type)                Output Shape              Param #   \n",
            "=================================================================\n",
            " flatten (Flatten)           (None, 784)               0         \n",
            "                                                                 \n",
            " dense (Dense)               (None, 128)               100480    \n",
            "                                                                 \n",
            " dense_1 (Dense)             (None, 64)                8256      \n",
            "                                                                 \n",
            " dense_2 (Dense)             (None, 32)                2080      \n",
            "                                                                 \n",
            " dense_3 (Dense)             (None, 10)                330       \n",
            "                                                                 \n",
            "=================================================================\n",
            "Total params: 111,146\n",
            "Trainable params: 111,146\n",
            "Non-trainable params: 0\n",
            "_________________________________________________________________\n"
          ]
        }
      ]
    },
    {
      "cell_type": "code",
      "source": [
        "ann.compile(loss=\"sparse_categorical_crossentropy\",optimizer=\"adam\",metrics=[\"accuracy\"])"
      ],
      "metadata": {
        "id": "8eRmCXypywby"
      },
      "execution_count": null,
      "outputs": []
    },
    {
      "cell_type": "markdown",
      "source": [
        "Creating an object of early stopping to save the resources"
      ],
      "metadata": {
        "id": "pl8WOU2u3Dk0"
      }
    },
    {
      "cell_type": "code",
      "source": [
        "ES = EarlyStopping(mode=\"min\",monitor=\"val_loss\",patience=25,verbose=1)"
      ],
      "metadata": {
        "id": "WWveBxea0B7W"
      },
      "execution_count": null,
      "outputs": []
    },
    {
      "cell_type": "code",
      "source": [
        "ann.fit(X_train,Y_train,validation_split=0.2,epochs=25,batch_size=64,callbacks=ES)"
      ],
      "metadata": {
        "colab": {
          "base_uri": "https://localhost:8080/"
        },
        "id": "lVEW3hpnzekV",
        "outputId": "42ff47bf-2b34-477c-b6dd-c17696bf31a5"
      },
      "execution_count": null,
      "outputs": [
        {
          "output_type": "stream",
          "name": "stdout",
          "text": [
            "Epoch 1/25\n",
            "750/750 [==============================] - 8s 10ms/step - loss: 0.5685 - accuracy: 0.8031 - val_loss: 0.4193 - val_accuracy: 0.8509\n",
            "Epoch 2/25\n",
            "750/750 [==============================] - 8s 11ms/step - loss: 0.3899 - accuracy: 0.8586 - val_loss: 0.4013 - val_accuracy: 0.8518\n",
            "Epoch 3/25\n",
            "750/750 [==============================] - 7s 9ms/step - loss: 0.3494 - accuracy: 0.8716 - val_loss: 0.3645 - val_accuracy: 0.8681\n",
            "Epoch 4/25\n",
            "750/750 [==============================] - 4s 6ms/step - loss: 0.3241 - accuracy: 0.8794 - val_loss: 0.4081 - val_accuracy: 0.8418\n",
            "Epoch 5/25\n",
            "750/750 [==============================] - 5s 6ms/step - loss: 0.3049 - accuracy: 0.8867 - val_loss: 0.3598 - val_accuracy: 0.8690\n",
            "Epoch 6/25\n",
            "750/750 [==============================] - 4s 6ms/step - loss: 0.2880 - accuracy: 0.8923 - val_loss: 0.3361 - val_accuracy: 0.8780\n",
            "Epoch 7/25\n",
            "750/750 [==============================] - 4s 5ms/step - loss: 0.2765 - accuracy: 0.8957 - val_loss: 0.3308 - val_accuracy: 0.8826\n",
            "Epoch 8/25\n",
            "750/750 [==============================] - 5s 7ms/step - loss: 0.2663 - accuracy: 0.9017 - val_loss: 0.3282 - val_accuracy: 0.8863\n",
            "Epoch 9/25\n",
            "750/750 [==============================] - 4s 5ms/step - loss: 0.2554 - accuracy: 0.9045 - val_loss: 0.3506 - val_accuracy: 0.8734\n",
            "Epoch 10/25\n",
            "750/750 [==============================] - 4s 6ms/step - loss: 0.2478 - accuracy: 0.9072 - val_loss: 0.3061 - val_accuracy: 0.8903\n",
            "Epoch 11/25\n",
            "750/750 [==============================] - 5s 7ms/step - loss: 0.2389 - accuracy: 0.9109 - val_loss: 0.3285 - val_accuracy: 0.8836\n",
            "Epoch 12/25\n",
            "750/750 [==============================] - 4s 5ms/step - loss: 0.2299 - accuracy: 0.9127 - val_loss: 0.3461 - val_accuracy: 0.8836\n",
            "Epoch 13/25\n",
            "750/750 [==============================] - 4s 5ms/step - loss: 0.2222 - accuracy: 0.9159 - val_loss: 0.3224 - val_accuracy: 0.8918\n",
            "Epoch 14/25\n",
            "750/750 [==============================] - 5s 7ms/step - loss: 0.2168 - accuracy: 0.9188 - val_loss: 0.3397 - val_accuracy: 0.8891\n",
            "Epoch 15/25\n",
            "750/750 [==============================] - 4s 6ms/step - loss: 0.2092 - accuracy: 0.9209 - val_loss: 0.3357 - val_accuracy: 0.8908\n",
            "Epoch 16/25\n",
            "750/750 [==============================] - 4s 6ms/step - loss: 0.2057 - accuracy: 0.9227 - val_loss: 0.3264 - val_accuracy: 0.8878\n",
            "Epoch 17/25\n",
            "750/750 [==============================] - 5s 7ms/step - loss: 0.1977 - accuracy: 0.9247 - val_loss: 0.3252 - val_accuracy: 0.8930\n",
            "Epoch 18/25\n",
            "750/750 [==============================] - 5s 7ms/step - loss: 0.1933 - accuracy: 0.9272 - val_loss: 0.3421 - val_accuracy: 0.8907\n",
            "Epoch 19/25\n",
            "750/750 [==============================] - 6s 8ms/step - loss: 0.1863 - accuracy: 0.9288 - val_loss: 0.3605 - val_accuracy: 0.8857\n",
            "Epoch 20/25\n",
            "750/750 [==============================] - 4s 6ms/step - loss: 0.1856 - accuracy: 0.9291 - val_loss: 0.3806 - val_accuracy: 0.8857\n",
            "Epoch 21/25\n",
            "750/750 [==============================] - 4s 5ms/step - loss: 0.1798 - accuracy: 0.9324 - val_loss: 0.3526 - val_accuracy: 0.8909\n",
            "Epoch 22/25\n",
            "750/750 [==============================] - 5s 7ms/step - loss: 0.1744 - accuracy: 0.9347 - val_loss: 0.3647 - val_accuracy: 0.8828\n",
            "Epoch 23/25\n",
            "750/750 [==============================] - 4s 6ms/step - loss: 0.1698 - accuracy: 0.9362 - val_loss: 0.3587 - val_accuracy: 0.8896\n",
            "Epoch 24/25\n",
            "750/750 [==============================] - 5s 6ms/step - loss: 0.1611 - accuracy: 0.9391 - val_loss: 0.3662 - val_accuracy: 0.8911\n",
            "Epoch 25/25\n",
            "750/750 [==============================] - 5s 6ms/step - loss: 0.1623 - accuracy: 0.9383 - val_loss: 0.3770 - val_accuracy: 0.8887\n"
          ]
        },
        {
          "output_type": "execute_result",
          "data": {
            "text/plain": [
              "<keras.callbacks.History at 0x7f45f79cf190>"
            ]
          },
          "metadata": {},
          "execution_count": 12
        }
      ]
    },
    {
      "cell_type": "code",
      "source": [
        "Y_prob = ann.predict(X_test)"
      ],
      "metadata": {
        "colab": {
          "base_uri": "https://localhost:8080/"
        },
        "id": "jUcdAXCJ0cfX",
        "outputId": "213e0441-5b17-4021-fac7-387cfcada09e"
      },
      "execution_count": null,
      "outputs": [
        {
          "output_type": "stream",
          "name": "stdout",
          "text": [
            "313/313 [==============================] - 1s 2ms/step\n"
          ]
        }
      ]
    },
    {
      "cell_type": "markdown",
      "source": [
        "Assigning the class based on the highest probability values for the numbers 0 to 9."
      ],
      "metadata": {
        "id": "DkGcPhUT3KO3"
      }
    },
    {
      "cell_type": "code",
      "source": [
        "Y_pred = Y_prob.argmax(axis=1)"
      ],
      "metadata": {
        "id": "v9NyVDe22Q5s"
      },
      "execution_count": null,
      "outputs": []
    },
    {
      "cell_type": "markdown",
      "source": [
        "The probability that the first row belongs to each of the [0-9] classes."
      ],
      "metadata": {
        "id": "pSrQ3osS3IHb"
      }
    },
    {
      "cell_type": "code",
      "source": [
        "Y_prob[0]"
      ],
      "metadata": {
        "colab": {
          "base_uri": "https://localhost:8080/"
        },
        "id": "e_YtykkW3C2i",
        "outputId": "8fefbd59-e43f-4c5b-edd0-04ec593e71b7"
      },
      "execution_count": null,
      "outputs": [
        {
          "output_type": "execute_result",
          "data": {
            "text/plain": [
              "array([1.8610631e-06, 4.0219443e-06, 6.8793802e-06, 3.2166761e-05,\n",
              "       1.7617293e-07, 1.3151170e-04, 3.4920934e-06, 4.8407752e-04,\n",
              "       2.2943200e-06, 9.9933356e-01], dtype=float32)"
            ]
          },
          "metadata": {},
          "execution_count": 15
        }
      ]
    },
    {
      "cell_type": "code",
      "source": [
        "Y_pred"
      ],
      "metadata": {
        "colab": {
          "base_uri": "https://localhost:8080/"
        },
        "id": "b7o4M-qf267L",
        "outputId": "36256661-cd5f-4ef8-e657-6a9e1de63825"
      },
      "execution_count": null,
      "outputs": [
        {
          "output_type": "execute_result",
          "data": {
            "text/plain": [
              "array([9, 2, 1, ..., 8, 1, 5])"
            ]
          },
          "metadata": {},
          "execution_count": 16
        }
      ]
    },
    {
      "cell_type": "markdown",
      "source": [
        "Classification Report"
      ],
      "metadata": {
        "id": "_kLsQeII3PEp"
      }
    },
    {
      "cell_type": "code",
      "source": [
        "from sklearn.metrics import classification_report\n",
        "print(classification_report(Y_test,Y_pred))"
      ],
      "metadata": {
        "colab": {
          "base_uri": "https://localhost:8080/"
        },
        "id": "BjYt3DTc2lfa",
        "outputId": "02f96e27-836a-407e-84a3-523157cefd78"
      },
      "execution_count": null,
      "outputs": [
        {
          "output_type": "stream",
          "name": "stdout",
          "text": [
            "              precision    recall  f1-score   support\n",
            "\n",
            "           0       0.85      0.81      0.83      1000\n",
            "           1       0.99      0.98      0.98      1000\n",
            "           2       0.83      0.78      0.80      1000\n",
            "           3       0.90      0.90      0.90      1000\n",
            "           4       0.78      0.82      0.80      1000\n",
            "           5       0.96      0.97      0.97      1000\n",
            "           6       0.69      0.72      0.71      1000\n",
            "           7       0.95      0.95      0.95      1000\n",
            "           8       0.95      0.98      0.96      1000\n",
            "           9       0.96      0.96      0.96      1000\n",
            "\n",
            "    accuracy                           0.89     10000\n",
            "   macro avg       0.89      0.89      0.89     10000\n",
            "weighted avg       0.89      0.89      0.89     10000\n",
            "\n"
          ]
        }
      ]
    },
    {
      "cell_type": "code",
      "source": [],
      "metadata": {
        "id": "NLeam7uU2qid"
      },
      "execution_count": null,
      "outputs": []
    }
  ]
}