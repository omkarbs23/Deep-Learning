{
  "nbformat": 4,
  "nbformat_minor": 0,
  "metadata": {
    "colab": {
      "provenance": []
    },
    "kernelspec": {
      "name": "python3",
      "display_name": "Python 3"
    },
    "language_info": {
      "name": "python"
    }
  },
  "cells": [
    {
      "cell_type": "markdown",
      "source": [
        "Importing Libraries"
      ],
      "metadata": {
        "id": "HkhazRGExey1"
      }
    },
    {
      "cell_type": "code",
      "execution_count": null,
      "metadata": {
        "id": "bp9tksvDRb72"
      },
      "outputs": [],
      "source": [
        "import pandas as pd\n",
        "import numpy as np\n",
        "import seaborn as sns\n",
        "import matplotlib.pyplot as plt"
      ]
    },
    {
      "cell_type": "markdown",
      "source": [
        "Importing Dataset"
      ],
      "metadata": {
        "id": "BgK6k_lVxlu9"
      }
    },
    {
      "cell_type": "code",
      "source": [
        "df = pd.read_excel(\"/content/fake_reg.xlsx\")\n",
        "df.head()"
      ],
      "metadata": {
        "colab": {
          "base_uri": "https://localhost:8080/",
          "height": 206
        },
        "id": "Iu4DM74ARdVZ",
        "outputId": "19788b45-11a4-4792-856d-7225fa0cdb3b"
      },
      "execution_count": null,
      "outputs": [
        {
          "output_type": "execute_result",
          "data": {
            "text/plain": [
              "        price     feature1     feature2\n",
              "0  461.527929   999.787558   999.766096\n",
              "1  548.130011   998.861615  1001.042403\n",
              "2  410.297162  1000.070267   998.844015\n",
              "3  540.382220   999.952251  1000.440940\n",
              "4  546.024553  1000.446011  1000.338531"
            ],
            "text/html": [
              "\n",
              "  <div id=\"df-175b53fd-7259-45c1-9d31-3745d59a9198\">\n",
              "    <div class=\"colab-df-container\">\n",
              "      <div>\n",
              "<style scoped>\n",
              "    .dataframe tbody tr th:only-of-type {\n",
              "        vertical-align: middle;\n",
              "    }\n",
              "\n",
              "    .dataframe tbody tr th {\n",
              "        vertical-align: top;\n",
              "    }\n",
              "\n",
              "    .dataframe thead th {\n",
              "        text-align: right;\n",
              "    }\n",
              "</style>\n",
              "<table border=\"1\" class=\"dataframe\">\n",
              "  <thead>\n",
              "    <tr style=\"text-align: right;\">\n",
              "      <th></th>\n",
              "      <th>price</th>\n",
              "      <th>feature1</th>\n",
              "      <th>feature2</th>\n",
              "    </tr>\n",
              "  </thead>\n",
              "  <tbody>\n",
              "    <tr>\n",
              "      <th>0</th>\n",
              "      <td>461.527929</td>\n",
              "      <td>999.787558</td>\n",
              "      <td>999.766096</td>\n",
              "    </tr>\n",
              "    <tr>\n",
              "      <th>1</th>\n",
              "      <td>548.130011</td>\n",
              "      <td>998.861615</td>\n",
              "      <td>1001.042403</td>\n",
              "    </tr>\n",
              "    <tr>\n",
              "      <th>2</th>\n",
              "      <td>410.297162</td>\n",
              "      <td>1000.070267</td>\n",
              "      <td>998.844015</td>\n",
              "    </tr>\n",
              "    <tr>\n",
              "      <th>3</th>\n",
              "      <td>540.382220</td>\n",
              "      <td>999.952251</td>\n",
              "      <td>1000.440940</td>\n",
              "    </tr>\n",
              "    <tr>\n",
              "      <th>4</th>\n",
              "      <td>546.024553</td>\n",
              "      <td>1000.446011</td>\n",
              "      <td>1000.338531</td>\n",
              "    </tr>\n",
              "  </tbody>\n",
              "</table>\n",
              "</div>\n",
              "      <button class=\"colab-df-convert\" onclick=\"convertToInteractive('df-175b53fd-7259-45c1-9d31-3745d59a9198')\"\n",
              "              title=\"Convert this dataframe to an interactive table.\"\n",
              "              style=\"display:none;\">\n",
              "        \n",
              "  <svg xmlns=\"http://www.w3.org/2000/svg\" height=\"24px\"viewBox=\"0 0 24 24\"\n",
              "       width=\"24px\">\n",
              "    <path d=\"M0 0h24v24H0V0z\" fill=\"none\"/>\n",
              "    <path d=\"M18.56 5.44l.94 2.06.94-2.06 2.06-.94-2.06-.94-.94-2.06-.94 2.06-2.06.94zm-11 1L8.5 8.5l.94-2.06 2.06-.94-2.06-.94L8.5 2.5l-.94 2.06-2.06.94zm10 10l.94 2.06.94-2.06 2.06-.94-2.06-.94-.94-2.06-.94 2.06-2.06.94z\"/><path d=\"M17.41 7.96l-1.37-1.37c-.4-.4-.92-.59-1.43-.59-.52 0-1.04.2-1.43.59L10.3 9.45l-7.72 7.72c-.78.78-.78 2.05 0 2.83L4 21.41c.39.39.9.59 1.41.59.51 0 1.02-.2 1.41-.59l7.78-7.78 2.81-2.81c.8-.78.8-2.07 0-2.86zM5.41 20L4 18.59l7.72-7.72 1.47 1.35L5.41 20z\"/>\n",
              "  </svg>\n",
              "      </button>\n",
              "      \n",
              "  <style>\n",
              "    .colab-df-container {\n",
              "      display:flex;\n",
              "      flex-wrap:wrap;\n",
              "      gap: 12px;\n",
              "    }\n",
              "\n",
              "    .colab-df-convert {\n",
              "      background-color: #E8F0FE;\n",
              "      border: none;\n",
              "      border-radius: 50%;\n",
              "      cursor: pointer;\n",
              "      display: none;\n",
              "      fill: #1967D2;\n",
              "      height: 32px;\n",
              "      padding: 0 0 0 0;\n",
              "      width: 32px;\n",
              "    }\n",
              "\n",
              "    .colab-df-convert:hover {\n",
              "      background-color: #E2EBFA;\n",
              "      box-shadow: 0px 1px 2px rgba(60, 64, 67, 0.3), 0px 1px 3px 1px rgba(60, 64, 67, 0.15);\n",
              "      fill: #174EA6;\n",
              "    }\n",
              "\n",
              "    [theme=dark] .colab-df-convert {\n",
              "      background-color: #3B4455;\n",
              "      fill: #D2E3FC;\n",
              "    }\n",
              "\n",
              "    [theme=dark] .colab-df-convert:hover {\n",
              "      background-color: #434B5C;\n",
              "      box-shadow: 0px 1px 3px 1px rgba(0, 0, 0, 0.15);\n",
              "      filter: drop-shadow(0px 1px 2px rgba(0, 0, 0, 0.3));\n",
              "      fill: #FFFFFF;\n",
              "    }\n",
              "  </style>\n",
              "\n",
              "      <script>\n",
              "        const buttonEl =\n",
              "          document.querySelector('#df-175b53fd-7259-45c1-9d31-3745d59a9198 button.colab-df-convert');\n",
              "        buttonEl.style.display =\n",
              "          google.colab.kernel.accessAllowed ? 'block' : 'none';\n",
              "\n",
              "        async function convertToInteractive(key) {\n",
              "          const element = document.querySelector('#df-175b53fd-7259-45c1-9d31-3745d59a9198');\n",
              "          const dataTable =\n",
              "            await google.colab.kernel.invokeFunction('convertToInteractive',\n",
              "                                                     [key], {});\n",
              "          if (!dataTable) return;\n",
              "\n",
              "          const docLinkHtml = 'Like what you see? Visit the ' +\n",
              "            '<a target=\"_blank\" href=https://colab.research.google.com/notebooks/data_table.ipynb>data table notebook</a>'\n",
              "            + ' to learn more about interactive tables.';\n",
              "          element.innerHTML = '';\n",
              "          dataTable['output_type'] = 'display_data';\n",
              "          await google.colab.output.renderOutput(dataTable, element);\n",
              "          const docLink = document.createElement('div');\n",
              "          docLink.innerHTML = docLinkHtml;\n",
              "          element.appendChild(docLink);\n",
              "        }\n",
              "      </script>\n",
              "    </div>\n",
              "  </div>\n",
              "  "
            ]
          },
          "metadata": {},
          "execution_count": 2
        }
      ]
    },
    {
      "cell_type": "markdown",
      "source": [
        "Understanding Dataset"
      ],
      "metadata": {
        "id": "5Uz13v9Pxr2X"
      }
    },
    {
      "cell_type": "code",
      "source": [
        "df.info()"
      ],
      "metadata": {
        "colab": {
          "base_uri": "https://localhost:8080/"
        },
        "id": "yFqCRaPIRkPc",
        "outputId": "c63f2a7e-faad-4017-bc8f-96a6010a0908"
      },
      "execution_count": null,
      "outputs": [
        {
          "output_type": "stream",
          "name": "stdout",
          "text": [
            "<class 'pandas.core.frame.DataFrame'>\n",
            "RangeIndex: 1000 entries, 0 to 999\n",
            "Data columns (total 3 columns):\n",
            " #   Column    Non-Null Count  Dtype  \n",
            "---  ------    --------------  -----  \n",
            " 0   price     1000 non-null   float64\n",
            " 1   feature1  1000 non-null   float64\n",
            " 2   feature2  1000 non-null   float64\n",
            "dtypes: float64(3)\n",
            "memory usage: 23.6 KB\n"
          ]
        }
      ]
    },
    {
      "cell_type": "code",
      "source": [
        "df.describe()"
      ],
      "metadata": {
        "colab": {
          "base_uri": "https://localhost:8080/",
          "height": 300
        },
        "id": "C8XY5gJqRqbs",
        "outputId": "728f53e9-347d-45d4-a806-ee779aa77eac"
      },
      "execution_count": null,
      "outputs": [
        {
          "output_type": "execute_result",
          "data": {
            "text/plain": [
              "             price     feature1     feature2\n",
              "count  1000.000000  1000.000000  1000.000000\n",
              "mean    498.673029  1000.014171   999.979847\n",
              "std      93.785431     0.974018     0.948330\n",
              "min     223.346793   997.058347   996.995651\n",
              "25%     433.025732   999.332068   999.316106\n",
              "50%     502.382117  1000.009915  1000.002243\n",
              "75%     564.921588  1000.637580  1000.645380\n",
              "max     774.407854  1003.207934  1002.666308"
            ],
            "text/html": [
              "\n",
              "  <div id=\"df-5c16b1a0-0854-4800-b961-9d8ada094ce0\">\n",
              "    <div class=\"colab-df-container\">\n",
              "      <div>\n",
              "<style scoped>\n",
              "    .dataframe tbody tr th:only-of-type {\n",
              "        vertical-align: middle;\n",
              "    }\n",
              "\n",
              "    .dataframe tbody tr th {\n",
              "        vertical-align: top;\n",
              "    }\n",
              "\n",
              "    .dataframe thead th {\n",
              "        text-align: right;\n",
              "    }\n",
              "</style>\n",
              "<table border=\"1\" class=\"dataframe\">\n",
              "  <thead>\n",
              "    <tr style=\"text-align: right;\">\n",
              "      <th></th>\n",
              "      <th>price</th>\n",
              "      <th>feature1</th>\n",
              "      <th>feature2</th>\n",
              "    </tr>\n",
              "  </thead>\n",
              "  <tbody>\n",
              "    <tr>\n",
              "      <th>count</th>\n",
              "      <td>1000.000000</td>\n",
              "      <td>1000.000000</td>\n",
              "      <td>1000.000000</td>\n",
              "    </tr>\n",
              "    <tr>\n",
              "      <th>mean</th>\n",
              "      <td>498.673029</td>\n",
              "      <td>1000.014171</td>\n",
              "      <td>999.979847</td>\n",
              "    </tr>\n",
              "    <tr>\n",
              "      <th>std</th>\n",
              "      <td>93.785431</td>\n",
              "      <td>0.974018</td>\n",
              "      <td>0.948330</td>\n",
              "    </tr>\n",
              "    <tr>\n",
              "      <th>min</th>\n",
              "      <td>223.346793</td>\n",
              "      <td>997.058347</td>\n",
              "      <td>996.995651</td>\n",
              "    </tr>\n",
              "    <tr>\n",
              "      <th>25%</th>\n",
              "      <td>433.025732</td>\n",
              "      <td>999.332068</td>\n",
              "      <td>999.316106</td>\n",
              "    </tr>\n",
              "    <tr>\n",
              "      <th>50%</th>\n",
              "      <td>502.382117</td>\n",
              "      <td>1000.009915</td>\n",
              "      <td>1000.002243</td>\n",
              "    </tr>\n",
              "    <tr>\n",
              "      <th>75%</th>\n",
              "      <td>564.921588</td>\n",
              "      <td>1000.637580</td>\n",
              "      <td>1000.645380</td>\n",
              "    </tr>\n",
              "    <tr>\n",
              "      <th>max</th>\n",
              "      <td>774.407854</td>\n",
              "      <td>1003.207934</td>\n",
              "      <td>1002.666308</td>\n",
              "    </tr>\n",
              "  </tbody>\n",
              "</table>\n",
              "</div>\n",
              "      <button class=\"colab-df-convert\" onclick=\"convertToInteractive('df-5c16b1a0-0854-4800-b961-9d8ada094ce0')\"\n",
              "              title=\"Convert this dataframe to an interactive table.\"\n",
              "              style=\"display:none;\">\n",
              "        \n",
              "  <svg xmlns=\"http://www.w3.org/2000/svg\" height=\"24px\"viewBox=\"0 0 24 24\"\n",
              "       width=\"24px\">\n",
              "    <path d=\"M0 0h24v24H0V0z\" fill=\"none\"/>\n",
              "    <path d=\"M18.56 5.44l.94 2.06.94-2.06 2.06-.94-2.06-.94-.94-2.06-.94 2.06-2.06.94zm-11 1L8.5 8.5l.94-2.06 2.06-.94-2.06-.94L8.5 2.5l-.94 2.06-2.06.94zm10 10l.94 2.06.94-2.06 2.06-.94-2.06-.94-.94-2.06-.94 2.06-2.06.94z\"/><path d=\"M17.41 7.96l-1.37-1.37c-.4-.4-.92-.59-1.43-.59-.52 0-1.04.2-1.43.59L10.3 9.45l-7.72 7.72c-.78.78-.78 2.05 0 2.83L4 21.41c.39.39.9.59 1.41.59.51 0 1.02-.2 1.41-.59l7.78-7.78 2.81-2.81c.8-.78.8-2.07 0-2.86zM5.41 20L4 18.59l7.72-7.72 1.47 1.35L5.41 20z\"/>\n",
              "  </svg>\n",
              "      </button>\n",
              "      \n",
              "  <style>\n",
              "    .colab-df-container {\n",
              "      display:flex;\n",
              "      flex-wrap:wrap;\n",
              "      gap: 12px;\n",
              "    }\n",
              "\n",
              "    .colab-df-convert {\n",
              "      background-color: #E8F0FE;\n",
              "      border: none;\n",
              "      border-radius: 50%;\n",
              "      cursor: pointer;\n",
              "      display: none;\n",
              "      fill: #1967D2;\n",
              "      height: 32px;\n",
              "      padding: 0 0 0 0;\n",
              "      width: 32px;\n",
              "    }\n",
              "\n",
              "    .colab-df-convert:hover {\n",
              "      background-color: #E2EBFA;\n",
              "      box-shadow: 0px 1px 2px rgba(60, 64, 67, 0.3), 0px 1px 3px 1px rgba(60, 64, 67, 0.15);\n",
              "      fill: #174EA6;\n",
              "    }\n",
              "\n",
              "    [theme=dark] .colab-df-convert {\n",
              "      background-color: #3B4455;\n",
              "      fill: #D2E3FC;\n",
              "    }\n",
              "\n",
              "    [theme=dark] .colab-df-convert:hover {\n",
              "      background-color: #434B5C;\n",
              "      box-shadow: 0px 1px 3px 1px rgba(0, 0, 0, 0.15);\n",
              "      filter: drop-shadow(0px 1px 2px rgba(0, 0, 0, 0.3));\n",
              "      fill: #FFFFFF;\n",
              "    }\n",
              "  </style>\n",
              "\n",
              "      <script>\n",
              "        const buttonEl =\n",
              "          document.querySelector('#df-5c16b1a0-0854-4800-b961-9d8ada094ce0 button.colab-df-convert');\n",
              "        buttonEl.style.display =\n",
              "          google.colab.kernel.accessAllowed ? 'block' : 'none';\n",
              "\n",
              "        async function convertToInteractive(key) {\n",
              "          const element = document.querySelector('#df-5c16b1a0-0854-4800-b961-9d8ada094ce0');\n",
              "          const dataTable =\n",
              "            await google.colab.kernel.invokeFunction('convertToInteractive',\n",
              "                                                     [key], {});\n",
              "          if (!dataTable) return;\n",
              "\n",
              "          const docLinkHtml = 'Like what you see? Visit the ' +\n",
              "            '<a target=\"_blank\" href=https://colab.research.google.com/notebooks/data_table.ipynb>data table notebook</a>'\n",
              "            + ' to learn more about interactive tables.';\n",
              "          element.innerHTML = '';\n",
              "          dataTable['output_type'] = 'display_data';\n",
              "          await google.colab.output.renderOutput(dataTable, element);\n",
              "          const docLink = document.createElement('div');\n",
              "          docLink.innerHTML = docLinkHtml;\n",
              "          element.appendChild(docLink);\n",
              "        }\n",
              "      </script>\n",
              "    </div>\n",
              "  </div>\n",
              "  "
            ]
          },
          "metadata": {},
          "execution_count": 4
        }
      ]
    },
    {
      "cell_type": "markdown",
      "source": [
        "Standardization"
      ],
      "metadata": {
        "id": "hxR7mMfDxv5A"
      }
    },
    {
      "cell_type": "code",
      "source": [
        "from sklearn.preprocessing import StandardScaler\n",
        "SS = StandardScaler()\n",
        "X = df.iloc[:,1:]\n",
        "X = SS.fit_transform(X)\n",
        "X"
      ],
      "metadata": {
        "colab": {
          "base_uri": "https://localhost:8080/"
        },
        "id": "dmz_q3KER2Bu",
        "outputId": "d9321c46-ba6c-4e29-df19-3224690777de"
      },
      "execution_count": null,
      "outputs": [
        {
          "output_type": "execute_result",
          "data": {
            "text/plain": [
              "array([[-0.23277507, -0.22551032],\n",
              "       [-1.18389305,  1.12100994],\n",
              "       [ 0.05762089, -1.19831824],\n",
              "       ...,\n",
              "       [ 1.47655837, -1.19452978],\n",
              "       [ 0.77742953, -1.49494963],\n",
              "       [-0.80318737,  1.55251439]])"
            ]
          },
          "metadata": {},
          "execution_count": 5
        }
      ]
    },
    {
      "cell_type": "code",
      "source": [
        "Y = df.price\n",
        "Y"
      ],
      "metadata": {
        "colab": {
          "base_uri": "https://localhost:8080/"
        },
        "id": "9ztn1JKSSDAX",
        "outputId": "7d6f2f9c-63b8-49e5-8af2-fc8d5d9c7b5c"
      },
      "execution_count": null,
      "outputs": [
        {
          "output_type": "execute_result",
          "data": {
            "text/plain": [
              "0      461.527929\n",
              "1      548.130011\n",
              "2      410.297162\n",
              "3      540.382220\n",
              "4      546.024553\n",
              "          ...    \n",
              "995    476.526078\n",
              "996    457.313186\n",
              "997    456.720992\n",
              "998    403.315576\n",
              "999    599.367093\n",
              "Name: price, Length: 1000, dtype: float64"
            ]
          },
          "metadata": {},
          "execution_count": 6
        }
      ]
    },
    {
      "cell_type": "markdown",
      "source": [
        "Splitting the data"
      ],
      "metadata": {
        "id": "0Ij531JYxybi"
      }
    },
    {
      "cell_type": "code",
      "source": [
        "from sklearn.model_selection import train_test_split\n",
        "X_train,X_test,Y_train,Y_test = train_test_split(X,Y,test_size=0.3,random_state=1)"
      ],
      "metadata": {
        "id": "sIut3rORSJyi"
      },
      "execution_count": null,
      "outputs": []
    },
    {
      "cell_type": "code",
      "source": [
        "import tensorflow as tf\n",
        "from tensorflow.keras import Sequential\n",
        "from tensorflow.keras.layers import Dense"
      ],
      "metadata": {
        "id": "U2-H3-kDSX_G"
      },
      "execution_count": null,
      "outputs": []
    },
    {
      "cell_type": "markdown",
      "source": [
        "Applying ANN Modelling"
      ],
      "metadata": {
        "id": "e897u3Xmx1R4"
      }
    },
    {
      "cell_type": "code",
      "source": [
        "# step1 :- initialize the Model\n",
        "ann = Sequential()\n",
        "\n",
        "# step2 :- Add Layers into model\n",
        "ann.add( Dense(units = 100, activation = \"relu\") )\n",
        "ann.add( Dense(units = 100, activation = \"relu\") )\n",
        "\n",
        "ann.add( Dense(units = 1) )\n",
        "\n",
        "# step3 :- Establihing connection \n",
        "ann.compile(optimizer='adam', loss = 'mse')\n",
        "\n",
        "# step4 :- Fit the model\n",
        "ann.fit(X_train, Y_train, batch_size = 30, epochs = 200)\n",
        "\n",
        "# step5 :- Predict the model\n",
        "Y_pred = ann.predict(X_test)"
      ],
      "metadata": {
        "colab": {
          "base_uri": "https://localhost:8080/"
        },
        "id": "KFVEA3hHSYpB",
        "outputId": "134b774d-e378-4392-876c-890d2616a9db"
      },
      "execution_count": null,
      "outputs": [
        {
          "output_type": "stream",
          "name": "stdout",
          "text": [
            "Epoch 1/200\n",
            "24/24 [==============================] - 1s 3ms/step - loss: 254916.9219\n",
            "Epoch 2/200\n",
            "24/24 [==============================] - 0s 3ms/step - loss: 252349.9375\n",
            "Epoch 3/200\n",
            "24/24 [==============================] - 0s 3ms/step - loss: 246287.3594\n",
            "Epoch 4/200\n",
            "24/24 [==============================] - 0s 3ms/step - loss: 234203.9531\n",
            "Epoch 5/200\n",
            "24/24 [==============================] - 0s 3ms/step - loss: 213505.5156\n",
            "Epoch 6/200\n",
            "24/24 [==============================] - 0s 3ms/step - loss: 182884.0625\n",
            "Epoch 7/200\n",
            "24/24 [==============================] - 0s 3ms/step - loss: 143364.3438\n",
            "Epoch 8/200\n",
            "24/24 [==============================] - 0s 2ms/step - loss: 99840.5469\n",
            "Epoch 9/200\n",
            "24/24 [==============================] - 0s 2ms/step - loss: 59646.9766\n",
            "Epoch 10/200\n",
            "24/24 [==============================] - 0s 2ms/step - loss: 30464.1914\n",
            "Epoch 11/200\n",
            "24/24 [==============================] - 0s 2ms/step - loss: 15207.4482\n",
            "Epoch 12/200\n",
            "24/24 [==============================] - 0s 2ms/step - loss: 9607.0889\n",
            "Epoch 13/200\n",
            "24/24 [==============================] - 0s 2ms/step - loss: 8049.4116\n",
            "Epoch 14/200\n",
            "24/24 [==============================] - 0s 2ms/step - loss: 7249.6216\n",
            "Epoch 15/200\n",
            "24/24 [==============================] - 0s 2ms/step - loss: 6591.4380\n",
            "Epoch 16/200\n",
            "24/24 [==============================] - 0s 2ms/step - loss: 5980.6206\n",
            "Epoch 17/200\n",
            "24/24 [==============================] - 0s 2ms/step - loss: 5409.6548\n",
            "Epoch 18/200\n",
            "24/24 [==============================] - 0s 2ms/step - loss: 4882.7158\n",
            "Epoch 19/200\n",
            "24/24 [==============================] - 0s 2ms/step - loss: 4394.5913\n",
            "Epoch 20/200\n",
            "24/24 [==============================] - 0s 2ms/step - loss: 3936.4065\n",
            "Epoch 21/200\n",
            "24/24 [==============================] - 0s 2ms/step - loss: 3534.8257\n",
            "Epoch 22/200\n",
            "24/24 [==============================] - 0s 2ms/step - loss: 3163.9265\n",
            "Epoch 23/200\n",
            "24/24 [==============================] - 0s 2ms/step - loss: 2818.3352\n",
            "Epoch 24/200\n",
            "24/24 [==============================] - 0s 2ms/step - loss: 2520.7097\n",
            "Epoch 25/200\n",
            "24/24 [==============================] - 0s 2ms/step - loss: 2260.4885\n",
            "Epoch 26/200\n",
            "24/24 [==============================] - 0s 2ms/step - loss: 2012.5125\n",
            "Epoch 27/200\n",
            "24/24 [==============================] - 0s 2ms/step - loss: 1802.7057\n",
            "Epoch 28/200\n",
            "24/24 [==============================] - 0s 2ms/step - loss: 1615.5382\n",
            "Epoch 29/200\n",
            "24/24 [==============================] - 0s 2ms/step - loss: 1441.4376\n",
            "Epoch 30/200\n",
            "24/24 [==============================] - 0s 2ms/step - loss: 1295.2604\n",
            "Epoch 31/200\n",
            "24/24 [==============================] - 0s 2ms/step - loss: 1164.4806\n",
            "Epoch 32/200\n",
            "24/24 [==============================] - 0s 4ms/step - loss: 1047.0304\n",
            "Epoch 33/200\n",
            "24/24 [==============================] - 0s 4ms/step - loss: 945.7952\n",
            "Epoch 34/200\n",
            "24/24 [==============================] - 0s 3ms/step - loss: 858.3062\n",
            "Epoch 35/200\n",
            "24/24 [==============================] - 0s 3ms/step - loss: 778.4693\n",
            "Epoch 36/200\n",
            "24/24 [==============================] - 0s 3ms/step - loss: 711.7333\n",
            "Epoch 37/200\n",
            "24/24 [==============================] - 0s 3ms/step - loss: 646.6347\n",
            "Epoch 38/200\n",
            "24/24 [==============================] - 0s 3ms/step - loss: 588.6887\n",
            "Epoch 39/200\n",
            "24/24 [==============================] - 0s 2ms/step - loss: 541.3940\n",
            "Epoch 40/200\n",
            "24/24 [==============================] - 0s 3ms/step - loss: 498.5946\n",
            "Epoch 41/200\n",
            "24/24 [==============================] - 0s 3ms/step - loss: 457.0663\n",
            "Epoch 42/200\n",
            "24/24 [==============================] - 0s 3ms/step - loss: 419.8129\n",
            "Epoch 43/200\n",
            "24/24 [==============================] - 0s 4ms/step - loss: 389.6022\n",
            "Epoch 44/200\n",
            "24/24 [==============================] - 0s 3ms/step - loss: 358.1598\n",
            "Epoch 45/200\n",
            "24/24 [==============================] - 0s 4ms/step - loss: 330.7382\n",
            "Epoch 46/200\n",
            "24/24 [==============================] - 0s 4ms/step - loss: 308.7492\n",
            "Epoch 47/200\n",
            "24/24 [==============================] - 0s 3ms/step - loss: 285.4739\n",
            "Epoch 48/200\n",
            "24/24 [==============================] - 0s 3ms/step - loss: 268.1392\n",
            "Epoch 49/200\n",
            "24/24 [==============================] - 0s 3ms/step - loss: 247.5755\n",
            "Epoch 50/200\n",
            "24/24 [==============================] - 0s 4ms/step - loss: 232.1674\n",
            "Epoch 51/200\n",
            "24/24 [==============================] - 0s 4ms/step - loss: 216.3231\n",
            "Epoch 52/200\n",
            "24/24 [==============================] - 0s 4ms/step - loss: 204.3490\n",
            "Epoch 53/200\n",
            "24/24 [==============================] - 0s 3ms/step - loss: 190.2315\n",
            "Epoch 54/200\n",
            "24/24 [==============================] - 0s 5ms/step - loss: 179.0713\n",
            "Epoch 55/200\n",
            "24/24 [==============================] - 0s 3ms/step - loss: 169.0029\n",
            "Epoch 56/200\n",
            "24/24 [==============================] - 0s 3ms/step - loss: 158.4850\n",
            "Epoch 57/200\n",
            "24/24 [==============================] - 0s 3ms/step - loss: 150.4204\n",
            "Epoch 58/200\n",
            "24/24 [==============================] - 0s 3ms/step - loss: 142.0537\n",
            "Epoch 59/200\n",
            "24/24 [==============================] - 0s 3ms/step - loss: 133.8337\n",
            "Epoch 60/200\n",
            "24/24 [==============================] - 0s 3ms/step - loss: 126.9706\n",
            "Epoch 61/200\n",
            "24/24 [==============================] - 0s 3ms/step - loss: 121.0755\n",
            "Epoch 62/200\n",
            "24/24 [==============================] - 0s 3ms/step - loss: 115.3055\n",
            "Epoch 63/200\n",
            "24/24 [==============================] - 0s 3ms/step - loss: 110.0739\n",
            "Epoch 64/200\n",
            "24/24 [==============================] - 0s 3ms/step - loss: 105.4998\n",
            "Epoch 65/200\n",
            "24/24 [==============================] - 0s 3ms/step - loss: 100.8161\n",
            "Epoch 66/200\n",
            "24/24 [==============================] - 0s 3ms/step - loss: 96.4837\n",
            "Epoch 67/200\n",
            "24/24 [==============================] - 0s 4ms/step - loss: 93.3186\n",
            "Epoch 68/200\n",
            "24/24 [==============================] - 0s 3ms/step - loss: 89.2990\n",
            "Epoch 69/200\n",
            "24/24 [==============================] - 0s 4ms/step - loss: 85.2756\n",
            "Epoch 70/200\n",
            "24/24 [==============================] - 0s 3ms/step - loss: 82.2720\n",
            "Epoch 71/200\n",
            "24/24 [==============================] - 0s 3ms/step - loss: 79.5602\n",
            "Epoch 72/200\n",
            "24/24 [==============================] - 0s 5ms/step - loss: 76.9128\n",
            "Epoch 73/200\n",
            "24/24 [==============================] - 0s 3ms/step - loss: 74.2038\n",
            "Epoch 74/200\n",
            "24/24 [==============================] - 0s 4ms/step - loss: 72.5592\n",
            "Epoch 75/200\n",
            "24/24 [==============================] - 0s 3ms/step - loss: 68.8609\n",
            "Epoch 76/200\n",
            "24/24 [==============================] - 0s 6ms/step - loss: 67.2890\n",
            "Epoch 77/200\n",
            "24/24 [==============================] - 0s 3ms/step - loss: 64.7556\n",
            "Epoch 78/200\n",
            "24/24 [==============================] - 0s 3ms/step - loss: 63.1706\n",
            "Epoch 79/200\n",
            "24/24 [==============================] - 0s 4ms/step - loss: 61.4922\n",
            "Epoch 80/200\n",
            "24/24 [==============================] - 0s 5ms/step - loss: 59.4798\n",
            "Epoch 81/200\n",
            "24/24 [==============================] - 0s 3ms/step - loss: 58.1353\n",
            "Epoch 82/200\n",
            "24/24 [==============================] - 0s 4ms/step - loss: 56.5351\n",
            "Epoch 83/200\n",
            "24/24 [==============================] - 0s 4ms/step - loss: 54.8465\n",
            "Epoch 84/200\n",
            "24/24 [==============================] - 0s 2ms/step - loss: 53.5046\n",
            "Epoch 85/200\n",
            "24/24 [==============================] - 0s 3ms/step - loss: 52.4539\n",
            "Epoch 86/200\n",
            "24/24 [==============================] - 0s 3ms/step - loss: 51.1341\n",
            "Epoch 87/200\n",
            "24/24 [==============================] - 0s 3ms/step - loss: 50.1332\n",
            "Epoch 88/200\n",
            "24/24 [==============================] - 0s 2ms/step - loss: 48.8848\n",
            "Epoch 89/200\n",
            "24/24 [==============================] - 0s 3ms/step - loss: 47.5267\n",
            "Epoch 90/200\n",
            "24/24 [==============================] - 0s 2ms/step - loss: 46.8251\n",
            "Epoch 91/200\n",
            "24/24 [==============================] - 0s 3ms/step - loss: 45.3797\n",
            "Epoch 92/200\n",
            "24/24 [==============================] - 0s 3ms/step - loss: 44.7897\n",
            "Epoch 93/200\n",
            "24/24 [==============================] - 0s 3ms/step - loss: 43.6679\n",
            "Epoch 94/200\n",
            "24/24 [==============================] - 0s 4ms/step - loss: 42.8066\n",
            "Epoch 95/200\n",
            "24/24 [==============================] - 0s 3ms/step - loss: 42.0635\n",
            "Epoch 96/200\n",
            "24/24 [==============================] - 0s 3ms/step - loss: 42.0153\n",
            "Epoch 97/200\n",
            "24/24 [==============================] - 0s 3ms/step - loss: 40.4745\n",
            "Epoch 98/200\n",
            "24/24 [==============================] - 0s 3ms/step - loss: 39.3939\n",
            "Epoch 99/200\n",
            "24/24 [==============================] - 0s 3ms/step - loss: 38.8370\n",
            "Epoch 100/200\n",
            "24/24 [==============================] - 0s 3ms/step - loss: 38.0892\n",
            "Epoch 101/200\n",
            "24/24 [==============================] - 0s 3ms/step - loss: 37.5375\n",
            "Epoch 102/200\n",
            "24/24 [==============================] - 0s 3ms/step - loss: 37.3220\n",
            "Epoch 103/200\n",
            "24/24 [==============================] - 0s 3ms/step - loss: 36.4474\n",
            "Epoch 104/200\n",
            "24/24 [==============================] - 0s 3ms/step - loss: 36.0257\n",
            "Epoch 105/200\n",
            "24/24 [==============================] - 0s 3ms/step - loss: 35.7886\n",
            "Epoch 106/200\n",
            "24/24 [==============================] - 0s 3ms/step - loss: 35.1728\n",
            "Epoch 107/200\n",
            "24/24 [==============================] - 0s 3ms/step - loss: 34.3008\n",
            "Epoch 108/200\n",
            "24/24 [==============================] - 0s 3ms/step - loss: 33.8371\n",
            "Epoch 109/200\n",
            "24/24 [==============================] - 0s 3ms/step - loss: 33.6799\n",
            "Epoch 110/200\n",
            "24/24 [==============================] - 0s 3ms/step - loss: 33.2217\n",
            "Epoch 111/200\n",
            "24/24 [==============================] - 0s 4ms/step - loss: 32.7249\n",
            "Epoch 112/200\n",
            "24/24 [==============================] - 0s 4ms/step - loss: 32.4955\n",
            "Epoch 113/200\n",
            "24/24 [==============================] - 0s 3ms/step - loss: 32.2194\n",
            "Epoch 114/200\n",
            "24/24 [==============================] - 0s 3ms/step - loss: 31.7852\n",
            "Epoch 115/200\n",
            "24/24 [==============================] - 0s 4ms/step - loss: 31.4159\n",
            "Epoch 116/200\n",
            "24/24 [==============================] - 0s 3ms/step - loss: 31.2120\n",
            "Epoch 117/200\n",
            "24/24 [==============================] - 0s 3ms/step - loss: 31.0109\n",
            "Epoch 118/200\n",
            "24/24 [==============================] - 0s 4ms/step - loss: 30.5836\n",
            "Epoch 119/200\n",
            "24/24 [==============================] - 0s 3ms/step - loss: 30.1379\n",
            "Epoch 120/200\n",
            "24/24 [==============================] - 0s 4ms/step - loss: 29.8464\n",
            "Epoch 121/200\n",
            "24/24 [==============================] - 0s 6ms/step - loss: 29.7787\n",
            "Epoch 122/200\n",
            "24/24 [==============================] - 0s 3ms/step - loss: 29.4427\n",
            "Epoch 123/200\n",
            "24/24 [==============================] - 0s 4ms/step - loss: 29.5250\n",
            "Epoch 124/200\n",
            "24/24 [==============================] - 0s 5ms/step - loss: 28.9434\n",
            "Epoch 125/200\n",
            "24/24 [==============================] - 0s 3ms/step - loss: 28.7003\n",
            "Epoch 126/200\n",
            "24/24 [==============================] - 0s 6ms/step - loss: 28.6955\n",
            "Epoch 127/200\n",
            "24/24 [==============================] - 0s 4ms/step - loss: 28.3826\n",
            "Epoch 128/200\n",
            "24/24 [==============================] - 0s 3ms/step - loss: 28.3036\n",
            "Epoch 129/200\n",
            "24/24 [==============================] - 0s 3ms/step - loss: 28.0414\n",
            "Epoch 130/200\n",
            "24/24 [==============================] - 0s 4ms/step - loss: 27.9636\n",
            "Epoch 131/200\n",
            "24/24 [==============================] - 0s 4ms/step - loss: 27.6332\n",
            "Epoch 132/200\n",
            "24/24 [==============================] - 0s 5ms/step - loss: 27.6538\n",
            "Epoch 133/200\n",
            "24/24 [==============================] - 0s 4ms/step - loss: 27.4420\n",
            "Epoch 134/200\n",
            "24/24 [==============================] - 0s 7ms/step - loss: 27.2334\n",
            "Epoch 135/200\n",
            "24/24 [==============================] - 0s 7ms/step - loss: 27.1910\n",
            "Epoch 136/200\n",
            "24/24 [==============================] - 0s 5ms/step - loss: 26.9385\n",
            "Epoch 137/200\n",
            "24/24 [==============================] - 0s 4ms/step - loss: 27.1302\n",
            "Epoch 138/200\n",
            "24/24 [==============================] - 0s 5ms/step - loss: 26.9276\n",
            "Epoch 139/200\n",
            "24/24 [==============================] - 0s 6ms/step - loss: 26.4328\n",
            "Epoch 140/200\n",
            "24/24 [==============================] - 0s 5ms/step - loss: 26.4998\n",
            "Epoch 141/200\n",
            "24/24 [==============================] - 0s 5ms/step - loss: 26.3658\n",
            "Epoch 142/200\n",
            "24/24 [==============================] - 0s 6ms/step - loss: 26.1492\n",
            "Epoch 143/200\n",
            "24/24 [==============================] - 0s 6ms/step - loss: 26.2607\n",
            "Epoch 144/200\n",
            "24/24 [==============================] - 0s 6ms/step - loss: 26.1182\n",
            "Epoch 145/200\n",
            "24/24 [==============================] - 0s 4ms/step - loss: 25.8438\n",
            "Epoch 146/200\n",
            "24/24 [==============================] - 0s 5ms/step - loss: 25.6289\n",
            "Epoch 147/200\n",
            "24/24 [==============================] - 0s 5ms/step - loss: 26.0684\n",
            "Epoch 148/200\n",
            "24/24 [==============================] - 0s 5ms/step - loss: 25.3945\n",
            "Epoch 149/200\n",
            "24/24 [==============================] - 0s 5ms/step - loss: 25.4245\n",
            "Epoch 150/200\n",
            "24/24 [==============================] - 0s 4ms/step - loss: 25.5736\n",
            "Epoch 151/200\n",
            "24/24 [==============================] - 0s 4ms/step - loss: 25.3080\n",
            "Epoch 152/200\n",
            "24/24 [==============================] - 0s 4ms/step - loss: 25.3870\n",
            "Epoch 153/200\n",
            "24/24 [==============================] - 0s 4ms/step - loss: 25.2203\n",
            "Epoch 154/200\n",
            "24/24 [==============================] - 0s 4ms/step - loss: 25.3151\n",
            "Epoch 155/200\n",
            "24/24 [==============================] - 0s 4ms/step - loss: 25.0708\n",
            "Epoch 156/200\n",
            "24/24 [==============================] - 0s 5ms/step - loss: 24.9182\n",
            "Epoch 157/200\n",
            "24/24 [==============================] - 0s 4ms/step - loss: 24.9276\n",
            "Epoch 158/200\n",
            "24/24 [==============================] - 0s 4ms/step - loss: 24.6503\n",
            "Epoch 159/200\n",
            "24/24 [==============================] - 0s 4ms/step - loss: 24.6650\n",
            "Epoch 160/200\n",
            "24/24 [==============================] - 0s 4ms/step - loss: 24.7410\n",
            "Epoch 161/200\n",
            "24/24 [==============================] - 0s 3ms/step - loss: 25.1554\n",
            "Epoch 162/200\n",
            "24/24 [==============================] - 0s 4ms/step - loss: 24.6624\n",
            "Epoch 163/200\n",
            "24/24 [==============================] - 0s 3ms/step - loss: 24.8372\n",
            "Epoch 164/200\n",
            "24/24 [==============================] - 0s 3ms/step - loss: 24.4583\n",
            "Epoch 165/200\n",
            "24/24 [==============================] - 0s 5ms/step - loss: 24.4827\n",
            "Epoch 166/200\n",
            "24/24 [==============================] - 0s 6ms/step - loss: 24.4128\n",
            "Epoch 167/200\n",
            "24/24 [==============================] - 0s 4ms/step - loss: 24.3447\n",
            "Epoch 168/200\n",
            "24/24 [==============================] - 0s 5ms/step - loss: 24.1990\n",
            "Epoch 169/200\n",
            "24/24 [==============================] - 0s 5ms/step - loss: 24.5418\n",
            "Epoch 170/200\n",
            "24/24 [==============================] - 0s 7ms/step - loss: 24.7773\n",
            "Epoch 171/200\n",
            "24/24 [==============================] - 0s 3ms/step - loss: 24.3693\n",
            "Epoch 172/200\n",
            "24/24 [==============================] - 0s 3ms/step - loss: 24.2754\n",
            "Epoch 173/200\n",
            "24/24 [==============================] - 0s 5ms/step - loss: 24.0348\n",
            "Epoch 174/200\n",
            "24/24 [==============================] - 0s 4ms/step - loss: 23.9500\n",
            "Epoch 175/200\n",
            "24/24 [==============================] - 0s 5ms/step - loss: 24.2327\n",
            "Epoch 176/200\n",
            "24/24 [==============================] - 0s 3ms/step - loss: 24.6234\n",
            "Epoch 177/200\n",
            "24/24 [==============================] - 0s 2ms/step - loss: 25.2070\n",
            "Epoch 178/200\n",
            "24/24 [==============================] - 0s 2ms/step - loss: 23.9292\n",
            "Epoch 179/200\n",
            "24/24 [==============================] - 0s 2ms/step - loss: 23.8349\n",
            "Epoch 180/200\n",
            "24/24 [==============================] - 0s 2ms/step - loss: 23.9331\n",
            "Epoch 181/200\n",
            "24/24 [==============================] - 0s 2ms/step - loss: 23.9048\n",
            "Epoch 182/200\n",
            "24/24 [==============================] - 0s 2ms/step - loss: 24.1545\n",
            "Epoch 183/200\n",
            "24/24 [==============================] - 0s 2ms/step - loss: 23.9248\n",
            "Epoch 184/200\n",
            "24/24 [==============================] - 0s 2ms/step - loss: 24.1378\n",
            "Epoch 185/200\n",
            "24/24 [==============================] - 0s 2ms/step - loss: 24.3222\n",
            "Epoch 186/200\n",
            "24/24 [==============================] - 0s 2ms/step - loss: 23.7566\n",
            "Epoch 187/200\n",
            "24/24 [==============================] - 0s 2ms/step - loss: 23.5395\n",
            "Epoch 188/200\n",
            "24/24 [==============================] - 0s 2ms/step - loss: 23.6844\n",
            "Epoch 189/200\n",
            "24/24 [==============================] - 0s 2ms/step - loss: 23.7032\n",
            "Epoch 190/200\n",
            "24/24 [==============================] - 0s 2ms/step - loss: 23.4507\n",
            "Epoch 191/200\n",
            "24/24 [==============================] - 0s 2ms/step - loss: 23.6413\n",
            "Epoch 192/200\n",
            "24/24 [==============================] - 0s 2ms/step - loss: 23.6011\n",
            "Epoch 193/200\n",
            "24/24 [==============================] - 0s 2ms/step - loss: 23.4684\n",
            "Epoch 194/200\n",
            "24/24 [==============================] - 0s 2ms/step - loss: 23.9728\n",
            "Epoch 195/200\n",
            "24/24 [==============================] - 0s 2ms/step - loss: 24.3209\n",
            "Epoch 196/200\n",
            "24/24 [==============================] - 0s 2ms/step - loss: 24.0339\n",
            "Epoch 197/200\n",
            "24/24 [==============================] - 0s 2ms/step - loss: 23.5013\n",
            "Epoch 198/200\n",
            "24/24 [==============================] - 0s 2ms/step - loss: 23.6938\n",
            "Epoch 199/200\n",
            "24/24 [==============================] - 0s 2ms/step - loss: 23.8850\n",
            "Epoch 200/200\n",
            "24/24 [==============================] - 0s 2ms/step - loss: 23.4882\n",
            "10/10 [==============================] - 0s 2ms/step\n"
          ]
        }
      ]
    },
    {
      "cell_type": "markdown",
      "source": [
        "Evaluation of ANN"
      ],
      "metadata": {
        "id": "l2_U0mcLx9BI"
      }
    },
    {
      "cell_type": "code",
      "source": [
        "from sklearn.metrics import r2_score\n",
        "print(f\"R2 --> {r2_score(Y_test,Y_pred)}\")"
      ],
      "metadata": {
        "colab": {
          "base_uri": "https://localhost:8080/"
        },
        "id": "8I7W_L6QWSCm",
        "outputId": "1d0b2854-529c-4c41-daf3-4c18f6a15e7a"
      },
      "execution_count": null,
      "outputs": [
        {
          "output_type": "stream",
          "name": "stdout",
          "text": [
            "R2 --> 0.9964141263556662\n"
          ]
        }
      ]
    },
    {
      "cell_type": "code",
      "source": [
        "from sklearn.metrics import mean_absolute_error,mean_squared_error\n",
        "print(f\"MAE ---> {mean_absolute_error(Y_test,Y_pred)}\")\n",
        "print(f\"MSE ---> {mean_squared_error(Y_test,Y_pred)}\")\n",
        "print(f\"RMSE --> {np.sqrt(mean_squared_error(Y_test,Y_pred))}\")\n"
      ],
      "metadata": {
        "colab": {
          "base_uri": "https://localhost:8080/"
        },
        "id": "kwYFkgaoWe0_",
        "outputId": "5af05f06-2c04-4ad9-b099-42a305eb8ce2"
      },
      "execution_count": null,
      "outputs": [
        {
          "output_type": "stream",
          "name": "stdout",
          "text": [
            "MAE ---> 4.336487363515324\n",
            "MSE ---> 29.77126846202769\n",
            "RMSE --> 5.456305385700812\n"
          ]
        }
      ]
    },
    {
      "cell_type": "markdown",
      "source": [
        "Applying LinearRegression Model"
      ],
      "metadata": {
        "id": "2GM4nJXex_4m"
      }
    },
    {
      "cell_type": "code",
      "source": [
        "from sklearn.linear_model import LinearRegression\n",
        "LR = LinearRegression()\n",
        "LR.fit(X_train,Y_train)\n",
        "Y_pred = LR.predict(X_test)"
      ],
      "metadata": {
        "id": "cjU58ItlY6LN"
      },
      "execution_count": null,
      "outputs": []
    },
    {
      "cell_type": "code",
      "source": [
        "from sklearn.metrics import r2_score\n",
        "print(f\"R2 --> {r2_score(Y_test,Y_pred)}\")"
      ],
      "metadata": {
        "colab": {
          "base_uri": "https://localhost:8080/"
        },
        "id": "WtSXlvDzaOnw",
        "outputId": "67e95fe0-cf2b-4896-cee0-2a09c8d0ba85"
      },
      "execution_count": null,
      "outputs": [
        {
          "output_type": "stream",
          "name": "stdout",
          "text": [
            "R2 --> 0.9966246601516173\n"
          ]
        }
      ]
    },
    {
      "cell_type": "markdown",
      "source": [
        "Evaluation"
      ],
      "metadata": {
        "id": "2wahDed2yF8U"
      }
    },
    {
      "cell_type": "code",
      "source": [
        "from sklearn.metrics import mean_absolute_error,mean_squared_error\n",
        "print(f\"MAE ---> {mean_absolute_error(Y_test,Y_pred)}\")\n",
        "print(f\"MSE ---> {mean_squared_error(Y_test,Y_pred)}\")\n",
        "print(f\"RMSE --> {np.sqrt(mean_squared_error(Y_test,Y_pred))}\")"
      ],
      "metadata": {
        "colab": {
          "base_uri": "https://localhost:8080/"
        },
        "id": "GaxlDMZGaTbM",
        "outputId": "9f2d86ce-db16-4140-be3c-a8d8cb00d2f4"
      },
      "execution_count": null,
      "outputs": [
        {
          "output_type": "stream",
          "name": "stdout",
          "text": [
            "MAE ---> 4.2611615519749\n",
            "MSE ---> 28.023337893002925\n",
            "RMSE --> 5.293707386416719\n"
          ]
        }
      ]
    },
    {
      "cell_type": "code",
      "source": [
        "df.ndim"
      ],
      "metadata": {
        "colab": {
          "base_uri": "https://localhost:8080/"
        },
        "id": "ikzw_aDJaWUM",
        "outputId": "306e8fd0-e2e8-4647-8552-8b4e00286845"
      },
      "execution_count": null,
      "outputs": [
        {
          "output_type": "execute_result",
          "data": {
            "text/plain": [
              "2"
            ]
          },
          "metadata": {},
          "execution_count": 18
        }
      ]
    },
    {
      "cell_type": "code",
      "source": [],
      "metadata": {
        "id": "g64TcpXLak5Y"
      },
      "execution_count": null,
      "outputs": []
    }
  ]
}