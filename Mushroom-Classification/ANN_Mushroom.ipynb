{
  "nbformat": 4,
  "nbformat_minor": 0,
  "metadata": {
    "colab": {
      "provenance": []
    },
    "kernelspec": {
      "name": "python3",
      "display_name": "Python 3"
    },
    "language_info": {
      "name": "python"
    }
  },
  "cells": [
    {
      "cell_type": "markdown",
      "source": [
        "# Importing Library"
      ],
      "metadata": {
        "id": "ha19VUIKNLpk"
      }
    },
    {
      "cell_type": "code",
      "execution_count": null,
      "metadata": {
        "id": "lOLVKfws8Gbf"
      },
      "outputs": [],
      "source": [
        "import pandas as pd\n",
        "import numpy as np\n",
        "import seaborn as sns\n",
        "import matplotlib.pyplot as plt\n",
        "\n",
        "from sklearn.preprocessing import LabelEncoder,OrdinalEncoder\n",
        "from sklearn.metrics import classification_report\n",
        "\n",
        "from tensorflow.keras import Sequential\n",
        "from tensorflow.keras.layers import Dense,Dropout\n",
        "from tensorflow.keras.callbacks import EarlyStopping"
      ]
    },
    {
      "cell_type": "markdown",
      "source": [
        "# Loading Dataset"
      ],
      "metadata": {
        "id": "3SOoY7TlNPE1"
      }
    },
    {
      "cell_type": "code",
      "source": [
        "df = pd.read_csv(\"/content/mushrooms.csv\")\n",
        "df"
      ],
      "metadata": {
        "colab": {
          "base_uri": "https://localhost:8080/",
          "height": 502
        },
        "id": "oyt-Y_EU80Qx",
        "outputId": "2fcde7a6-88b2-4fae-eb90-16546a185fde"
      },
      "execution_count": null,
      "outputs": [
        {
          "output_type": "execute_result",
          "data": {
            "text/plain": [
              "     class cap-shape cap-surface cap-color bruises odor gill-attachment  \\\n",
              "0        p         x           s         n       t    p               f   \n",
              "1        e         x           s         y       t    a               f   \n",
              "2        e         b           s         w       t    l               f   \n",
              "3        p         x           y         w       t    p               f   \n",
              "4        e         x           s         g       f    n               f   \n",
              "...    ...       ...         ...       ...     ...  ...             ...   \n",
              "8119     e         k           s         n       f    n               a   \n",
              "8120     e         x           s         n       f    n               a   \n",
              "8121     e         f           s         n       f    n               a   \n",
              "8122     p         k           y         n       f    y               f   \n",
              "8123     e         x           s         n       f    n               a   \n",
              "\n",
              "     gill-spacing gill-size gill-color  ... stalk-surface-below-ring  \\\n",
              "0               c         n          k  ...                        s   \n",
              "1               c         b          k  ...                        s   \n",
              "2               c         b          n  ...                        s   \n",
              "3               c         n          n  ...                        s   \n",
              "4               w         b          k  ...                        s   \n",
              "...           ...       ...        ...  ...                      ...   \n",
              "8119            c         b          y  ...                        s   \n",
              "8120            c         b          y  ...                        s   \n",
              "8121            c         b          n  ...                        s   \n",
              "8122            c         n          b  ...                        k   \n",
              "8123            c         b          y  ...                        s   \n",
              "\n",
              "     stalk-color-above-ring stalk-color-below-ring veil-type veil-color  \\\n",
              "0                         w                      w         p          w   \n",
              "1                         w                      w         p          w   \n",
              "2                         w                      w         p          w   \n",
              "3                         w                      w         p          w   \n",
              "4                         w                      w         p          w   \n",
              "...                     ...                    ...       ...        ...   \n",
              "8119                      o                      o         p          o   \n",
              "8120                      o                      o         p          n   \n",
              "8121                      o                      o         p          o   \n",
              "8122                      w                      w         p          w   \n",
              "8123                      o                      o         p          o   \n",
              "\n",
              "     ring-number ring-type spore-print-color population habitat  \n",
              "0              o         p                 k          s       u  \n",
              "1              o         p                 n          n       g  \n",
              "2              o         p                 n          n       m  \n",
              "3              o         p                 k          s       u  \n",
              "4              o         e                 n          a       g  \n",
              "...          ...       ...               ...        ...     ...  \n",
              "8119           o         p                 b          c       l  \n",
              "8120           o         p                 b          v       l  \n",
              "8121           o         p                 b          c       l  \n",
              "8122           o         e                 w          v       l  \n",
              "8123           o         p                 o          c       l  \n",
              "\n",
              "[8124 rows x 23 columns]"
            ],
            "text/html": [
              "\n",
              "  <div id=\"df-cd03ef27-400a-410e-acc5-1d9ba54607e3\">\n",
              "    <div class=\"colab-df-container\">\n",
              "      <div>\n",
              "<style scoped>\n",
              "    .dataframe tbody tr th:only-of-type {\n",
              "        vertical-align: middle;\n",
              "    }\n",
              "\n",
              "    .dataframe tbody tr th {\n",
              "        vertical-align: top;\n",
              "    }\n",
              "\n",
              "    .dataframe thead th {\n",
              "        text-align: right;\n",
              "    }\n",
              "</style>\n",
              "<table border=\"1\" class=\"dataframe\">\n",
              "  <thead>\n",
              "    <tr style=\"text-align: right;\">\n",
              "      <th></th>\n",
              "      <th>class</th>\n",
              "      <th>cap-shape</th>\n",
              "      <th>cap-surface</th>\n",
              "      <th>cap-color</th>\n",
              "      <th>bruises</th>\n",
              "      <th>odor</th>\n",
              "      <th>gill-attachment</th>\n",
              "      <th>gill-spacing</th>\n",
              "      <th>gill-size</th>\n",
              "      <th>gill-color</th>\n",
              "      <th>...</th>\n",
              "      <th>stalk-surface-below-ring</th>\n",
              "      <th>stalk-color-above-ring</th>\n",
              "      <th>stalk-color-below-ring</th>\n",
              "      <th>veil-type</th>\n",
              "      <th>veil-color</th>\n",
              "      <th>ring-number</th>\n",
              "      <th>ring-type</th>\n",
              "      <th>spore-print-color</th>\n",
              "      <th>population</th>\n",
              "      <th>habitat</th>\n",
              "    </tr>\n",
              "  </thead>\n",
              "  <tbody>\n",
              "    <tr>\n",
              "      <th>0</th>\n",
              "      <td>p</td>\n",
              "      <td>x</td>\n",
              "      <td>s</td>\n",
              "      <td>n</td>\n",
              "      <td>t</td>\n",
              "      <td>p</td>\n",
              "      <td>f</td>\n",
              "      <td>c</td>\n",
              "      <td>n</td>\n",
              "      <td>k</td>\n",
              "      <td>...</td>\n",
              "      <td>s</td>\n",
              "      <td>w</td>\n",
              "      <td>w</td>\n",
              "      <td>p</td>\n",
              "      <td>w</td>\n",
              "      <td>o</td>\n",
              "      <td>p</td>\n",
              "      <td>k</td>\n",
              "      <td>s</td>\n",
              "      <td>u</td>\n",
              "    </tr>\n",
              "    <tr>\n",
              "      <th>1</th>\n",
              "      <td>e</td>\n",
              "      <td>x</td>\n",
              "      <td>s</td>\n",
              "      <td>y</td>\n",
              "      <td>t</td>\n",
              "      <td>a</td>\n",
              "      <td>f</td>\n",
              "      <td>c</td>\n",
              "      <td>b</td>\n",
              "      <td>k</td>\n",
              "      <td>...</td>\n",
              "      <td>s</td>\n",
              "      <td>w</td>\n",
              "      <td>w</td>\n",
              "      <td>p</td>\n",
              "      <td>w</td>\n",
              "      <td>o</td>\n",
              "      <td>p</td>\n",
              "      <td>n</td>\n",
              "      <td>n</td>\n",
              "      <td>g</td>\n",
              "    </tr>\n",
              "    <tr>\n",
              "      <th>2</th>\n",
              "      <td>e</td>\n",
              "      <td>b</td>\n",
              "      <td>s</td>\n",
              "      <td>w</td>\n",
              "      <td>t</td>\n",
              "      <td>l</td>\n",
              "      <td>f</td>\n",
              "      <td>c</td>\n",
              "      <td>b</td>\n",
              "      <td>n</td>\n",
              "      <td>...</td>\n",
              "      <td>s</td>\n",
              "      <td>w</td>\n",
              "      <td>w</td>\n",
              "      <td>p</td>\n",
              "      <td>w</td>\n",
              "      <td>o</td>\n",
              "      <td>p</td>\n",
              "      <td>n</td>\n",
              "      <td>n</td>\n",
              "      <td>m</td>\n",
              "    </tr>\n",
              "    <tr>\n",
              "      <th>3</th>\n",
              "      <td>p</td>\n",
              "      <td>x</td>\n",
              "      <td>y</td>\n",
              "      <td>w</td>\n",
              "      <td>t</td>\n",
              "      <td>p</td>\n",
              "      <td>f</td>\n",
              "      <td>c</td>\n",
              "      <td>n</td>\n",
              "      <td>n</td>\n",
              "      <td>...</td>\n",
              "      <td>s</td>\n",
              "      <td>w</td>\n",
              "      <td>w</td>\n",
              "      <td>p</td>\n",
              "      <td>w</td>\n",
              "      <td>o</td>\n",
              "      <td>p</td>\n",
              "      <td>k</td>\n",
              "      <td>s</td>\n",
              "      <td>u</td>\n",
              "    </tr>\n",
              "    <tr>\n",
              "      <th>4</th>\n",
              "      <td>e</td>\n",
              "      <td>x</td>\n",
              "      <td>s</td>\n",
              "      <td>g</td>\n",
              "      <td>f</td>\n",
              "      <td>n</td>\n",
              "      <td>f</td>\n",
              "      <td>w</td>\n",
              "      <td>b</td>\n",
              "      <td>k</td>\n",
              "      <td>...</td>\n",
              "      <td>s</td>\n",
              "      <td>w</td>\n",
              "      <td>w</td>\n",
              "      <td>p</td>\n",
              "      <td>w</td>\n",
              "      <td>o</td>\n",
              "      <td>e</td>\n",
              "      <td>n</td>\n",
              "      <td>a</td>\n",
              "      <td>g</td>\n",
              "    </tr>\n",
              "    <tr>\n",
              "      <th>...</th>\n",
              "      <td>...</td>\n",
              "      <td>...</td>\n",
              "      <td>...</td>\n",
              "      <td>...</td>\n",
              "      <td>...</td>\n",
              "      <td>...</td>\n",
              "      <td>...</td>\n",
              "      <td>...</td>\n",
              "      <td>...</td>\n",
              "      <td>...</td>\n",
              "      <td>...</td>\n",
              "      <td>...</td>\n",
              "      <td>...</td>\n",
              "      <td>...</td>\n",
              "      <td>...</td>\n",
              "      <td>...</td>\n",
              "      <td>...</td>\n",
              "      <td>...</td>\n",
              "      <td>...</td>\n",
              "      <td>...</td>\n",
              "      <td>...</td>\n",
              "    </tr>\n",
              "    <tr>\n",
              "      <th>8119</th>\n",
              "      <td>e</td>\n",
              "      <td>k</td>\n",
              "      <td>s</td>\n",
              "      <td>n</td>\n",
              "      <td>f</td>\n",
              "      <td>n</td>\n",
              "      <td>a</td>\n",
              "      <td>c</td>\n",
              "      <td>b</td>\n",
              "      <td>y</td>\n",
              "      <td>...</td>\n",
              "      <td>s</td>\n",
              "      <td>o</td>\n",
              "      <td>o</td>\n",
              "      <td>p</td>\n",
              "      <td>o</td>\n",
              "      <td>o</td>\n",
              "      <td>p</td>\n",
              "      <td>b</td>\n",
              "      <td>c</td>\n",
              "      <td>l</td>\n",
              "    </tr>\n",
              "    <tr>\n",
              "      <th>8120</th>\n",
              "      <td>e</td>\n",
              "      <td>x</td>\n",
              "      <td>s</td>\n",
              "      <td>n</td>\n",
              "      <td>f</td>\n",
              "      <td>n</td>\n",
              "      <td>a</td>\n",
              "      <td>c</td>\n",
              "      <td>b</td>\n",
              "      <td>y</td>\n",
              "      <td>...</td>\n",
              "      <td>s</td>\n",
              "      <td>o</td>\n",
              "      <td>o</td>\n",
              "      <td>p</td>\n",
              "      <td>n</td>\n",
              "      <td>o</td>\n",
              "      <td>p</td>\n",
              "      <td>b</td>\n",
              "      <td>v</td>\n",
              "      <td>l</td>\n",
              "    </tr>\n",
              "    <tr>\n",
              "      <th>8121</th>\n",
              "      <td>e</td>\n",
              "      <td>f</td>\n",
              "      <td>s</td>\n",
              "      <td>n</td>\n",
              "      <td>f</td>\n",
              "      <td>n</td>\n",
              "      <td>a</td>\n",
              "      <td>c</td>\n",
              "      <td>b</td>\n",
              "      <td>n</td>\n",
              "      <td>...</td>\n",
              "      <td>s</td>\n",
              "      <td>o</td>\n",
              "      <td>o</td>\n",
              "      <td>p</td>\n",
              "      <td>o</td>\n",
              "      <td>o</td>\n",
              "      <td>p</td>\n",
              "      <td>b</td>\n",
              "      <td>c</td>\n",
              "      <td>l</td>\n",
              "    </tr>\n",
              "    <tr>\n",
              "      <th>8122</th>\n",
              "      <td>p</td>\n",
              "      <td>k</td>\n",
              "      <td>y</td>\n",
              "      <td>n</td>\n",
              "      <td>f</td>\n",
              "      <td>y</td>\n",
              "      <td>f</td>\n",
              "      <td>c</td>\n",
              "      <td>n</td>\n",
              "      <td>b</td>\n",
              "      <td>...</td>\n",
              "      <td>k</td>\n",
              "      <td>w</td>\n",
              "      <td>w</td>\n",
              "      <td>p</td>\n",
              "      <td>w</td>\n",
              "      <td>o</td>\n",
              "      <td>e</td>\n",
              "      <td>w</td>\n",
              "      <td>v</td>\n",
              "      <td>l</td>\n",
              "    </tr>\n",
              "    <tr>\n",
              "      <th>8123</th>\n",
              "      <td>e</td>\n",
              "      <td>x</td>\n",
              "      <td>s</td>\n",
              "      <td>n</td>\n",
              "      <td>f</td>\n",
              "      <td>n</td>\n",
              "      <td>a</td>\n",
              "      <td>c</td>\n",
              "      <td>b</td>\n",
              "      <td>y</td>\n",
              "      <td>...</td>\n",
              "      <td>s</td>\n",
              "      <td>o</td>\n",
              "      <td>o</td>\n",
              "      <td>p</td>\n",
              "      <td>o</td>\n",
              "      <td>o</td>\n",
              "      <td>p</td>\n",
              "      <td>o</td>\n",
              "      <td>c</td>\n",
              "      <td>l</td>\n",
              "    </tr>\n",
              "  </tbody>\n",
              "</table>\n",
              "<p>8124 rows × 23 columns</p>\n",
              "</div>\n",
              "      <button class=\"colab-df-convert\" onclick=\"convertToInteractive('df-cd03ef27-400a-410e-acc5-1d9ba54607e3')\"\n",
              "              title=\"Convert this dataframe to an interactive table.\"\n",
              "              style=\"display:none;\">\n",
              "        \n",
              "  <svg xmlns=\"http://www.w3.org/2000/svg\" height=\"24px\"viewBox=\"0 0 24 24\"\n",
              "       width=\"24px\">\n",
              "    <path d=\"M0 0h24v24H0V0z\" fill=\"none\"/>\n",
              "    <path d=\"M18.56 5.44l.94 2.06.94-2.06 2.06-.94-2.06-.94-.94-2.06-.94 2.06-2.06.94zm-11 1L8.5 8.5l.94-2.06 2.06-.94-2.06-.94L8.5 2.5l-.94 2.06-2.06.94zm10 10l.94 2.06.94-2.06 2.06-.94-2.06-.94-.94-2.06-.94 2.06-2.06.94z\"/><path d=\"M17.41 7.96l-1.37-1.37c-.4-.4-.92-.59-1.43-.59-.52 0-1.04.2-1.43.59L10.3 9.45l-7.72 7.72c-.78.78-.78 2.05 0 2.83L4 21.41c.39.39.9.59 1.41.59.51 0 1.02-.2 1.41-.59l7.78-7.78 2.81-2.81c.8-.78.8-2.07 0-2.86zM5.41 20L4 18.59l7.72-7.72 1.47 1.35L5.41 20z\"/>\n",
              "  </svg>\n",
              "      </button>\n",
              "      \n",
              "  <style>\n",
              "    .colab-df-container {\n",
              "      display:flex;\n",
              "      flex-wrap:wrap;\n",
              "      gap: 12px;\n",
              "    }\n",
              "\n",
              "    .colab-df-convert {\n",
              "      background-color: #E8F0FE;\n",
              "      border: none;\n",
              "      border-radius: 50%;\n",
              "      cursor: pointer;\n",
              "      display: none;\n",
              "      fill: #1967D2;\n",
              "      height: 32px;\n",
              "      padding: 0 0 0 0;\n",
              "      width: 32px;\n",
              "    }\n",
              "\n",
              "    .colab-df-convert:hover {\n",
              "      background-color: #E2EBFA;\n",
              "      box-shadow: 0px 1px 2px rgba(60, 64, 67, 0.3), 0px 1px 3px 1px rgba(60, 64, 67, 0.15);\n",
              "      fill: #174EA6;\n",
              "    }\n",
              "\n",
              "    [theme=dark] .colab-df-convert {\n",
              "      background-color: #3B4455;\n",
              "      fill: #D2E3FC;\n",
              "    }\n",
              "\n",
              "    [theme=dark] .colab-df-convert:hover {\n",
              "      background-color: #434B5C;\n",
              "      box-shadow: 0px 1px 3px 1px rgba(0, 0, 0, 0.15);\n",
              "      filter: drop-shadow(0px 1px 2px rgba(0, 0, 0, 0.3));\n",
              "      fill: #FFFFFF;\n",
              "    }\n",
              "  </style>\n",
              "\n",
              "      <script>\n",
              "        const buttonEl =\n",
              "          document.querySelector('#df-cd03ef27-400a-410e-acc5-1d9ba54607e3 button.colab-df-convert');\n",
              "        buttonEl.style.display =\n",
              "          google.colab.kernel.accessAllowed ? 'block' : 'none';\n",
              "\n",
              "        async function convertToInteractive(key) {\n",
              "          const element = document.querySelector('#df-cd03ef27-400a-410e-acc5-1d9ba54607e3');\n",
              "          const dataTable =\n",
              "            await google.colab.kernel.invokeFunction('convertToInteractive',\n",
              "                                                     [key], {});\n",
              "          if (!dataTable) return;\n",
              "\n",
              "          const docLinkHtml = 'Like what you see? Visit the ' +\n",
              "            '<a target=\"_blank\" href=https://colab.research.google.com/notebooks/data_table.ipynb>data table notebook</a>'\n",
              "            + ' to learn more about interactive tables.';\n",
              "          element.innerHTML = '';\n",
              "          dataTable['output_type'] = 'display_data';\n",
              "          await google.colab.output.renderOutput(dataTable, element);\n",
              "          const docLink = document.createElement('div');\n",
              "          docLink.innerHTML = docLinkHtml;\n",
              "          element.appendChild(docLink);\n",
              "        }\n",
              "      </script>\n",
              "    </div>\n",
              "  </div>\n",
              "  "
            ]
          },
          "metadata": {},
          "execution_count": 2
        }
      ]
    },
    {
      "cell_type": "code",
      "source": [
        "df.info()"
      ],
      "metadata": {
        "colab": {
          "base_uri": "https://localhost:8080/"
        },
        "id": "GbTVtg4l84l6",
        "outputId": "b2fe366a-37ef-481a-f1e4-9afee8dcaaa5"
      },
      "execution_count": null,
      "outputs": [
        {
          "output_type": "stream",
          "name": "stdout",
          "text": [
            "<class 'pandas.core.frame.DataFrame'>\n",
            "RangeIndex: 8124 entries, 0 to 8123\n",
            "Data columns (total 23 columns):\n",
            " #   Column                    Non-Null Count  Dtype \n",
            "---  ------                    --------------  ----- \n",
            " 0   class                     8124 non-null   object\n",
            " 1   cap-shape                 8124 non-null   object\n",
            " 2   cap-surface               8124 non-null   object\n",
            " 3   cap-color                 8124 non-null   object\n",
            " 4   bruises                   8124 non-null   object\n",
            " 5   odor                      8124 non-null   object\n",
            " 6   gill-attachment           8124 non-null   object\n",
            " 7   gill-spacing              8124 non-null   object\n",
            " 8   gill-size                 8124 non-null   object\n",
            " 9   gill-color                8124 non-null   object\n",
            " 10  stalk-shape               8124 non-null   object\n",
            " 11  stalk-root                8124 non-null   object\n",
            " 12  stalk-surface-above-ring  8124 non-null   object\n",
            " 13  stalk-surface-below-ring  8124 non-null   object\n",
            " 14  stalk-color-above-ring    8124 non-null   object\n",
            " 15  stalk-color-below-ring    8124 non-null   object\n",
            " 16  veil-type                 8124 non-null   object\n",
            " 17  veil-color                8124 non-null   object\n",
            " 18  ring-number               8124 non-null   object\n",
            " 19  ring-type                 8124 non-null   object\n",
            " 20  spore-print-color         8124 non-null   object\n",
            " 21  population                8124 non-null   object\n",
            " 22  habitat                   8124 non-null   object\n",
            "dtypes: object(23)\n",
            "memory usage: 1.4+ MB\n"
          ]
        }
      ]
    },
    {
      "cell_type": "markdown",
      "source": [
        "# Getting to know if any column is having a single vlaue"
      ],
      "metadata": {
        "id": "NbYUNajG8IE2"
      }
    },
    {
      "cell_type": "code",
      "source": [
        "# There is a column called \"veil-type\" that contains only one category. Although it can be dropped, I have decided to keep it since the dataset is relatively small.\n",
        "for col in df.columns:\n",
        " print(df[col].value_counts())\n",
        " print(\"------\")"
      ],
      "metadata": {
        "colab": {
          "base_uri": "https://localhost:8080/"
        },
        "id": "k218hXPD89Rp",
        "outputId": "1078cd60-d3b0-4e2e-971e-dd8da14e4ca2"
      },
      "execution_count": null,
      "outputs": [
        {
          "output_type": "stream",
          "name": "stdout",
          "text": [
            "e    4208\n",
            "p    3916\n",
            "Name: class, dtype: int64\n",
            "------\n",
            "x    3656\n",
            "f    3152\n",
            "k     828\n",
            "b     452\n",
            "s      32\n",
            "c       4\n",
            "Name: cap-shape, dtype: int64\n",
            "------\n",
            "y    3244\n",
            "s    2556\n",
            "f    2320\n",
            "g       4\n",
            "Name: cap-surface, dtype: int64\n",
            "------\n",
            "n    2284\n",
            "g    1840\n",
            "e    1500\n",
            "y    1072\n",
            "w    1040\n",
            "b     168\n",
            "p     144\n",
            "c      44\n",
            "u      16\n",
            "r      16\n",
            "Name: cap-color, dtype: int64\n",
            "------\n",
            "f    4748\n",
            "t    3376\n",
            "Name: bruises, dtype: int64\n",
            "------\n",
            "n    3528\n",
            "f    2160\n",
            "y     576\n",
            "s     576\n",
            "a     400\n",
            "l     400\n",
            "p     256\n",
            "c     192\n",
            "m      36\n",
            "Name: odor, dtype: int64\n",
            "------\n",
            "f    7914\n",
            "a     210\n",
            "Name: gill-attachment, dtype: int64\n",
            "------\n",
            "c    6812\n",
            "w    1312\n",
            "Name: gill-spacing, dtype: int64\n",
            "------\n",
            "b    5612\n",
            "n    2512\n",
            "Name: gill-size, dtype: int64\n",
            "------\n",
            "b    1728\n",
            "p    1492\n",
            "w    1202\n",
            "n    1048\n",
            "g     752\n",
            "h     732\n",
            "u     492\n",
            "k     408\n",
            "e      96\n",
            "y      86\n",
            "o      64\n",
            "r      24\n",
            "Name: gill-color, dtype: int64\n",
            "------\n",
            "t    4608\n",
            "e    3516\n",
            "Name: stalk-shape, dtype: int64\n",
            "------\n",
            "b    3776\n",
            "?    2480\n",
            "e    1120\n",
            "c     556\n",
            "r     192\n",
            "Name: stalk-root, dtype: int64\n",
            "------\n",
            "s    5176\n",
            "k    2372\n",
            "f     552\n",
            "y      24\n",
            "Name: stalk-surface-above-ring, dtype: int64\n",
            "------\n",
            "s    4936\n",
            "k    2304\n",
            "f     600\n",
            "y     284\n",
            "Name: stalk-surface-below-ring, dtype: int64\n",
            "------\n",
            "w    4464\n",
            "p    1872\n",
            "g     576\n",
            "n     448\n",
            "b     432\n",
            "o     192\n",
            "e      96\n",
            "c      36\n",
            "y       8\n",
            "Name: stalk-color-above-ring, dtype: int64\n",
            "------\n",
            "w    4384\n",
            "p    1872\n",
            "g     576\n",
            "n     512\n",
            "b     432\n",
            "o     192\n",
            "e      96\n",
            "c      36\n",
            "y      24\n",
            "Name: stalk-color-below-ring, dtype: int64\n",
            "------\n",
            "p    8124\n",
            "Name: veil-type, dtype: int64\n",
            "------\n",
            "w    7924\n",
            "n      96\n",
            "o      96\n",
            "y       8\n",
            "Name: veil-color, dtype: int64\n",
            "------\n",
            "o    7488\n",
            "t     600\n",
            "n      36\n",
            "Name: ring-number, dtype: int64\n",
            "------\n",
            "p    3968\n",
            "e    2776\n",
            "l    1296\n",
            "f      48\n",
            "n      36\n",
            "Name: ring-type, dtype: int64\n",
            "------\n",
            "w    2388\n",
            "n    1968\n",
            "k    1872\n",
            "h    1632\n",
            "r      72\n",
            "u      48\n",
            "o      48\n",
            "y      48\n",
            "b      48\n",
            "Name: spore-print-color, dtype: int64\n",
            "------\n",
            "v    4040\n",
            "y    1712\n",
            "s    1248\n",
            "n     400\n",
            "a     384\n",
            "c     340\n",
            "Name: population, dtype: int64\n",
            "------\n",
            "d    3148\n",
            "g    2148\n",
            "p    1144\n",
            "l     832\n",
            "u     368\n",
            "m     292\n",
            "w     192\n",
            "Name: habitat, dtype: int64\n",
            "------\n"
          ]
        }
      ]
    },
    {
      "cell_type": "markdown",
      "source": [
        "# Encoding all the Input features  "
      ],
      "metadata": {
        "id": "W6kGaE6K8KeN"
      }
    },
    {
      "cell_type": "code",
      "source": [
        "OE = OrdinalEncoder()\n",
        "X = OE.fit_transform(df.iloc[:,1:])\n",
        "X"
      ],
      "metadata": {
        "colab": {
          "base_uri": "https://localhost:8080/"
        },
        "id": "7Wxm0eab9ILg",
        "outputId": "dd7389b4-289b-43f4-9cde-56b8bcf85a51"
      },
      "execution_count": null,
      "outputs": [
        {
          "output_type": "execute_result",
          "data": {
            "text/plain": [
              "array([[5., 2., 4., ..., 2., 3., 5.],\n",
              "       [5., 2., 9., ..., 3., 2., 1.],\n",
              "       [0., 2., 8., ..., 3., 2., 3.],\n",
              "       ...,\n",
              "       [2., 2., 4., ..., 0., 1., 2.],\n",
              "       [3., 3., 4., ..., 7., 4., 2.],\n",
              "       [5., 2., 4., ..., 4., 1., 2.]])"
            ]
          },
          "metadata": {},
          "execution_count": 5
        }
      ]
    },
    {
      "cell_type": "markdown",
      "source": [
        "# Encoding target feature"
      ],
      "metadata": {
        "id": "qsWGCLW38M5i"
      }
    },
    {
      "cell_type": "code",
      "source": [
        "LE = LabelEncoder()\n",
        "Y = LE.fit_transform(df['class'])\n",
        "Y"
      ],
      "metadata": {
        "colab": {
          "base_uri": "https://localhost:8080/"
        },
        "id": "S97Zoe0u-F1P",
        "outputId": "9a92ce37-27a7-4a2c-d0b7-1327b331e347"
      },
      "execution_count": null,
      "outputs": [
        {
          "output_type": "execute_result",
          "data": {
            "text/plain": [
              "array([1, 0, 0, ..., 0, 1, 0])"
            ]
          },
          "metadata": {},
          "execution_count": 6
        }
      ]
    },
    {
      "cell_type": "markdown",
      "source": [
        "# Splitting the data into Training Set , Testing Set & Validation Set"
      ],
      "metadata": {
        "id": "8-QWAKXn8Ox9"
      }
    },
    {
      "cell_type": "code",
      "source": [
        "from sklearn.model_selection import train_test_split\n",
        "X_train,X_test,Y_train,Y_test = train_test_split(X,Y,test_size=0.2,random_state=1)\n",
        "X_train,X_val,Y_train,Y_val = train_test_split(X_train,Y_train,test_size=0.1,random_state=1)"
      ],
      "metadata": {
        "id": "4eTlgnMMAw2t"
      },
      "execution_count": null,
      "outputs": []
    },
    {
      "cell_type": "markdown",
      "source": [
        "# Creating an object of early stopping to save the resources"
      ],
      "metadata": {
        "id": "pwdPBFiv8YXR"
      }
    },
    {
      "cell_type": "code",
      "source": [
        "ES = EarlyStopping(monitor='val_loss',mode='min',patience=8)"
      ],
      "metadata": {
        "id": "h_so33wNDH5l"
      },
      "execution_count": null,
      "outputs": []
    },
    {
      "cell_type": "code",
      "source": [
        "# obj of Sequential\n",
        "ann = Sequential()\n",
        "\n",
        "# adding input/hidden/dropout layers\n",
        "ann.add(Dense(8,activation='relu'))\n",
        "ann.add(Dropout(0.6))\n",
        "\n",
        "ann.add(Dense(6,activation='relu'))\n",
        "ann.add(Dropout(0.4))\n",
        "\n",
        "# Output layers\n",
        "ann.add(Dense(1,activation='sigmoid'))\n",
        "\n",
        "# compiling the model\n",
        "ann.compile(optimizer='adam',loss='binary_crossentropy',metrics=['accuracy'])\n",
        "\n",
        "# fitting the model\n",
        "ann.fit(X_train, Y_train, batch_size = 15, epochs = 200,callbacks=ES,validation_data=(X_val,Y_val))"
      ],
      "metadata": {
        "colab": {
          "base_uri": "https://localhost:8080/"
        },
        "id": "QZHAbmFM_1n4",
        "outputId": "75feb551-503a-4288-94d4-56d3864d0d97"
      },
      "execution_count": null,
      "outputs": [
        {
          "output_type": "stream",
          "name": "stdout",
          "text": [
            "Epoch 1/200\n",
            "390/390 [==============================] - 2s 3ms/step - loss: 0.8419 - accuracy: 0.5396 - val_loss: 0.6366 - val_accuracy: 0.7169\n",
            "Epoch 2/200\n",
            "390/390 [==============================] - 1s 2ms/step - loss: 0.6491 - accuracy: 0.5902 - val_loss: 0.5907 - val_accuracy: 0.7431\n",
            "Epoch 3/200\n",
            "390/390 [==============================] - 1s 2ms/step - loss: 0.6012 - accuracy: 0.6439 - val_loss: 0.5137 - val_accuracy: 0.7769\n",
            "Epoch 4/200\n",
            "390/390 [==============================] - 1s 2ms/step - loss: 0.5595 - accuracy: 0.6798 - val_loss: 0.4654 - val_accuracy: 0.8200\n",
            "Epoch 5/200\n",
            "390/390 [==============================] - 1s 3ms/step - loss: 0.5397 - accuracy: 0.6919 - val_loss: 0.4307 - val_accuracy: 0.8569\n",
            "Epoch 6/200\n",
            "390/390 [==============================] - 1s 3ms/step - loss: 0.5019 - accuracy: 0.7343 - val_loss: 0.3573 - val_accuracy: 0.8846\n",
            "Epoch 7/200\n",
            "390/390 [==============================] - 1s 2ms/step - loss: 0.4638 - accuracy: 0.7600 - val_loss: 0.3138 - val_accuracy: 0.8985\n",
            "Epoch 8/200\n",
            "390/390 [==============================] - 1s 3ms/step - loss: 0.4587 - accuracy: 0.7612 - val_loss: 0.3050 - val_accuracy: 0.9077\n",
            "Epoch 9/200\n",
            "390/390 [==============================] - 1s 2ms/step - loss: 0.4370 - accuracy: 0.7707 - val_loss: 0.2668 - val_accuracy: 0.9015\n",
            "Epoch 10/200\n",
            "390/390 [==============================] - 1s 4ms/step - loss: 0.4223 - accuracy: 0.7803 - val_loss: 0.2423 - val_accuracy: 0.9092\n",
            "Epoch 11/200\n",
            "390/390 [==============================] - 1s 4ms/step - loss: 0.4019 - accuracy: 0.7916 - val_loss: 0.2186 - val_accuracy: 0.9246\n",
            "Epoch 12/200\n",
            "390/390 [==============================] - 1s 2ms/step - loss: 0.3835 - accuracy: 0.8106 - val_loss: 0.1976 - val_accuracy: 0.9292\n",
            "Epoch 13/200\n",
            "390/390 [==============================] - 1s 3ms/step - loss: 0.3713 - accuracy: 0.8085 - val_loss: 0.1704 - val_accuracy: 0.9354\n",
            "Epoch 14/200\n",
            "390/390 [==============================] - 1s 3ms/step - loss: 0.3676 - accuracy: 0.8126 - val_loss: 0.1589 - val_accuracy: 0.9338\n",
            "Epoch 15/200\n",
            "390/390 [==============================] - 1s 2ms/step - loss: 0.3463 - accuracy: 0.8236 - val_loss: 0.1633 - val_accuracy: 0.9246\n",
            "Epoch 16/200\n",
            "390/390 [==============================] - 1s 3ms/step - loss: 0.3504 - accuracy: 0.8193 - val_loss: 0.1484 - val_accuracy: 0.9385\n",
            "Epoch 17/200\n",
            "390/390 [==============================] - 1s 3ms/step - loss: 0.3458 - accuracy: 0.8213 - val_loss: 0.1451 - val_accuracy: 0.9338\n",
            "Epoch 18/200\n",
            "390/390 [==============================] - 1s 3ms/step - loss: 0.3407 - accuracy: 0.8256 - val_loss: 0.1392 - val_accuracy: 0.9385\n",
            "Epoch 19/200\n",
            "390/390 [==============================] - 1s 3ms/step - loss: 0.3413 - accuracy: 0.8244 - val_loss: 0.1349 - val_accuracy: 0.9385\n",
            "Epoch 20/200\n",
            "390/390 [==============================] - 1s 3ms/step - loss: 0.3369 - accuracy: 0.8292 - val_loss: 0.1258 - val_accuracy: 0.9369\n",
            "Epoch 21/200\n",
            "390/390 [==============================] - 1s 3ms/step - loss: 0.3237 - accuracy: 0.8287 - val_loss: 0.1218 - val_accuracy: 0.9400\n",
            "Epoch 22/200\n",
            "390/390 [==============================] - 1s 4ms/step - loss: 0.3323 - accuracy: 0.8253 - val_loss: 0.1262 - val_accuracy: 0.9400\n",
            "Epoch 23/200\n",
            "390/390 [==============================] - 1s 3ms/step - loss: 0.3182 - accuracy: 0.8270 - val_loss: 0.1133 - val_accuracy: 0.9354\n",
            "Epoch 24/200\n",
            "390/390 [==============================] - 1s 2ms/step - loss: 0.3171 - accuracy: 0.8318 - val_loss: 0.1092 - val_accuracy: 0.9400\n",
            "Epoch 25/200\n",
            "390/390 [==============================] - 1s 3ms/step - loss: 0.3144 - accuracy: 0.8359 - val_loss: 0.1104 - val_accuracy: 0.9415\n",
            "Epoch 26/200\n",
            "390/390 [==============================] - 1s 3ms/step - loss: 0.3139 - accuracy: 0.8314 - val_loss: 0.1035 - val_accuracy: 0.9431\n",
            "Epoch 27/200\n",
            "390/390 [==============================] - 1s 3ms/step - loss: 0.3168 - accuracy: 0.8319 - val_loss: 0.1035 - val_accuracy: 0.9415\n",
            "Epoch 28/200\n",
            "390/390 [==============================] - 1s 3ms/step - loss: 0.3126 - accuracy: 0.8366 - val_loss: 0.0987 - val_accuracy: 0.9431\n",
            "Epoch 29/200\n",
            "390/390 [==============================] - 1s 3ms/step - loss: 0.3096 - accuracy: 0.8395 - val_loss: 0.0984 - val_accuracy: 0.9400\n",
            "Epoch 30/200\n",
            "390/390 [==============================] - 1s 3ms/step - loss: 0.3085 - accuracy: 0.8379 - val_loss: 0.1101 - val_accuracy: 0.9385\n",
            "Epoch 31/200\n",
            "390/390 [==============================] - 1s 3ms/step - loss: 0.3071 - accuracy: 0.8357 - val_loss: 0.1100 - val_accuracy: 0.9431\n",
            "Epoch 32/200\n",
            "390/390 [==============================] - 1s 3ms/step - loss: 0.3057 - accuracy: 0.8381 - val_loss: 0.1108 - val_accuracy: 0.9385\n",
            "Epoch 33/200\n",
            "390/390 [==============================] - 1s 4ms/step - loss: 0.3050 - accuracy: 0.8378 - val_loss: 0.0923 - val_accuracy: 0.9431\n",
            "Epoch 34/200\n",
            "390/390 [==============================] - 2s 4ms/step - loss: 0.3042 - accuracy: 0.8403 - val_loss: 0.1117 - val_accuracy: 0.9323\n",
            "Epoch 35/200\n",
            "390/390 [==============================] - 1s 3ms/step - loss: 0.3015 - accuracy: 0.8396 - val_loss: 0.0923 - val_accuracy: 0.9431\n",
            "Epoch 36/200\n",
            "390/390 [==============================] - 1s 3ms/step - loss: 0.2957 - accuracy: 0.8436 - val_loss: 0.0913 - val_accuracy: 0.9431\n",
            "Epoch 37/200\n",
            "390/390 [==============================] - 1s 3ms/step - loss: 0.3026 - accuracy: 0.8412 - val_loss: 0.0937 - val_accuracy: 0.9431\n",
            "Epoch 38/200\n",
            "390/390 [==============================] - 1s 3ms/step - loss: 0.2960 - accuracy: 0.8454 - val_loss: 0.0948 - val_accuracy: 0.9415\n",
            "Epoch 39/200\n",
            "390/390 [==============================] - 1s 3ms/step - loss: 0.2943 - accuracy: 0.8431 - val_loss: 0.0878 - val_accuracy: 0.9431\n",
            "Epoch 40/200\n",
            "390/390 [==============================] - 1s 2ms/step - loss: 0.3048 - accuracy: 0.8360 - val_loss: 0.1001 - val_accuracy: 0.9385\n",
            "Epoch 41/200\n",
            "390/390 [==============================] - 1s 3ms/step - loss: 0.3041 - accuracy: 0.8372 - val_loss: 0.0894 - val_accuracy: 0.9431\n",
            "Epoch 42/200\n",
            "390/390 [==============================] - 1s 3ms/step - loss: 0.2921 - accuracy: 0.8429 - val_loss: 0.1027 - val_accuracy: 0.9431\n",
            "Epoch 43/200\n",
            "390/390 [==============================] - 1s 3ms/step - loss: 0.2987 - accuracy: 0.8427 - val_loss: 0.0893 - val_accuracy: 0.9400\n",
            "Epoch 44/200\n",
            "390/390 [==============================] - 1s 4ms/step - loss: 0.2922 - accuracy: 0.8432 - val_loss: 0.0858 - val_accuracy: 0.9431\n",
            "Epoch 45/200\n",
            "390/390 [==============================] - 2s 4ms/step - loss: 0.2916 - accuracy: 0.8461 - val_loss: 0.0879 - val_accuracy: 0.9431\n",
            "Epoch 46/200\n",
            "390/390 [==============================] - 1s 4ms/step - loss: 0.2921 - accuracy: 0.8463 - val_loss: 0.0808 - val_accuracy: 0.9431\n",
            "Epoch 47/200\n",
            "390/390 [==============================] - 1s 4ms/step - loss: 0.2872 - accuracy: 0.8495 - val_loss: 0.0932 - val_accuracy: 0.9385\n",
            "Epoch 48/200\n",
            "390/390 [==============================] - 1s 3ms/step - loss: 0.2922 - accuracy: 0.8451 - val_loss: 0.0837 - val_accuracy: 0.9431\n",
            "Epoch 49/200\n",
            "390/390 [==============================] - 1s 3ms/step - loss: 0.2889 - accuracy: 0.8497 - val_loss: 0.0817 - val_accuracy: 0.9415\n",
            "Epoch 50/200\n",
            "390/390 [==============================] - 1s 3ms/step - loss: 0.2940 - accuracy: 0.8461 - val_loss: 0.0861 - val_accuracy: 0.9415\n",
            "Epoch 51/200\n",
            "390/390 [==============================] - 1s 3ms/step - loss: 0.2829 - accuracy: 0.8523 - val_loss: 0.0867 - val_accuracy: 0.9431\n",
            "Epoch 52/200\n",
            "390/390 [==============================] - 1s 3ms/step - loss: 0.2862 - accuracy: 0.8495 - val_loss: 0.0944 - val_accuracy: 0.9415\n",
            "Epoch 53/200\n",
            "390/390 [==============================] - 1s 3ms/step - loss: 0.2872 - accuracy: 0.8504 - val_loss: 0.0892 - val_accuracy: 0.9431\n",
            "Epoch 54/200\n",
            "390/390 [==============================] - 1s 3ms/step - loss: 0.2922 - accuracy: 0.8439 - val_loss: 0.0835 - val_accuracy: 0.9431\n"
          ]
        },
        {
          "output_type": "execute_result",
          "data": {
            "text/plain": [
              "<keras.callbacks.History at 0x7f552f6722e0>"
            ]
          },
          "metadata": {},
          "execution_count": 15
        }
      ]
    },
    {
      "cell_type": "markdown",
      "source": [
        "# Visualization of Loss/Accuracy w.r.t Epochs"
      ],
      "metadata": {
        "id": "SO_1KZJv8uAu"
      }
    },
    {
      "cell_type": "code",
      "source": [
        "  # as the loss and accuracy goes parallely they will take muchmore time to converge with each other \n",
        "  lossdf = pd.DataFrame(ann.history.history)\n",
        "  lossdf.plot()"
      ],
      "metadata": {
        "colab": {
          "base_uri": "https://localhost:8080/",
          "height": 283
        },
        "id": "SrEYpZvRBk9r",
        "outputId": "606db0c3-95a5-4bfd-d305-bc8f4d3a10b9"
      },
      "execution_count": null,
      "outputs": [
        {
          "output_type": "execute_result",
          "data": {
            "text/plain": [
              "<AxesSubplot:>"
            ]
          },
          "metadata": {},
          "execution_count": 16
        },
        {
          "output_type": "display_data",
          "data": {
            "text/plain": [
              "<Figure size 432x288 with 1 Axes>"
            ],
            "image/png": "[encoded data removed]"
          },
          "metadata": {
            "needs_background": "light"
          }
        }
      ]
    },
    {
      "cell_type": "code",
      "source": [
        "Y_pred = ann.predict(X_test)"
      ],
      "metadata": {
        "colab": {
          "base_uri": "https://localhost:8080/"
        },
        "id": "UkzWFl8_AEtT",
        "outputId": "72a068d2-33db-4e1f-b6cd-99159b02ad2f"
      },
      "execution_count": null,
      "outputs": [
        {
          "output_type": "stream",
          "name": "stdout",
          "text": [
            "51/51 [==============================] - 0s 2ms/step\n"
          ]
        }
      ]
    },
    {
      "cell_type": "code",
      "source": [
        "Y_pred"
      ],
      "metadata": {
        "colab": {
          "base_uri": "https://localhost:8080/"
        },
        "id": "hf8v952ZCVQU",
        "outputId": "7b970276-fc92-4848-c71f-2665c4842ca6"
      },
      "execution_count": null,
      "outputs": [
        {
          "output_type": "execute_result",
          "data": {
            "text/plain": [
              "array([[4.36508708e-05],\n",
              "       [9.79568183e-01],\n",
              "       [9.98299718e-01],\n",
              "       ...,\n",
              "       [1.00000000e+00],\n",
              "       [1.13329556e-07],\n",
              "       [1.44340023e-02]], dtype=float32)"
            ]
          },
          "metadata": {},
          "execution_count": 18
        }
      ]
    },
    {
      "cell_type": "code",
      "source": [
        "Y_pred = np.where(Y_pred>0.5,1,0)"
      ],
      "metadata": {
        "id": "fkpwHjMMCJii"
      },
      "execution_count": null,
      "outputs": []
    },
    {
      "cell_type": "markdown",
      "source": [
        "# Classification report"
      ],
      "metadata": {
        "id": "NvMbR1de8myv"
      }
    },
    {
      "cell_type": "code",
      "source": [
        "print(classification_report(Y_test,Y_pred))"
      ],
      "metadata": {
        "colab": {
          "base_uri": "https://localhost:8080/"
        },
        "id": "U_gDmYfyAKQ_",
        "outputId": "d3ffb861-e045-4f75-efd9-9dfa0fa74b18"
      },
      "execution_count": null,
      "outputs": [
        {
          "output_type": "stream",
          "name": "stdout",
          "text": [
            "              precision    recall  f1-score   support\n",
            "\n",
            "           0       0.92      1.00      0.96       820\n",
            "           1       1.00      0.91      0.95       805\n",
            "\n",
            "    accuracy                           0.95      1625\n",
            "   macro avg       0.96      0.95      0.95      1625\n",
            "weighted avg       0.96      0.95      0.95      1625\n",
            "\n"
          ]
        }
      ]
    },
    {
      "cell_type": "code",
      "source": [],
      "metadata": {
        "id": "8DatF8m4Czfv"
      },
      "execution_count": null,
      "outputs": []
    }
  ]
}